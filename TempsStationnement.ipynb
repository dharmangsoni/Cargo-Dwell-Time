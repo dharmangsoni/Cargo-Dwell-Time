{
 "cells": [
  {
   "cell_type": "markdown",
   "metadata": {},
   "source": [
    "<img src='images/bc.png'>"
   ]
  },
  {
   "cell_type": "markdown",
   "metadata": {},
   "source": [
    "<center><h1> Prédire le temps de stationnement des conteneurs </h1></center>"
   ]
  },
  {
   "cell_type": "markdown",
   "metadata": {},
   "source": [
    "# Contexte\n",
    "\n",
    "Plus de 80% des biens consommés dans le monde sont transportés par voie maritime dans des conteneurs.\n",
    "L’invention du conteneur n’est pas moins que la plus grande révolution de notre société moderne depuis\n",
    "l’avènement d’internet. Il est à la base de notre ”supply chain” moderne et de la mondialisation qui s’est\n",
    "produite ces 30 dernières années.\n",
    "Chaque jour, des millions de conteneurs sont chargés et déchargés des navires de marchandises. A l’importation,\n",
    "les opérateurs de terminaux portuaires déchargent les conteneurs des navires et les stockent sur un parc à\n",
    "conteneur en attendant leur sortie par camion. Dès la sortie du navire, on souhaite placer les conteneurs en\n",
    "fonction de leur ordre de sortie afin d’éviter tout mouvement improductif de conteneur. Etant donné que le\n",
    "port n’a aucune visibilité sur l’arrivée des camions (chaque camion vient chercher un conteneur qui lui est\n",
    "attitré), vous souhaitez prédire la durée de stationnement des conteneurs sur le parc afin de déterminer le\n",
    "moment de leur sortie."
   ]
  },
  {
   "cell_type": "markdown",
   "metadata": {
    "ExecuteTime": {
     "end_time": "2019-01-14T23:44:51.449579Z",
     "start_time": "2019-01-14T23:42:12.753Z"
    }
   },
   "source": [
    "<img src='images/conteneurs.jpg'>"
   ]
  },
  {
   "cell_type": "markdown",
   "metadata": {},
   "source": [
    "# Description des données\n",
    "- id container : référence du conteneur\n",
    "- feet : longueur du conteneur\n",
    "- reefer : conteneur réfrigéré ou non\n",
    "- hazardous : conteneur dangereux ou non\n",
    "- weight : poids du conteneur\n",
    "- estimated time arrival : date d’arrivée des conteneurs estimée\n",
    "- actual time arrival : date d’arrivée des conteneurs effective\n",
    "- id port call : référence de l’escale du navire\n",
    "- shipping line : compagnie maritime\n",
    "- freight forwarder : transitaire (responsable du transport depuis l’origine jusqu’au client final)\n",
    "- trucking company : compagnie de transport routier\n",
    "- final destination : destination finale\n",
    "- dwelltime : temps de stationnement des conteneurs (heures)"
   ]
  },
  {
   "cell_type": "code",
   "execution_count": 1,
   "metadata": {
    "ExecuteTime": {
     "end_time": "2019-01-15T17:46:17.116533Z",
     "start_time": "2019-01-15T17:46:11.448406Z"
    }
   },
   "outputs": [
    {
     "name": "stderr",
     "output_type": "stream",
     "text": [
      "/anaconda3/lib/python3.6/site-packages/sklearn/ensemble/weight_boosting.py:29: DeprecationWarning: numpy.core.umath_tests is an internal NumPy module and should not be imported. It will be removed in a future NumPy release.\n",
      "  from numpy.core.umath_tests import inner1d\n",
      "/anaconda3/lib/python3.6/site-packages/h5py/__init__.py:36: FutureWarning: Conversion of the second argument of issubdtype from `float` to `np.floating` is deprecated. In future, it will be treated as `np.float64 == np.dtype(float).type`.\n",
      "  from ._conv import register_converters as _register_converters\n",
      "Using TensorFlow backend.\n",
      "/anaconda3/lib/python3.6/site-packages/requests/__init__.py:80: RequestsDependencyWarning: urllib3 (1.21.1) or chardet (2.3.0) doesn't match a supported version!\n",
      "  RequestsDependencyWarning)\n",
      "/anaconda3/lib/python3.6/site-packages/ggplot/utils.py:81: FutureWarning: pandas.tslib is deprecated and will be removed in a future version.\n",
      "You can access Timestamp as pandas.Timestamp\n",
      "  pd.tslib.Timestamp,\n"
     ]
    }
   ],
   "source": [
    "### Imports ###\n",
    "import pandas as pd\n",
    "import numpy as np\n",
    "import matplotlib.pyplot as plt\n",
    "import seaborn as sns\n",
    "\n",
    "### Model ###\n",
    "from sklearn.model_selection import train_test_split\n",
    "from sklearn import preprocessing\n",
    "from sklearn.preprocessing import OneHotEncoder\n",
    "from sklearn.ensemble import RandomForestRegressor\n",
    "from sklearn.neighbors import KNeighborsRegressor\n",
    "import xgboost as xgb\n",
    "from keras.models import model_from_json\n",
    "from keras.models import Sequential\n",
    "from keras.layers import Dense\n",
    "from keras.layers import Dropout\n",
    "from keras.wrappers.scikit_learn import KerasClassifier\n",
    "from keras.constraints import maxnorm\n",
    "from keras.optimizers import SGD\n",
    "from keras.layers.normalization import BatchNormalization\n",
    "from keras.layers.advanced_activations import LeakyReLU, PReLU\n",
    "\n",
    "### Principal Component Analysis ###\n",
    "import json\n",
    "import gzip\n",
    "from sklearn.decomposition import PCA\n",
    "from scipy import cluster\n",
    "from scipy.cluster.hierarchy import linkage, dendrogram\n",
    "from scipy.spatial.distance import pdist\n",
    "from scipy.stats import chi2_contingency, pearsonr\n",
    "from itertools import combinations\n",
    "import sys\n",
    "sys.path.append(\"lib\")\n",
    "from sklearn import decomposition\n",
    "from sklearn.manifold import TSNE\n",
    "from ggplot import *\n",
    "from sklearn.manifold import TSNE"
   ]
  },
  {
   "cell_type": "code",
   "execution_count": 250,
   "metadata": {
    "ExecuteTime": {
     "end_time": "2019-01-15T18:51:44.624105Z",
     "start_time": "2019-01-15T18:51:44.562992Z"
    }
   },
   "outputs": [],
   "source": [
    "df_train = pd.read_csv(\"visits_train.csv\").drop(['Unnamed: 0'], axis=1)\n",
    "df_test = pd.read_csv(\"visits_test.csv\").drop(['Unnamed: 0'], axis=1)"
   ]
  },
  {
   "cell_type": "code",
   "execution_count": 251,
   "metadata": {
    "ExecuteTime": {
     "end_time": "2019-01-15T18:51:44.769646Z",
     "start_time": "2019-01-15T18:51:44.756539Z"
    }
   },
   "outputs": [
    {
     "data": {
      "text/plain": [
       "(13596, 13)"
      ]
     },
     "execution_count": 251,
     "metadata": {},
     "output_type": "execute_result"
    }
   ],
   "source": [
    "df_train.shape"
   ]
  },
  {
   "cell_type": "code",
   "execution_count": 252,
   "metadata": {
    "ExecuteTime": {
     "end_time": "2019-01-15T18:51:44.950661Z",
     "start_time": "2019-01-15T18:51:44.945300Z"
    }
   },
   "outputs": [
    {
     "data": {
      "text/plain": [
       "(1183, 12)"
      ]
     },
     "execution_count": 252,
     "metadata": {},
     "output_type": "execute_result"
    }
   ],
   "source": [
    "df_test.shape"
   ]
  },
  {
   "cell_type": "code",
   "execution_count": 253,
   "metadata": {
    "ExecuteTime": {
     "end_time": "2019-01-15T18:51:45.197578Z",
     "start_time": "2019-01-15T18:51:45.117604Z"
    }
   },
   "outputs": [
    {
     "data": {
      "text/html": [
       "<div>\n",
       "<style scoped>\n",
       "    .dataframe tbody tr th:only-of-type {\n",
       "        vertical-align: middle;\n",
       "    }\n",
       "\n",
       "    .dataframe tbody tr th {\n",
       "        vertical-align: top;\n",
       "    }\n",
       "\n",
       "    .dataframe thead th {\n",
       "        text-align: right;\n",
       "    }\n",
       "</style>\n",
       "<table border=\"1\" class=\"dataframe\">\n",
       "  <thead>\n",
       "    <tr style=\"text-align: right;\">\n",
       "      <th></th>\n",
       "      <th>id_container</th>\n",
       "      <th>feet</th>\n",
       "      <th>reefer</th>\n",
       "      <th>hazardous</th>\n",
       "      <th>weight</th>\n",
       "      <th>estimated_time_arrival</th>\n",
       "      <th>actual_time_arrival</th>\n",
       "      <th>id_port_call</th>\n",
       "      <th>shipping_line</th>\n",
       "      <th>freight_forwarder</th>\n",
       "      <th>trucking_company</th>\n",
       "      <th>final_destination</th>\n",
       "    </tr>\n",
       "  </thead>\n",
       "  <tbody>\n",
       "    <tr>\n",
       "      <th>0</th>\n",
       "      <td>AMCU9297612</td>\n",
       "      <td>45</td>\n",
       "      <td>1.0</td>\n",
       "      <td>NaN</td>\n",
       "      <td>31978.0</td>\n",
       "      <td>15/02/2017</td>\n",
       "      <td>15/02/2017</td>\n",
       "      <td>19381S</td>\n",
       "      <td>CMA</td>\n",
       "      <td>FAUVE</td>\n",
       "      <td>HINTERLAND</td>\n",
       "      <td>MONTOIR DE BRETAGNE</td>\n",
       "    </tr>\n",
       "    <tr>\n",
       "      <th>1</th>\n",
       "      <td>MRKU9718477</td>\n",
       "      <td>20</td>\n",
       "      <td>NaN</td>\n",
       "      <td>NaN</td>\n",
       "      <td>21141.0</td>\n",
       "      <td>30/12/2016</td>\n",
       "      <td>30/12/2016</td>\n",
       "      <td>16A1</td>\n",
       "      <td>BGFREIGHT</td>\n",
       "      <td>JAS</td>\n",
       "      <td>LOGAFRET</td>\n",
       "      <td>COUERON</td>\n",
       "    </tr>\n",
       "    <tr>\n",
       "      <th>2</th>\n",
       "      <td>MRKU3391638</td>\n",
       "      <td>45</td>\n",
       "      <td>NaN</td>\n",
       "      <td>NaN</td>\n",
       "      <td>10323.0</td>\n",
       "      <td>30/12/2016</td>\n",
       "      <td>30/12/2016</td>\n",
       "      <td>16A1</td>\n",
       "      <td>BGFREIGHT</td>\n",
       "      <td>DAHER</td>\n",
       "      <td>NAUL</td>\n",
       "      <td>ST PIERRE MONTLIMART</td>\n",
       "    </tr>\n",
       "    <tr>\n",
       "      <th>3</th>\n",
       "      <td>MSKU0794884</td>\n",
       "      <td>40</td>\n",
       "      <td>NaN</td>\n",
       "      <td>NaN</td>\n",
       "      <td>10778.0</td>\n",
       "      <td>NaN</td>\n",
       "      <td>30/12/2016</td>\n",
       "      <td>16A1</td>\n",
       "      <td>BGFREIGHT</td>\n",
       "      <td>DAHER</td>\n",
       "      <td>NAUL</td>\n",
       "      <td>ST PIERRE MONTLIMART</td>\n",
       "    </tr>\n",
       "    <tr>\n",
       "      <th>4</th>\n",
       "      <td>TEMU2871681</td>\n",
       "      <td>20</td>\n",
       "      <td>NaN</td>\n",
       "      <td>NaN</td>\n",
       "      <td>5200.0</td>\n",
       "      <td>30/12/2016</td>\n",
       "      <td>30/12/2016</td>\n",
       "      <td>095ACR</td>\n",
       "      <td>CMA</td>\n",
       "      <td>MTTM</td>\n",
       "      <td>NAUL</td>\n",
       "      <td>X</td>\n",
       "    </tr>\n",
       "    <tr>\n",
       "      <th>5</th>\n",
       "      <td>MSKU1413621</td>\n",
       "      <td>40</td>\n",
       "      <td>NaN</td>\n",
       "      <td>NaN</td>\n",
       "      <td>6944.0</td>\n",
       "      <td>30/12/2016</td>\n",
       "      <td>30/12/2016</td>\n",
       "      <td>16A1</td>\n",
       "      <td>BGFREIGHT</td>\n",
       "      <td>DAHER</td>\n",
       "      <td>SARRION</td>\n",
       "      <td>ST MICHEL</td>\n",
       "    </tr>\n",
       "    <tr>\n",
       "      <th>6</th>\n",
       "      <td>ECMU1873953</td>\n",
       "      <td>20</td>\n",
       "      <td>NaN</td>\n",
       "      <td>NaN</td>\n",
       "      <td>23763.0</td>\n",
       "      <td>30/12/2016</td>\n",
       "      <td>30/12/2016</td>\n",
       "      <td>095ACR</td>\n",
       "      <td>CMA</td>\n",
       "      <td>SOGEB</td>\n",
       "      <td>AVRIL</td>\n",
       "      <td>ST AIGNAN</td>\n",
       "    </tr>\n",
       "    <tr>\n",
       "      <th>7</th>\n",
       "      <td>FCIU5679677</td>\n",
       "      <td>20</td>\n",
       "      <td>NaN</td>\n",
       "      <td>NaN</td>\n",
       "      <td>23997.0</td>\n",
       "      <td>30/12/2016</td>\n",
       "      <td>30/12/2016</td>\n",
       "      <td>095ACR</td>\n",
       "      <td>CMA</td>\n",
       "      <td>SOGEB</td>\n",
       "      <td>AVRIL</td>\n",
       "      <td>ST AIGNAN</td>\n",
       "    </tr>\n",
       "    <tr>\n",
       "      <th>8</th>\n",
       "      <td>TCLU7463031</td>\n",
       "      <td>20</td>\n",
       "      <td>NaN</td>\n",
       "      <td>NaN</td>\n",
       "      <td>NaN</td>\n",
       "      <td>30/12/2016</td>\n",
       "      <td>30/12/2016</td>\n",
       "      <td>095ACR</td>\n",
       "      <td>CMA</td>\n",
       "      <td>SOGEB</td>\n",
       "      <td>AVRIL</td>\n",
       "      <td>ST AIGNAN</td>\n",
       "    </tr>\n",
       "    <tr>\n",
       "      <th>9</th>\n",
       "      <td>TEMU2298456</td>\n",
       "      <td>20</td>\n",
       "      <td>NaN</td>\n",
       "      <td>1.0</td>\n",
       "      <td>9020.0</td>\n",
       "      <td>30/12/2016</td>\n",
       "      <td>30/12/2016</td>\n",
       "      <td>095ACR</td>\n",
       "      <td>CMA</td>\n",
       "      <td>LEON</td>\n",
       "      <td>SARRION</td>\n",
       "      <td>X</td>\n",
       "    </tr>\n",
       "    <tr>\n",
       "      <th>10</th>\n",
       "      <td>MSKU8946690</td>\n",
       "      <td>40</td>\n",
       "      <td>NaN</td>\n",
       "      <td>NaN</td>\n",
       "      <td>13392.0</td>\n",
       "      <td>30/12/2016</td>\n",
       "      <td>30/12/2016</td>\n",
       "      <td>16A1</td>\n",
       "      <td>BGFREIGHT</td>\n",
       "      <td>GEODIS</td>\n",
       "      <td>GORRON</td>\n",
       "      <td>X</td>\n",
       "    </tr>\n",
       "    <tr>\n",
       "      <th>11</th>\n",
       "      <td>XINU1385232</td>\n",
       "      <td>20</td>\n",
       "      <td>NaN</td>\n",
       "      <td>NaN</td>\n",
       "      <td>23763.0</td>\n",
       "      <td>30/12/2016</td>\n",
       "      <td>30/12/2016</td>\n",
       "      <td>095ACR</td>\n",
       "      <td>CMA</td>\n",
       "      <td>SOGEB</td>\n",
       "      <td>AVRIL</td>\n",
       "      <td>ST AIGNAN</td>\n",
       "    </tr>\n",
       "    <tr>\n",
       "      <th>12</th>\n",
       "      <td>CMAU0747048</td>\n",
       "      <td>20</td>\n",
       "      <td>NaN</td>\n",
       "      <td>NaN</td>\n",
       "      <td>23587.0</td>\n",
       "      <td>30/12/2016</td>\n",
       "      <td>30/12/2016</td>\n",
       "      <td>095ACR</td>\n",
       "      <td>CMA</td>\n",
       "      <td>SOGEB</td>\n",
       "      <td>AVRIL</td>\n",
       "      <td>ST AIGNAN</td>\n",
       "    </tr>\n",
       "    <tr>\n",
       "      <th>13</th>\n",
       "      <td>CMAU0312615</td>\n",
       "      <td>20</td>\n",
       "      <td>NaN</td>\n",
       "      <td>NaN</td>\n",
       "      <td>23792.0</td>\n",
       "      <td>30/12/2016</td>\n",
       "      <td>30/12/2016</td>\n",
       "      <td>095ACR</td>\n",
       "      <td>CMA</td>\n",
       "      <td>SOGEB</td>\n",
       "      <td>AVRIL</td>\n",
       "      <td>NANTES</td>\n",
       "    </tr>\n",
       "    <tr>\n",
       "      <th>14</th>\n",
       "      <td>MSKU8652470</td>\n",
       "      <td>45</td>\n",
       "      <td>NaN</td>\n",
       "      <td>NaN</td>\n",
       "      <td>8892.0</td>\n",
       "      <td>30/12/2016</td>\n",
       "      <td>30/12/2016</td>\n",
       "      <td>16A1</td>\n",
       "      <td>BGFREIGHT</td>\n",
       "      <td>DAHER</td>\n",
       "      <td>NAUL</td>\n",
       "      <td>TILLIERES</td>\n",
       "    </tr>\n",
       "  </tbody>\n",
       "</table>\n",
       "</div>"
      ],
      "text/plain": [
       "   id_container  feet  reefer  hazardous   weight estimated_time_arrival  \\\n",
       "0   AMCU9297612    45     1.0        NaN  31978.0             15/02/2017   \n",
       "1   MRKU9718477    20     NaN        NaN  21141.0             30/12/2016   \n",
       "2   MRKU3391638    45     NaN        NaN  10323.0             30/12/2016   \n",
       "3   MSKU0794884    40     NaN        NaN  10778.0                    NaN   \n",
       "4   TEMU2871681    20     NaN        NaN   5200.0             30/12/2016   \n",
       "5   MSKU1413621    40     NaN        NaN   6944.0             30/12/2016   \n",
       "6   ECMU1873953    20     NaN        NaN  23763.0             30/12/2016   \n",
       "7   FCIU5679677    20     NaN        NaN  23997.0             30/12/2016   \n",
       "8   TCLU7463031    20     NaN        NaN      NaN             30/12/2016   \n",
       "9   TEMU2298456    20     NaN        1.0   9020.0             30/12/2016   \n",
       "10  MSKU8946690    40     NaN        NaN  13392.0             30/12/2016   \n",
       "11  XINU1385232    20     NaN        NaN  23763.0             30/12/2016   \n",
       "12  CMAU0747048    20     NaN        NaN  23587.0             30/12/2016   \n",
       "13  CMAU0312615    20     NaN        NaN  23792.0             30/12/2016   \n",
       "14  MSKU8652470    45     NaN        NaN   8892.0             30/12/2016   \n",
       "\n",
       "   actual_time_arrival id_port_call shipping_line freight_forwarder  \\\n",
       "0           15/02/2017       19381S           CMA             FAUVE   \n",
       "1           30/12/2016         16A1     BGFREIGHT               JAS   \n",
       "2           30/12/2016         16A1     BGFREIGHT             DAHER   \n",
       "3           30/12/2016         16A1     BGFREIGHT             DAHER   \n",
       "4           30/12/2016       095ACR           CMA              MTTM   \n",
       "5           30/12/2016         16A1     BGFREIGHT             DAHER   \n",
       "6           30/12/2016       095ACR           CMA             SOGEB   \n",
       "7           30/12/2016       095ACR           CMA             SOGEB   \n",
       "8           30/12/2016       095ACR           CMA             SOGEB   \n",
       "9           30/12/2016       095ACR           CMA              LEON   \n",
       "10          30/12/2016         16A1     BGFREIGHT            GEODIS   \n",
       "11          30/12/2016       095ACR           CMA             SOGEB   \n",
       "12          30/12/2016       095ACR           CMA             SOGEB   \n",
       "13          30/12/2016       095ACR           CMA             SOGEB   \n",
       "14          30/12/2016         16A1     BGFREIGHT             DAHER   \n",
       "\n",
       "   trucking_company     final_destination  \n",
       "0        HINTERLAND   MONTOIR DE BRETAGNE  \n",
       "1          LOGAFRET               COUERON  \n",
       "2              NAUL  ST PIERRE MONTLIMART  \n",
       "3              NAUL  ST PIERRE MONTLIMART  \n",
       "4              NAUL                     X  \n",
       "5           SARRION             ST MICHEL  \n",
       "6             AVRIL             ST AIGNAN  \n",
       "7             AVRIL             ST AIGNAN  \n",
       "8             AVRIL             ST AIGNAN  \n",
       "9           SARRION                     X  \n",
       "10           GORRON                     X  \n",
       "11            AVRIL             ST AIGNAN  \n",
       "12            AVRIL             ST AIGNAN  \n",
       "13            AVRIL                NANTES  \n",
       "14             NAUL             TILLIERES  "
      ]
     },
     "execution_count": 253,
     "metadata": {},
     "output_type": "execute_result"
    }
   ],
   "source": [
    "df = pd.concat([df_train.drop(['dwelltime'], axis=1), df_test], axis=0).reset_index(drop=True)\n",
    "df.head(15)"
   ]
  },
  {
   "cell_type": "code",
   "execution_count": 254,
   "metadata": {
    "ExecuteTime": {
     "end_time": "2019-01-15T18:51:45.421697Z",
     "start_time": "2019-01-15T18:51:45.413989Z"
    }
   },
   "outputs": [
    {
     "data": {
      "text/plain": [
       "(14779, 12)"
      ]
     },
     "execution_count": 254,
     "metadata": {},
     "output_type": "execute_result"
    }
   ],
   "source": [
    "df.shape"
   ]
  },
  {
   "cell_type": "markdown",
   "metadata": {},
   "source": [
    "# Instructions\n",
    "\n",
    "1. *Identifier une visite* : \n",
    "Un conteneur (en tant que boite) peut revenir plusieurs fois dans l’année, vous devrez donc comprendre comment identifer une ”visite”.\n",
    "\n",
    "2. *Prédire le temps de stationnement* :\n",
    "Vous devrez créer un modèle permettant de prédire le temps de stationnement pour les visites du fichier de\n",
    "test. Vous chercherez à estimer l’intervalle de confiance de vos prédictions. Vous choisirez la métrique MAPE\n",
    "(Mean Absolute Pourcentage Error) afin de juger et optimiser la performance de vos prédictions. En effet, il\n",
    "est important de minimiser les erreurs en pourcentage de la durée de stationnement afin de pas être pénalisé\n",
    "par les trop grandes valeurs."
   ]
  },
  {
   "cell_type": "markdown",
   "metadata": {},
   "source": [
    "# Analyse exploratoire"
   ]
  },
  {
   "cell_type": "markdown",
   "metadata": {},
   "source": [
    "## Traiter les valeurs manquantes"
   ]
  },
  {
   "cell_type": "markdown",
   "metadata": {},
   "source": [
    "Commençons par estimer le nombre de valeurs manquantes :"
   ]
  },
  {
   "cell_type": "code",
   "execution_count": 255,
   "metadata": {
    "ExecuteTime": {
     "end_time": "2019-01-15T18:51:46.474774Z",
     "start_time": "2019-01-15T18:51:46.455740Z"
    }
   },
   "outputs": [
    {
     "data": {
      "text/plain": [
       "id_container                  0\n",
       "feet                          0\n",
       "reefer                    14613\n",
       "hazardous                 14483\n",
       "weight                     1448\n",
       "estimated_time_arrival      298\n",
       "actual_time_arrival           0\n",
       "id_port_call                  0\n",
       "shipping_line                 0\n",
       "freight_forwarder           125\n",
       "trucking_company              0\n",
       "final_destination             0\n",
       "dtype: int64"
      ]
     },
     "execution_count": 255,
     "metadata": {},
     "output_type": "execute_result"
    }
   ],
   "source": [
    "df.isnull().sum()"
   ]
  },
  {
   "cell_type": "markdown",
   "metadata": {},
   "source": [
    "Premièrement, il faut traiter les valeurs manquantes :\n",
    "- mettre des 0 dans les colonnes reefer et hazardous\n",
    "- remplacer les poids manquants par des valeurs moyennes\n",
    "- remplacer le temps d'arrivée estimé par la date actuelle d'arrviée moins le temps moyen entre ces deux dates\n",
    "- remplacer les companies de fret manquantes par une catégorie additionnelle"
   ]
  },
  {
   "cell_type": "markdown",
   "metadata": {},
   "source": [
    "### Reefer, Hazardous"
   ]
  },
  {
   "cell_type": "code",
   "execution_count": 256,
   "metadata": {
    "ExecuteTime": {
     "end_time": "2019-01-15T18:51:46.967164Z",
     "start_time": "2019-01-15T18:51:46.961054Z"
    }
   },
   "outputs": [],
   "source": [
    "df['reefer'] = df['reefer'].fillna(0)\n",
    "df['hazardous'] = df['hazardous'].fillna(0)"
   ]
  },
  {
   "cell_type": "code",
   "execution_count": 257,
   "metadata": {
    "ExecuteTime": {
     "end_time": "2019-01-15T18:51:47.191795Z",
     "start_time": "2019-01-15T18:51:47.163060Z"
    }
   },
   "outputs": [
    {
     "data": {
      "text/html": [
       "<div>\n",
       "<style scoped>\n",
       "    .dataframe tbody tr th:only-of-type {\n",
       "        vertical-align: middle;\n",
       "    }\n",
       "\n",
       "    .dataframe tbody tr th {\n",
       "        vertical-align: top;\n",
       "    }\n",
       "\n",
       "    .dataframe thead th {\n",
       "        text-align: right;\n",
       "    }\n",
       "</style>\n",
       "<table border=\"1\" class=\"dataframe\">\n",
       "  <thead>\n",
       "    <tr style=\"text-align: right;\">\n",
       "      <th></th>\n",
       "      <th>id_container</th>\n",
       "      <th>feet</th>\n",
       "      <th>reefer</th>\n",
       "      <th>hazardous</th>\n",
       "      <th>weight</th>\n",
       "      <th>estimated_time_arrival</th>\n",
       "      <th>actual_time_arrival</th>\n",
       "      <th>id_port_call</th>\n",
       "      <th>shipping_line</th>\n",
       "      <th>freight_forwarder</th>\n",
       "      <th>trucking_company</th>\n",
       "      <th>final_destination</th>\n",
       "    </tr>\n",
       "  </thead>\n",
       "  <tbody>\n",
       "    <tr>\n",
       "      <th>0</th>\n",
       "      <td>AMCU9297612</td>\n",
       "      <td>45</td>\n",
       "      <td>1.0</td>\n",
       "      <td>0.0</td>\n",
       "      <td>31978.0</td>\n",
       "      <td>15/02/2017</td>\n",
       "      <td>15/02/2017</td>\n",
       "      <td>19381S</td>\n",
       "      <td>CMA</td>\n",
       "      <td>FAUVE</td>\n",
       "      <td>HINTERLAND</td>\n",
       "      <td>MONTOIR DE BRETAGNE</td>\n",
       "    </tr>\n",
       "    <tr>\n",
       "      <th>1</th>\n",
       "      <td>MRKU9718477</td>\n",
       "      <td>20</td>\n",
       "      <td>0.0</td>\n",
       "      <td>0.0</td>\n",
       "      <td>21141.0</td>\n",
       "      <td>30/12/2016</td>\n",
       "      <td>30/12/2016</td>\n",
       "      <td>16A1</td>\n",
       "      <td>BGFREIGHT</td>\n",
       "      <td>JAS</td>\n",
       "      <td>LOGAFRET</td>\n",
       "      <td>COUERON</td>\n",
       "    </tr>\n",
       "    <tr>\n",
       "      <th>2</th>\n",
       "      <td>MRKU3391638</td>\n",
       "      <td>45</td>\n",
       "      <td>0.0</td>\n",
       "      <td>0.0</td>\n",
       "      <td>10323.0</td>\n",
       "      <td>30/12/2016</td>\n",
       "      <td>30/12/2016</td>\n",
       "      <td>16A1</td>\n",
       "      <td>BGFREIGHT</td>\n",
       "      <td>DAHER</td>\n",
       "      <td>NAUL</td>\n",
       "      <td>ST PIERRE MONTLIMART</td>\n",
       "    </tr>\n",
       "    <tr>\n",
       "      <th>3</th>\n",
       "      <td>MSKU0794884</td>\n",
       "      <td>40</td>\n",
       "      <td>0.0</td>\n",
       "      <td>0.0</td>\n",
       "      <td>10778.0</td>\n",
       "      <td>NaN</td>\n",
       "      <td>30/12/2016</td>\n",
       "      <td>16A1</td>\n",
       "      <td>BGFREIGHT</td>\n",
       "      <td>DAHER</td>\n",
       "      <td>NAUL</td>\n",
       "      <td>ST PIERRE MONTLIMART</td>\n",
       "    </tr>\n",
       "    <tr>\n",
       "      <th>4</th>\n",
       "      <td>TEMU2871681</td>\n",
       "      <td>20</td>\n",
       "      <td>0.0</td>\n",
       "      <td>0.0</td>\n",
       "      <td>5200.0</td>\n",
       "      <td>30/12/2016</td>\n",
       "      <td>30/12/2016</td>\n",
       "      <td>095ACR</td>\n",
       "      <td>CMA</td>\n",
       "      <td>MTTM</td>\n",
       "      <td>NAUL</td>\n",
       "      <td>X</td>\n",
       "    </tr>\n",
       "  </tbody>\n",
       "</table>\n",
       "</div>"
      ],
      "text/plain": [
       "  id_container  feet  reefer  hazardous   weight estimated_time_arrival  \\\n",
       "0  AMCU9297612    45     1.0        0.0  31978.0             15/02/2017   \n",
       "1  MRKU9718477    20     0.0        0.0  21141.0             30/12/2016   \n",
       "2  MRKU3391638    45     0.0        0.0  10323.0             30/12/2016   \n",
       "3  MSKU0794884    40     0.0        0.0  10778.0                    NaN   \n",
       "4  TEMU2871681    20     0.0        0.0   5200.0             30/12/2016   \n",
       "\n",
       "  actual_time_arrival id_port_call shipping_line freight_forwarder  \\\n",
       "0          15/02/2017       19381S           CMA             FAUVE   \n",
       "1          30/12/2016         16A1     BGFREIGHT               JAS   \n",
       "2          30/12/2016         16A1     BGFREIGHT             DAHER   \n",
       "3          30/12/2016         16A1     BGFREIGHT             DAHER   \n",
       "4          30/12/2016       095ACR           CMA              MTTM   \n",
       "\n",
       "  trucking_company     final_destination  \n",
       "0       HINTERLAND   MONTOIR DE BRETAGNE  \n",
       "1         LOGAFRET               COUERON  \n",
       "2             NAUL  ST PIERRE MONTLIMART  \n",
       "3             NAUL  ST PIERRE MONTLIMART  \n",
       "4             NAUL                     X  "
      ]
     },
     "execution_count": 257,
     "metadata": {},
     "output_type": "execute_result"
    }
   ],
   "source": [
    "df.head()"
   ]
  },
  {
   "cell_type": "markdown",
   "metadata": {},
   "source": [
    "On peut maintenant s'intéresser aux ratios de conteneurs réfrigérés et dangereux :"
   ]
  },
  {
   "cell_type": "code",
   "execution_count": 258,
   "metadata": {
    "ExecuteTime": {
     "end_time": "2019-01-15T18:51:47.644093Z",
     "start_time": "2019-01-15T18:51:47.636856Z"
    }
   },
   "outputs": [
    {
     "data": {
      "text/plain": [
       "0.011232153731646256"
      ]
     },
     "execution_count": 258,
     "metadata": {},
     "output_type": "execute_result"
    }
   ],
   "source": [
    "df['reefer'].mean()"
   ]
  },
  {
   "cell_type": "code",
   "execution_count": 259,
   "metadata": {
    "ExecuteTime": {
     "end_time": "2019-01-15T18:51:47.805598Z",
     "start_time": "2019-01-15T18:51:47.800272Z"
    }
   },
   "outputs": [
    {
     "data": {
      "text/plain": [
       "0.0200284187022126"
      ]
     },
     "execution_count": 259,
     "metadata": {},
     "output_type": "execute_result"
    }
   ],
   "source": [
    "df['hazardous'].mean()"
   ]
  },
  {
   "cell_type": "markdown",
   "metadata": {},
   "source": [
    "### Poids des conteneurs"
   ]
  },
  {
   "cell_type": "markdown",
   "metadata": {},
   "source": [
    "On estime ensuite le poids moyen des conteneurs:"
   ]
  },
  {
   "cell_type": "code",
   "execution_count": 260,
   "metadata": {
    "ExecuteTime": {
     "end_time": "2019-01-15T18:51:48.817614Z",
     "start_time": "2019-01-15T18:51:48.355740Z"
    }
   },
   "outputs": [
    {
     "name": "stderr",
     "output_type": "stream",
     "text": [
      "/anaconda3/lib/python3.6/site-packages/numpy/lib/histograms.py:754: RuntimeWarning: invalid value encountered in greater_equal\n",
      "  keep = (tmp_a >= first_edge)\n",
      "/anaconda3/lib/python3.6/site-packages/numpy/lib/histograms.py:755: RuntimeWarning: invalid value encountered in less_equal\n",
      "  keep &= (tmp_a <= last_edge)\n"
     ]
    },
    {
     "data": {
      "image/png": "[encoded data removed]",
      "text/plain": [
       "<Figure size 864x432 with 1 Axes>"
      ]
     },
     "metadata": {},
     "output_type": "display_data"
    }
   ],
   "source": [
    "plt.figure(figsize=(12,6))\n",
    "plt.hist(df['weight'], bins=50)\n",
    "plt.title(\"Distribution du poids des containers\")\n",
    "plt.axvline(df['weight'].mean(), c='red')\n",
    "plt.show()"
   ]
  },
  {
   "cell_type": "code",
   "execution_count": 261,
   "metadata": {
    "ExecuteTime": {
     "end_time": "2019-01-15T18:51:48.828021Z",
     "start_time": "2019-01-15T18:51:48.820945Z"
    }
   },
   "outputs": [],
   "source": [
    "weight_mean = df['weight'].mean()\n",
    "df['weight'] = df['weight'].fillna(weight_mean)"
   ]
  },
  {
   "cell_type": "markdown",
   "metadata": {},
   "source": [
    "### Traiter les dates"
   ]
  },
  {
   "cell_type": "code",
   "execution_count": 262,
   "metadata": {
    "ExecuteTime": {
     "end_time": "2019-01-15T18:51:50.646889Z",
     "start_time": "2019-01-15T18:51:48.864803Z"
    }
   },
   "outputs": [],
   "source": [
    "df['estimated_time_arrival'] = pd.to_datetime(df['estimated_time_arrival'])"
   ]
  },
  {
   "cell_type": "code",
   "execution_count": 263,
   "metadata": {
    "ExecuteTime": {
     "end_time": "2019-01-15T18:51:52.301909Z",
     "start_time": "2019-01-15T18:51:50.650035Z"
    }
   },
   "outputs": [],
   "source": [
    "df['actual_time_arrival'] = pd.to_datetime(df['actual_time_arrival'])"
   ]
  },
  {
   "cell_type": "code",
   "execution_count": 264,
   "metadata": {
    "ExecuteTime": {
     "end_time": "2019-01-15T18:51:55.765585Z",
     "start_time": "2019-01-15T18:51:52.305318Z"
    }
   },
   "outputs": [],
   "source": [
    "df_train['actual_time_arrival'] = pd.to_datetime(df_train['actual_time_arrival'])\n",
    "df_test['actual_time_arrival'] = pd.to_datetime(df_test['actual_time_arrival'])\n",
    "df_train['estimated_time_arrival'] = pd.to_datetime(df_train['estimated_time_arrival'])\n",
    "df_test['estimated_time_arrival'] = pd.to_datetime(df_test['estimated_time_arrival'])"
   ]
  },
  {
   "cell_type": "code",
   "execution_count": 265,
   "metadata": {
    "ExecuteTime": {
     "end_time": "2019-01-15T18:51:56.802773Z",
     "start_time": "2019-01-15T18:51:55.768542Z"
    }
   },
   "outputs": [
    {
     "data": {
      "image/png": "[encoded data removed]",
      "text/plain": [
       "<Figure size 864x432 with 1 Axes>"
      ]
     },
     "metadata": {},
     "output_type": "display_data"
    }
   ],
   "source": [
    "estimated_train = df_train[df_train['estimated_time_arrival'].isnull() == False]['estimated_time_arrival']\n",
    "estimated_test = df_test[df_test['estimated_time_arrival'].isnull() == False]['estimated_time_arrival']\n",
    "\n",
    "plt.figure(figsize=(12,6))\n",
    "\n",
    "plt.hist(df_train['actual_time_arrival'], bins = 50, alpha=0.5, label='Actual arrival train')\n",
    "plt.hist(estimated_train, bins = 50, alpha=0.5, label='Estimated arrival train')\n",
    "\n",
    "plt.hist(df_test['actual_time_arrival'], bins = 50, alpha=0.5, label='Actual arrival test')\n",
    "plt.hist(estimated_test, bins = 50, alpha=0.5, label='Estimated arrival test')\n",
    "\n",
    "plt.legend(loc='upper left')\n",
    "plt.title(\"Distribution des dates estimées et actuelles\")\n",
    "plt.show()"
   ]
  },
  {
   "cell_type": "markdown",
   "metadata": {},
   "source": [
    "On observe une cohérence entre les deux distributions. Les données sont ordonnées de manière temporelle. Le test set concerne des estimations en 2018, et le train set en 2017. Cela a une implication importante :\n",
    "- soit il faut modéliser des séries temporelles\n",
    "- soit on suppose que l'activité est similaire à travers les années, et on ne tient pas compte de l'année mais seulement du mois. Pour des contraintes de tempos et de simiplicité, on partira sur cette option. De plus, on ne peut pas compter le mois de l'année comme une variable explicative car quasiement toutes les données de test sont concentrées sur le mois de janvier. On se concentre alors sur le jour du mois d'arrivée, et sur le jour de la semaine."
   ]
  },
  {
   "cell_type": "code",
   "execution_count": 266,
   "metadata": {
    "ExecuteTime": {
     "end_time": "2019-01-15T18:51:56.819990Z",
     "start_time": "2019-01-15T18:51:56.805599Z"
    }
   },
   "outputs": [],
   "source": [
    "dates = df[df['estimated_time_arrival'].isnull() == False][['estimated_time_arrival', 'actual_time_arrival']]\n",
    "diff = dates['actual_time_arrival'] - dates['estimated_time_arrival']"
   ]
  },
  {
   "cell_type": "code",
   "execution_count": 267,
   "metadata": {
    "ExecuteTime": {
     "end_time": "2019-01-15T18:51:56.838213Z",
     "start_time": "2019-01-15T18:51:56.826790Z"
    }
   },
   "outputs": [
    {
     "data": {
      "text/plain": [
       "0 days       12690\n",
       "31 days        404\n",
       "1 days         373\n",
       "30 days        308\n",
       "-292 days      167\n",
       "2 days          89\n",
       "-1 days         86\n",
       "62 days         86\n",
       "122 days        73\n",
       "-322 days       61\n",
       "-30 days        58\n",
       "-31 days        48\n",
       "4 days          18\n",
       "-61 days        17\n",
       "61 days          2\n",
       "133 days         1\n",
       "dtype: int64"
      ]
     },
     "execution_count": 267,
     "metadata": {},
     "output_type": "execute_result"
    }
   ],
   "source": [
    "diff.value_counts()"
   ]
  },
  {
   "cell_type": "markdown",
   "metadata": {},
   "source": [
    "On remarque quelque chose de particulier ici. Il y aurait des conteneurs sur lesquels la date d'arrivée estimée est supérieure de 200 ou 300 jours à la date actuelle d'arrivée. Du coup, la différence de temps s'en retrouve grandement impactée :"
   ]
  },
  {
   "cell_type": "code",
   "execution_count": 268,
   "metadata": {
    "ExecuteTime": {
     "end_time": "2019-01-15T18:51:56.849190Z",
     "start_time": "2019-01-15T18:51:56.842506Z"
    }
   },
   "outputs": [
    {
     "data": {
      "text/plain": [
       "Timedelta('-3 days +12:32:22.075823')"
      ]
     },
     "execution_count": 268,
     "metadata": {},
     "output_type": "execute_result"
    }
   ],
   "source": [
    "diff.mean()"
   ]
  },
  {
   "cell_type": "markdown",
   "metadata": {},
   "source": [
    "Pour des soucis de cohérence, et sans information supplémentaire, nous allons supprimers ces valeurs de la table et les considérer comme des outliers. L'immense majorité des conteneurs arrivant à temps, nous remplaçerons les dates estimées par les dates actuelles."
   ]
  },
  {
   "cell_type": "code",
   "execution_count": 269,
   "metadata": {
    "ExecuteTime": {
     "end_time": "2019-01-15T18:51:56.859436Z",
     "start_time": "2019-01-15T18:51:56.853041Z"
    }
   },
   "outputs": [],
   "source": [
    "df['estimated_time_arrival'] = df['estimated_time_arrival'].fillna(df['actual_time_arrival'])"
   ]
  },
  {
   "cell_type": "code",
   "execution_count": 270,
   "metadata": {
    "ExecuteTime": {
     "end_time": "2019-01-15T18:51:56.883203Z",
     "start_time": "2019-01-15T18:51:56.864290Z"
    }
   },
   "outputs": [
    {
     "data": {
      "text/html": [
       "<div>\n",
       "<style scoped>\n",
       "    .dataframe tbody tr th:only-of-type {\n",
       "        vertical-align: middle;\n",
       "    }\n",
       "\n",
       "    .dataframe tbody tr th {\n",
       "        vertical-align: top;\n",
       "    }\n",
       "\n",
       "    .dataframe thead th {\n",
       "        text-align: right;\n",
       "    }\n",
       "</style>\n",
       "<table border=\"1\" class=\"dataframe\">\n",
       "  <thead>\n",
       "    <tr style=\"text-align: right;\">\n",
       "      <th></th>\n",
       "      <th>id_container</th>\n",
       "      <th>feet</th>\n",
       "      <th>reefer</th>\n",
       "      <th>hazardous</th>\n",
       "      <th>weight</th>\n",
       "      <th>estimated_time_arrival</th>\n",
       "      <th>actual_time_arrival</th>\n",
       "      <th>id_port_call</th>\n",
       "      <th>shipping_line</th>\n",
       "      <th>freight_forwarder</th>\n",
       "      <th>trucking_company</th>\n",
       "      <th>final_destination</th>\n",
       "    </tr>\n",
       "  </thead>\n",
       "  <tbody>\n",
       "    <tr>\n",
       "      <th>0</th>\n",
       "      <td>AMCU9297612</td>\n",
       "      <td>45</td>\n",
       "      <td>1.0</td>\n",
       "      <td>0.0</td>\n",
       "      <td>31978.0</td>\n",
       "      <td>2017-02-15</td>\n",
       "      <td>2017-02-15</td>\n",
       "      <td>19381S</td>\n",
       "      <td>CMA</td>\n",
       "      <td>FAUVE</td>\n",
       "      <td>HINTERLAND</td>\n",
       "      <td>MONTOIR DE BRETAGNE</td>\n",
       "    </tr>\n",
       "    <tr>\n",
       "      <th>1</th>\n",
       "      <td>MRKU9718477</td>\n",
       "      <td>20</td>\n",
       "      <td>0.0</td>\n",
       "      <td>0.0</td>\n",
       "      <td>21141.0</td>\n",
       "      <td>2016-12-30</td>\n",
       "      <td>2016-12-30</td>\n",
       "      <td>16A1</td>\n",
       "      <td>BGFREIGHT</td>\n",
       "      <td>JAS</td>\n",
       "      <td>LOGAFRET</td>\n",
       "      <td>COUERON</td>\n",
       "    </tr>\n",
       "    <tr>\n",
       "      <th>2</th>\n",
       "      <td>MRKU3391638</td>\n",
       "      <td>45</td>\n",
       "      <td>0.0</td>\n",
       "      <td>0.0</td>\n",
       "      <td>10323.0</td>\n",
       "      <td>2016-12-30</td>\n",
       "      <td>2016-12-30</td>\n",
       "      <td>16A1</td>\n",
       "      <td>BGFREIGHT</td>\n",
       "      <td>DAHER</td>\n",
       "      <td>NAUL</td>\n",
       "      <td>ST PIERRE MONTLIMART</td>\n",
       "    </tr>\n",
       "    <tr>\n",
       "      <th>3</th>\n",
       "      <td>MSKU0794884</td>\n",
       "      <td>40</td>\n",
       "      <td>0.0</td>\n",
       "      <td>0.0</td>\n",
       "      <td>10778.0</td>\n",
       "      <td>2016-12-30</td>\n",
       "      <td>2016-12-30</td>\n",
       "      <td>16A1</td>\n",
       "      <td>BGFREIGHT</td>\n",
       "      <td>DAHER</td>\n",
       "      <td>NAUL</td>\n",
       "      <td>ST PIERRE MONTLIMART</td>\n",
       "    </tr>\n",
       "    <tr>\n",
       "      <th>4</th>\n",
       "      <td>TEMU2871681</td>\n",
       "      <td>20</td>\n",
       "      <td>0.0</td>\n",
       "      <td>0.0</td>\n",
       "      <td>5200.0</td>\n",
       "      <td>2016-12-30</td>\n",
       "      <td>2016-12-30</td>\n",
       "      <td>095ACR</td>\n",
       "      <td>CMA</td>\n",
       "      <td>MTTM</td>\n",
       "      <td>NAUL</td>\n",
       "      <td>X</td>\n",
       "    </tr>\n",
       "  </tbody>\n",
       "</table>\n",
       "</div>"
      ],
      "text/plain": [
       "  id_container  feet  reefer  hazardous   weight estimated_time_arrival  \\\n",
       "0  AMCU9297612    45     1.0        0.0  31978.0             2017-02-15   \n",
       "1  MRKU9718477    20     0.0        0.0  21141.0             2016-12-30   \n",
       "2  MRKU3391638    45     0.0        0.0  10323.0             2016-12-30   \n",
       "3  MSKU0794884    40     0.0        0.0  10778.0             2016-12-30   \n",
       "4  TEMU2871681    20     0.0        0.0   5200.0             2016-12-30   \n",
       "\n",
       "  actual_time_arrival id_port_call shipping_line freight_forwarder  \\\n",
       "0          2017-02-15       19381S           CMA             FAUVE   \n",
       "1          2016-12-30         16A1     BGFREIGHT               JAS   \n",
       "2          2016-12-30         16A1     BGFREIGHT             DAHER   \n",
       "3          2016-12-30         16A1     BGFREIGHT             DAHER   \n",
       "4          2016-12-30       095ACR           CMA              MTTM   \n",
       "\n",
       "  trucking_company     final_destination  \n",
       "0       HINTERLAND   MONTOIR DE BRETAGNE  \n",
       "1         LOGAFRET               COUERON  \n",
       "2             NAUL  ST PIERRE MONTLIMART  \n",
       "3             NAUL  ST PIERRE MONTLIMART  \n",
       "4             NAUL                     X  "
      ]
     },
     "execution_count": 270,
     "metadata": {},
     "output_type": "execute_result"
    }
   ],
   "source": [
    "df.head()"
   ]
  },
  {
   "cell_type": "markdown",
   "metadata": {},
   "source": [
    "Nous pouvons maintenant traiter les dates de manière plus parlante en spéarant :\n",
    "- le jour actuel d'arrivée du conteneurs\n",
    "- le jour de la semaine actuel d'arrivée du conteneurs\n",
    "- une colonne détaillant le nombre de jours d'écart par rapport à l'arrivée prévue"
   ]
  },
  {
   "cell_type": "markdown",
   "metadata": {},
   "source": [
    "Nous ne pouvons pas tenir compte du mois étant donné que les données train sont réparties sur l'année et les données train sont concentrées sur le mois de janvier."
   ]
  },
  {
   "cell_type": "code",
   "execution_count": 271,
   "metadata": {
    "ExecuteTime": {
     "end_time": "2019-01-15T18:52:35.554573Z",
     "start_time": "2019-01-15T18:51:56.887092Z"
    }
   },
   "outputs": [],
   "source": [
    "df['estimated_time_arrival'] = pd.to_datetime(df['estimated_time_arrival'])\n",
    "for index, row in df.iterrows() :\n",
    "    #df.loc[index, 'estimated_month'] = df.loc[index, 'estimated_time_arrival'].month\n",
    "    #df.loc[index, 'estimated_day'] = df.loc[index, 'estimated_time_arrival'].day\n",
    "    #df.loc[index, 'estimated_day_name'] = df.loc[index, 'estimated_time_arrival'].day_name()\n",
    "    \n",
    "    df.loc[index, 'actual_month'] = df.loc[index, 'actual_time_arrival'].month\n",
    "    df.loc[index, 'actual_day'] = df.loc[index, 'actual_time_arrival'].day\n",
    "    df.loc[index, 'actual_day_name'] = df.loc[index, 'actual_time_arrival'].day_name()"
   ]
  },
  {
   "cell_type": "code",
   "execution_count": 272,
   "metadata": {
    "ExecuteTime": {
     "end_time": "2019-01-15T18:52:35.562246Z",
     "start_time": "2019-01-15T18:52:35.557063Z"
    }
   },
   "outputs": [],
   "source": [
    "df['time_diff'] = df['actual_time_arrival'] - df['estimated_time_arrival']"
   ]
  },
  {
   "cell_type": "code",
   "execution_count": 273,
   "metadata": {
    "ExecuteTime": {
     "end_time": "2019-01-15T18:52:35.570189Z",
     "start_time": "2019-01-15T18:52:35.565721Z"
    }
   },
   "outputs": [],
   "source": [
    "df['time_diff'] = df['time_diff'].dt.days"
   ]
  },
  {
   "cell_type": "code",
   "execution_count": 274,
   "metadata": {
    "ExecuteTime": {
     "end_time": "2019-01-15T18:52:35.596788Z",
     "start_time": "2019-01-15T18:52:35.573290Z"
    }
   },
   "outputs": [
    {
     "data": {
      "text/html": [
       "<div>\n",
       "<style scoped>\n",
       "    .dataframe tbody tr th:only-of-type {\n",
       "        vertical-align: middle;\n",
       "    }\n",
       "\n",
       "    .dataframe tbody tr th {\n",
       "        vertical-align: top;\n",
       "    }\n",
       "\n",
       "    .dataframe thead th {\n",
       "        text-align: right;\n",
       "    }\n",
       "</style>\n",
       "<table border=\"1\" class=\"dataframe\">\n",
       "  <thead>\n",
       "    <tr style=\"text-align: right;\">\n",
       "      <th></th>\n",
       "      <th>id_container</th>\n",
       "      <th>feet</th>\n",
       "      <th>reefer</th>\n",
       "      <th>hazardous</th>\n",
       "      <th>weight</th>\n",
       "      <th>estimated_time_arrival</th>\n",
       "      <th>actual_time_arrival</th>\n",
       "      <th>id_port_call</th>\n",
       "      <th>shipping_line</th>\n",
       "      <th>freight_forwarder</th>\n",
       "      <th>trucking_company</th>\n",
       "      <th>final_destination</th>\n",
       "      <th>actual_month</th>\n",
       "      <th>actual_day</th>\n",
       "      <th>actual_day_name</th>\n",
       "      <th>time_diff</th>\n",
       "    </tr>\n",
       "  </thead>\n",
       "  <tbody>\n",
       "    <tr>\n",
       "      <th>0</th>\n",
       "      <td>AMCU9297612</td>\n",
       "      <td>45</td>\n",
       "      <td>1.0</td>\n",
       "      <td>0.0</td>\n",
       "      <td>31978.0</td>\n",
       "      <td>2017-02-15</td>\n",
       "      <td>2017-02-15</td>\n",
       "      <td>19381S</td>\n",
       "      <td>CMA</td>\n",
       "      <td>FAUVE</td>\n",
       "      <td>HINTERLAND</td>\n",
       "      <td>MONTOIR DE BRETAGNE</td>\n",
       "      <td>2.0</td>\n",
       "      <td>15.0</td>\n",
       "      <td>Wednesday</td>\n",
       "      <td>0</td>\n",
       "    </tr>\n",
       "    <tr>\n",
       "      <th>1</th>\n",
       "      <td>MRKU9718477</td>\n",
       "      <td>20</td>\n",
       "      <td>0.0</td>\n",
       "      <td>0.0</td>\n",
       "      <td>21141.0</td>\n",
       "      <td>2016-12-30</td>\n",
       "      <td>2016-12-30</td>\n",
       "      <td>16A1</td>\n",
       "      <td>BGFREIGHT</td>\n",
       "      <td>JAS</td>\n",
       "      <td>LOGAFRET</td>\n",
       "      <td>COUERON</td>\n",
       "      <td>12.0</td>\n",
       "      <td>30.0</td>\n",
       "      <td>Friday</td>\n",
       "      <td>0</td>\n",
       "    </tr>\n",
       "    <tr>\n",
       "      <th>2</th>\n",
       "      <td>MRKU3391638</td>\n",
       "      <td>45</td>\n",
       "      <td>0.0</td>\n",
       "      <td>0.0</td>\n",
       "      <td>10323.0</td>\n",
       "      <td>2016-12-30</td>\n",
       "      <td>2016-12-30</td>\n",
       "      <td>16A1</td>\n",
       "      <td>BGFREIGHT</td>\n",
       "      <td>DAHER</td>\n",
       "      <td>NAUL</td>\n",
       "      <td>ST PIERRE MONTLIMART</td>\n",
       "      <td>12.0</td>\n",
       "      <td>30.0</td>\n",
       "      <td>Friday</td>\n",
       "      <td>0</td>\n",
       "    </tr>\n",
       "    <tr>\n",
       "      <th>3</th>\n",
       "      <td>MSKU0794884</td>\n",
       "      <td>40</td>\n",
       "      <td>0.0</td>\n",
       "      <td>0.0</td>\n",
       "      <td>10778.0</td>\n",
       "      <td>2016-12-30</td>\n",
       "      <td>2016-12-30</td>\n",
       "      <td>16A1</td>\n",
       "      <td>BGFREIGHT</td>\n",
       "      <td>DAHER</td>\n",
       "      <td>NAUL</td>\n",
       "      <td>ST PIERRE MONTLIMART</td>\n",
       "      <td>12.0</td>\n",
       "      <td>30.0</td>\n",
       "      <td>Friday</td>\n",
       "      <td>0</td>\n",
       "    </tr>\n",
       "    <tr>\n",
       "      <th>4</th>\n",
       "      <td>TEMU2871681</td>\n",
       "      <td>20</td>\n",
       "      <td>0.0</td>\n",
       "      <td>0.0</td>\n",
       "      <td>5200.0</td>\n",
       "      <td>2016-12-30</td>\n",
       "      <td>2016-12-30</td>\n",
       "      <td>095ACR</td>\n",
       "      <td>CMA</td>\n",
       "      <td>MTTM</td>\n",
       "      <td>NAUL</td>\n",
       "      <td>X</td>\n",
       "      <td>12.0</td>\n",
       "      <td>30.0</td>\n",
       "      <td>Friday</td>\n",
       "      <td>0</td>\n",
       "    </tr>\n",
       "  </tbody>\n",
       "</table>\n",
       "</div>"
      ],
      "text/plain": [
       "  id_container  feet  reefer  hazardous   weight estimated_time_arrival  \\\n",
       "0  AMCU9297612    45     1.0        0.0  31978.0             2017-02-15   \n",
       "1  MRKU9718477    20     0.0        0.0  21141.0             2016-12-30   \n",
       "2  MRKU3391638    45     0.0        0.0  10323.0             2016-12-30   \n",
       "3  MSKU0794884    40     0.0        0.0  10778.0             2016-12-30   \n",
       "4  TEMU2871681    20     0.0        0.0   5200.0             2016-12-30   \n",
       "\n",
       "  actual_time_arrival id_port_call shipping_line freight_forwarder  \\\n",
       "0          2017-02-15       19381S           CMA             FAUVE   \n",
       "1          2016-12-30         16A1     BGFREIGHT               JAS   \n",
       "2          2016-12-30         16A1     BGFREIGHT             DAHER   \n",
       "3          2016-12-30         16A1     BGFREIGHT             DAHER   \n",
       "4          2016-12-30       095ACR           CMA              MTTM   \n",
       "\n",
       "  trucking_company     final_destination  actual_month  actual_day  \\\n",
       "0       HINTERLAND   MONTOIR DE BRETAGNE           2.0        15.0   \n",
       "1         LOGAFRET               COUERON          12.0        30.0   \n",
       "2             NAUL  ST PIERRE MONTLIMART          12.0        30.0   \n",
       "3             NAUL  ST PIERRE MONTLIMART          12.0        30.0   \n",
       "4             NAUL                     X          12.0        30.0   \n",
       "\n",
       "  actual_day_name  time_diff  \n",
       "0       Wednesday          0  \n",
       "1          Friday          0  \n",
       "2          Friday          0  \n",
       "3          Friday          0  \n",
       "4          Friday          0  "
      ]
     },
     "execution_count": 274,
     "metadata": {},
     "output_type": "execute_result"
    }
   ],
   "source": [
    "df.head()"
   ]
  },
  {
   "cell_type": "markdown",
   "metadata": {},
   "source": [
    "On peut maintenant supprimer les colonnes des dates."
   ]
  },
  {
   "cell_type": "code",
   "execution_count": 275,
   "metadata": {
    "ExecuteTime": {
     "end_time": "2019-01-15T18:52:35.609652Z",
     "start_time": "2019-01-15T18:52:35.601214Z"
    }
   },
   "outputs": [],
   "source": [
    "df = df.drop(['estimated_time_arrival', 'actual_time_arrival'], axis=1)"
   ]
  },
  {
   "cell_type": "markdown",
   "metadata": {},
   "source": [
    "### Données Transporteur Fret"
   ]
  },
  {
   "cell_type": "code",
   "execution_count": 276,
   "metadata": {
    "ExecuteTime": {
     "end_time": "2019-01-15T18:52:35.620318Z",
     "start_time": "2019-01-15T18:52:35.613818Z"
    }
   },
   "outputs": [],
   "source": [
    "df['freight_forwarder'] = df['freight_forwarder'].fillna(\"MISSING\")"
   ]
  },
  {
   "cell_type": "markdown",
   "metadata": {},
   "source": [
    "## Distributions"
   ]
  },
  {
   "cell_type": "markdown",
   "metadata": {},
   "source": [
    "On peut désormais regarder les distributions des différentes variables dans notre table :"
   ]
  },
  {
   "cell_type": "code",
   "execution_count": 277,
   "metadata": {
    "ExecuteTime": {
     "end_time": "2019-01-15T18:52:35.634045Z",
     "start_time": "2019-01-15T18:52:35.624720Z"
    }
   },
   "outputs": [
    {
     "data": {
      "text/plain": [
       "20    7395\n",
       "45    6362\n",
       "40    1022\n",
       "Name: feet, dtype: int64"
      ]
     },
     "execution_count": 277,
     "metadata": {},
     "output_type": "execute_result"
    }
   ],
   "source": [
    "df['feet'].value_counts()"
   ]
  },
  {
   "cell_type": "markdown",
   "metadata": {},
   "source": [
    "Il existe trois tailles de conteneurs dans le jeu de données."
   ]
  },
  {
   "cell_type": "code",
   "execution_count": 278,
   "metadata": {
    "ExecuteTime": {
     "end_time": "2019-01-15T18:52:35.646728Z",
     "start_time": "2019-01-15T18:52:35.637814Z"
    }
   },
   "outputs": [
    {
     "data": {
      "text/plain": [
       "MSC          8060\n",
       "CMA          4127\n",
       "BGFREIGHT    2434\n",
       "DELMAS        158\n",
       "Name: shipping_line, dtype: int64"
      ]
     },
     "execution_count": 278,
     "metadata": {},
     "output_type": "execute_result"
    }
   ],
   "source": [
    "df['shipping_line'].value_counts()"
   ]
  },
  {
   "cell_type": "markdown",
   "metadata": {},
   "source": [
    "Il existe trois sociétés de transport dans le jeu de données."
   ]
  },
  {
   "cell_type": "code",
   "execution_count": 279,
   "metadata": {
    "ExecuteTime": {
     "end_time": "2019-01-15T18:52:35.660395Z",
     "start_time": "2019-01-15T18:52:35.650179Z"
    }
   },
   "outputs": [
    {
     "data": {
      "text/plain": [
       "BOL          3886\n",
       "SOGEB        1741\n",
       "GEODIS       1598\n",
       "LEON         1438\n",
       "LOG          1033\n",
       "FAUVE         875\n",
       "BAL           790\n",
       "MTTM          683\n",
       "SCHENKER      430\n",
       "DACHSER       353\n",
       "CLASQUIN      315\n",
       "FATTON        206\n",
       "AMATRANS      146\n",
       "SEAINVEST     132\n",
       "HERPORT       131\n",
       "MISSING       125\n",
       "DAHER         110\n",
       "ALIZES        103\n",
       "CMA           102\n",
       "SETCARGO       74\n",
       "AMM            68\n",
       "QUAL           59\n",
       "OTLS           57\n",
       "DHL            57\n",
       "SEAFR          55\n",
       "LONGCOURT      40\n",
       "KUEHNE         38\n",
       "CGA            36\n",
       "EUGENE         33\n",
       "JAS            23\n",
       "PANALPINA      13\n",
       "RDT            12\n",
       "COQGOUR        11\n",
       "ECT             3\n",
       "SIFA            3\n",
       "Name: freight_forwarder, dtype: int64"
      ]
     },
     "execution_count": 279,
     "metadata": {},
     "output_type": "execute_result"
    }
   ],
   "source": [
    "df['freight_forwarder'].value_counts()"
   ]
  },
  {
   "cell_type": "code",
   "execution_count": 280,
   "metadata": {
    "ExecuteTime": {
     "end_time": "2019-01-15T18:52:35.675563Z",
     "start_time": "2019-01-15T18:52:35.664228Z"
    }
   },
   "outputs": [
    {
     "data": {
      "text/plain": [
       "X                            2906\n",
       "NANTES                       1052\n",
       "REZE                          778\n",
       "DOL DE BRETAGNE               605\n",
       "BOUGUENAIS                    545\n",
       "CARQUEFOU                     505\n",
       "LES HERBIERS                  419\n",
       "MONTOIR                       318\n",
       "MELLAC                        259\n",
       "MAGNE                         257\n",
       "ST HILAIRE DE LOULAY          236\n",
       "MELAY                         211\n",
       "ANCENIS                       206\n",
       "ST HILAIRE                    189\n",
       "ST AIGNAN                     188\n",
       "RENAZE                        187\n",
       "CRAON                         161\n",
       "CHATEAUBRIANT                 145\n",
       "ST PIERRE MONTLIMART          141\n",
       "REDON                         138\n",
       "ST AIGNAN DE GRANDLIEU        133\n",
       "MACHECOUL                     127\n",
       "LA CHAPELLE HEULIN            126\n",
       "ST NAZAIRE                    122\n",
       "POUPRY                        111\n",
       "ST GERMAIN SUR MOINE          101\n",
       "ST PIERRE                     100\n",
       "NORT SUR ERDRE                 99\n",
       "MTR                            93\n",
       "ST PHILBERT                    93\n",
       "                             ... \n",
       "MARANS                          1\n",
       "FROGES                          1\n",
       "CANCALE                         1\n",
       "ECOMMOY                         1\n",
       "BEAUPREAU                       1\n",
       "MARIGNE LES HAUTS D ANJOU       1\n",
       "TRELLIERES                      1\n",
       "BROONS                          1\n",
       "ST ETIENNE MONTLUC              1\n",
       "CHAUMLES EN RETZ                1\n",
       "ELEE                            1\n",
       "MESSANGER                       1\n",
       "L HERMENAULT                    1\n",
       "CHAMPTOCE SUR LOIRE             1\n",
       "PLOUGOUVELIN                    1\n",
       "LA ROCHE S YON                  1\n",
       "MONTAUBAN                       1\n",
       "CHATEAUNEUF S SARTHE            1\n",
       "POMERAY                         1\n",
       "st philbert                     1\n",
       "GRD CHAMPS DES FONTAINES        1\n",
       "ST PIERRE DE LEON               1\n",
       "ERGUE GABEREIC                  1\n",
       "TRINITE SUR MER                 1\n",
       "ST HILAIRE DE RIEZ              1\n",
       "ST BERBLAIN                     1\n",
       "ST BARTH                        1\n",
       "TEILLIE                         1\n",
       "ST QUENTIN FALLAVIER            1\n",
       "MONTS                           1\n",
       "Name: final_destination, Length: 666, dtype: int64"
      ]
     },
     "execution_count": 280,
     "metadata": {},
     "output_type": "execute_result"
    }
   ],
   "source": [
    "df['final_destination'].value_counts()"
   ]
  },
  {
   "cell_type": "markdown",
   "metadata": {},
   "source": [
    "Il y a 666 destinations différentes, dont :\n",
    "- beaucoup ne sont desservies qu'une fois dans le jeu de données\n",
    "- il manque beaucoup de destionations (notées X)"
   ]
  },
  {
   "cell_type": "markdown",
   "metadata": {},
   "source": [
    "Afin d'alléger le traitement futur (One Hot Encoder), nous allons regrouper l'ensemble des villes desservies rarement dans une même catégorie."
   ]
  },
  {
   "cell_type": "code",
   "execution_count": 281,
   "metadata": {
    "ExecuteTime": {
     "end_time": "2019-01-15T18:52:35.691870Z",
     "start_time": "2019-01-15T18:52:35.679535Z"
    }
   },
   "outputs": [
    {
     "data": {
      "text/html": [
       "<div>\n",
       "<style scoped>\n",
       "    .dataframe tbody tr th:only-of-type {\n",
       "        vertical-align: middle;\n",
       "    }\n",
       "\n",
       "    .dataframe tbody tr th {\n",
       "        vertical-align: top;\n",
       "    }\n",
       "\n",
       "    .dataframe thead th {\n",
       "        text-align: right;\n",
       "    }\n",
       "</style>\n",
       "<table border=\"1\" class=\"dataframe\">\n",
       "  <thead>\n",
       "    <tr style=\"text-align: right;\">\n",
       "      <th></th>\n",
       "      <th>final_destination</th>\n",
       "    </tr>\n",
       "  </thead>\n",
       "  <tbody>\n",
       "    <tr>\n",
       "      <th>X</th>\n",
       "      <td>2906</td>\n",
       "    </tr>\n",
       "    <tr>\n",
       "      <th>NANTES</th>\n",
       "      <td>1052</td>\n",
       "    </tr>\n",
       "    <tr>\n",
       "      <th>REZE</th>\n",
       "      <td>778</td>\n",
       "    </tr>\n",
       "    <tr>\n",
       "      <th>DOL DE BRETAGNE</th>\n",
       "      <td>605</td>\n",
       "    </tr>\n",
       "    <tr>\n",
       "      <th>BOUGUENAIS</th>\n",
       "      <td>545</td>\n",
       "    </tr>\n",
       "  </tbody>\n",
       "</table>\n",
       "</div>"
      ],
      "text/plain": [
       "                 final_destination\n",
       "X                             2906\n",
       "NANTES                        1052\n",
       "REZE                           778\n",
       "DOL DE BRETAGNE                605\n",
       "BOUGUENAIS                     545"
      ]
     },
     "execution_count": 281,
     "metadata": {},
     "output_type": "execute_result"
    }
   ],
   "source": [
    "isRare = pd.DataFrame(df['final_destination'].value_counts())\n",
    "isRare.head()"
   ]
  },
  {
   "cell_type": "code",
   "execution_count": 282,
   "metadata": {
    "ExecuteTime": {
     "end_time": "2019-01-15T18:52:35.702724Z",
     "start_time": "2019-01-15T18:52:35.695495Z"
    }
   },
   "outputs": [
    {
     "data": {
      "text/plain": [
       "411"
      ]
     },
     "execution_count": 282,
     "metadata": {},
     "output_type": "execute_result"
    }
   ],
   "source": [
    "list_rare = isRare[isRare['final_destination']<3].index.unique().tolist()\n",
    "len(list_rare)"
   ]
  },
  {
   "cell_type": "markdown",
   "metadata": {},
   "source": [
    "411 destinations parmi les 666 ne sont desservies qu'une seule ou deux fois. "
   ]
  },
  {
   "cell_type": "code",
   "execution_count": 283,
   "metadata": {
    "ExecuteTime": {
     "end_time": "2019-01-15T18:52:37.613665Z",
     "start_time": "2019-01-15T18:52:35.706376Z"
    }
   },
   "outputs": [],
   "source": [
    "for index, row in df.iterrows() :\n",
    "    if df.loc[index, 'final_destination'] in list_rare :\n",
    "        df.loc[index, 'final_destination'] = \"isRare\""
   ]
  },
  {
   "cell_type": "code",
   "execution_count": 284,
   "metadata": {
    "ExecuteTime": {
     "end_time": "2019-01-15T18:52:38.326085Z",
     "start_time": "2019-01-15T18:52:37.616121Z"
    }
   },
   "outputs": [
    {
     "data": {
      "image/png": "[encoded data removed]",
      "text/plain": [
       "<Figure size 864x432 with 1 Axes>"
      ]
     },
     "metadata": {},
     "output_type": "display_data"
    }
   ],
   "source": [
    "plt.figure(figsize=(12,6))\n",
    "plt.hist(df['weight'][:13596], bins=80, align=\"left\", label=\"train\", alpha=0.8)\n",
    "plt.hist(df['weight'][13596:], bins=80, align=\"right\", label=\"test\", alpha=0.8)\n",
    "#plt.hist(df['actual_day'], bins=80, align=\"mid\")\n",
    "plt.title(\"Distribution du poids des conteneurs\")\n",
    "plt.axvline(df['weight'].mean(), c='red')\n",
    "plt.legend()\n",
    "plt.show()"
   ]
  },
  {
   "cell_type": "code",
   "execution_count": 285,
   "metadata": {
    "ExecuteTime": {
     "end_time": "2019-01-15T18:52:38.338699Z",
     "start_time": "2019-01-15T18:52:38.328668Z"
    }
   },
   "outputs": [],
   "source": [
    "df['weight'] = pd.cut(df['weight'], 20)"
   ]
  },
  {
   "cell_type": "markdown",
   "metadata": {},
   "source": [
    "Cela apporte bien entendu un biais : Nous supposons qu'il existe 20 \"catégories\" de poids de conteneurs. Dans les faits, il faudrait une connaissance métier afin de pouvoir classifier correctement les types de conteneurs nous parvenant."
   ]
  },
  {
   "cell_type": "code",
   "execution_count": 286,
   "metadata": {
    "ExecuteTime": {
     "end_time": "2019-01-15T18:52:38.367981Z",
     "start_time": "2019-01-15T18:52:38.341658Z"
    }
   },
   "outputs": [
    {
     "data": {
      "text/html": [
       "<div>\n",
       "<style scoped>\n",
       "    .dataframe tbody tr th:only-of-type {\n",
       "        vertical-align: middle;\n",
       "    }\n",
       "\n",
       "    .dataframe tbody tr th {\n",
       "        vertical-align: top;\n",
       "    }\n",
       "\n",
       "    .dataframe thead th {\n",
       "        text-align: right;\n",
       "    }\n",
       "</style>\n",
       "<table border=\"1\" class=\"dataframe\">\n",
       "  <thead>\n",
       "    <tr style=\"text-align: right;\">\n",
       "      <th></th>\n",
       "      <th>id_container</th>\n",
       "      <th>feet</th>\n",
       "      <th>reefer</th>\n",
       "      <th>hazardous</th>\n",
       "      <th>weight</th>\n",
       "      <th>id_port_call</th>\n",
       "      <th>shipping_line</th>\n",
       "      <th>freight_forwarder</th>\n",
       "      <th>trucking_company</th>\n",
       "      <th>final_destination</th>\n",
       "      <th>actual_month</th>\n",
       "      <th>actual_day</th>\n",
       "      <th>actual_day_name</th>\n",
       "      <th>time_diff</th>\n",
       "    </tr>\n",
       "  </thead>\n",
       "  <tbody>\n",
       "    <tr>\n",
       "      <th>0</th>\n",
       "      <td>AMCU9297612</td>\n",
       "      <td>45</td>\n",
       "      <td>1.0</td>\n",
       "      <td>0.0</td>\n",
       "      <td>(31931.0, 33480.0]</td>\n",
       "      <td>19381S</td>\n",
       "      <td>CMA</td>\n",
       "      <td>FAUVE</td>\n",
       "      <td>HINTERLAND</td>\n",
       "      <td>MONTOIR DE BRETAGNE</td>\n",
       "      <td>2.0</td>\n",
       "      <td>15.0</td>\n",
       "      <td>Wednesday</td>\n",
       "      <td>0</td>\n",
       "    </tr>\n",
       "    <tr>\n",
       "      <th>1</th>\n",
       "      <td>MRKU9718477</td>\n",
       "      <td>20</td>\n",
       "      <td>0.0</td>\n",
       "      <td>0.0</td>\n",
       "      <td>(21088.0, 22637.0]</td>\n",
       "      <td>16A1</td>\n",
       "      <td>BGFREIGHT</td>\n",
       "      <td>JAS</td>\n",
       "      <td>LOGAFRET</td>\n",
       "      <td>COUERON</td>\n",
       "      <td>12.0</td>\n",
       "      <td>30.0</td>\n",
       "      <td>Friday</td>\n",
       "      <td>0</td>\n",
       "    </tr>\n",
       "    <tr>\n",
       "      <th>2</th>\n",
       "      <td>MRKU3391638</td>\n",
       "      <td>45</td>\n",
       "      <td>0.0</td>\n",
       "      <td>0.0</td>\n",
       "      <td>(10245.0, 11794.0]</td>\n",
       "      <td>16A1</td>\n",
       "      <td>BGFREIGHT</td>\n",
       "      <td>DAHER</td>\n",
       "      <td>NAUL</td>\n",
       "      <td>ST PIERRE MONTLIMART</td>\n",
       "      <td>12.0</td>\n",
       "      <td>30.0</td>\n",
       "      <td>Friday</td>\n",
       "      <td>0</td>\n",
       "    </tr>\n",
       "    <tr>\n",
       "      <th>3</th>\n",
       "      <td>MSKU0794884</td>\n",
       "      <td>40</td>\n",
       "      <td>0.0</td>\n",
       "      <td>0.0</td>\n",
       "      <td>(10245.0, 11794.0]</td>\n",
       "      <td>16A1</td>\n",
       "      <td>BGFREIGHT</td>\n",
       "      <td>DAHER</td>\n",
       "      <td>NAUL</td>\n",
       "      <td>ST PIERRE MONTLIMART</td>\n",
       "      <td>12.0</td>\n",
       "      <td>30.0</td>\n",
       "      <td>Friday</td>\n",
       "      <td>0</td>\n",
       "    </tr>\n",
       "    <tr>\n",
       "      <th>4</th>\n",
       "      <td>TEMU2871681</td>\n",
       "      <td>20</td>\n",
       "      <td>0.0</td>\n",
       "      <td>0.0</td>\n",
       "      <td>(4049.0, 5598.0]</td>\n",
       "      <td>095ACR</td>\n",
       "      <td>CMA</td>\n",
       "      <td>MTTM</td>\n",
       "      <td>NAUL</td>\n",
       "      <td>X</td>\n",
       "      <td>12.0</td>\n",
       "      <td>30.0</td>\n",
       "      <td>Friday</td>\n",
       "      <td>0</td>\n",
       "    </tr>\n",
       "  </tbody>\n",
       "</table>\n",
       "</div>"
      ],
      "text/plain": [
       "  id_container  feet  reefer  hazardous              weight id_port_call  \\\n",
       "0  AMCU9297612    45     1.0        0.0  (31931.0, 33480.0]       19381S   \n",
       "1  MRKU9718477    20     0.0        0.0  (21088.0, 22637.0]         16A1   \n",
       "2  MRKU3391638    45     0.0        0.0  (10245.0, 11794.0]         16A1   \n",
       "3  MSKU0794884    40     0.0        0.0  (10245.0, 11794.0]         16A1   \n",
       "4  TEMU2871681    20     0.0        0.0    (4049.0, 5598.0]       095ACR   \n",
       "\n",
       "  shipping_line freight_forwarder trucking_company     final_destination  \\\n",
       "0           CMA             FAUVE       HINTERLAND   MONTOIR DE BRETAGNE   \n",
       "1     BGFREIGHT               JAS         LOGAFRET               COUERON   \n",
       "2     BGFREIGHT             DAHER             NAUL  ST PIERRE MONTLIMART   \n",
       "3     BGFREIGHT             DAHER             NAUL  ST PIERRE MONTLIMART   \n",
       "4           CMA              MTTM             NAUL                     X   \n",
       "\n",
       "   actual_month  actual_day actual_day_name  time_diff  \n",
       "0           2.0        15.0       Wednesday          0  \n",
       "1          12.0        30.0          Friday          0  \n",
       "2          12.0        30.0          Friday          0  \n",
       "3          12.0        30.0          Friday          0  \n",
       "4          12.0        30.0          Friday          0  "
      ]
     },
     "execution_count": 286,
     "metadata": {},
     "output_type": "execute_result"
    }
   ],
   "source": [
    "df.head()"
   ]
  },
  {
   "cell_type": "code",
   "execution_count": 287,
   "metadata": {
    "ExecuteTime": {
     "end_time": "2019-01-15T18:52:39.162010Z",
     "start_time": "2019-01-15T18:52:38.372077Z"
    }
   },
   "outputs": [
    {
     "data": {
      "image/png": "[encoded data removed]",
      "text/plain": [
       "<Figure size 864x432 with 1 Axes>"
      ]
     },
     "metadata": {},
     "output_type": "display_data"
    }
   ],
   "source": [
    "plt.figure(figsize=(12,6))\n",
    "plt.hist(df['actual_day'][:13596], bins=80, align=\"left\", label=\"train\", alpha=0.8)\n",
    "plt.hist(df['actual_day'][13596:], bins=80, align=\"right\", label=\"test\", alpha=0.8)\n",
    "#plt.hist(df['actual_day'], bins=80, align=\"mid\")\n",
    "plt.title(\"Distribution du jour d'arrivée actuel\")\n",
    "plt.legend()\n",
    "plt.show()"
   ]
  },
  {
   "cell_type": "code",
   "execution_count": 288,
   "metadata": {
    "ExecuteTime": {
     "end_time": "2019-01-15T18:52:39.177394Z",
     "start_time": "2019-01-15T18:52:39.164551Z"
    }
   },
   "outputs": [],
   "source": [
    "days = {'Monday':0,'Tuesday':1,'Wednesday':2,'Thursday':3,'Friday':4,'Saturday':5,'Sunday':6}\n",
    "\n",
    "df['actual_day_name'] = df['actual_day_name'].apply(lambda x: days[x])"
   ]
  },
  {
   "cell_type": "code",
   "execution_count": 289,
   "metadata": {
    "ExecuteTime": {
     "end_time": "2019-01-15T18:52:39.185289Z",
     "start_time": "2019-01-15T18:52:39.180720Z"
    }
   },
   "outputs": [],
   "source": [
    "#df['estimated_day_name'] = df['estimated_day_name'].apply(lambda x: days[x])"
   ]
  },
  {
   "cell_type": "code",
   "execution_count": 290,
   "metadata": {
    "ExecuteTime": {
     "end_time": "2019-01-15T18:52:39.952961Z",
     "start_time": "2019-01-15T18:52:39.189166Z"
    }
   },
   "outputs": [
    {
     "data": {
      "image/png": "[encoded data removed]",
      "text/plain": [
       "<Figure size 864x432 with 1 Axes>"
      ]
     },
     "metadata": {},
     "output_type": "display_data"
    }
   ],
   "source": [
    "plt.figure(figsize=(12,6))\n",
    "plt.hist(df['actual_day_name'][:13596], bins=80, align=\"left\", label=\"train\", alpha=0.8)\n",
    "plt.hist(df['actual_day_name'][13596:], bins=80, align=\"right\", label=\"test\", alpha=0.8)\n",
    "#plt.hist(df['actual_day'], bins=80, align=\"mid\")\n",
    "plt.title(\"Distribution du jour de la semaine d'arrivée actuel\")\n",
    "plt.legend()\n",
    "plt.show()"
   ]
  },
  {
   "cell_type": "markdown",
   "metadata": {},
   "source": [
    "La plupart des conteneurs arrivent :\n",
    "- vers les mois d'été (cf. corrélation avec Independence Day)\n",
    "- vers le milieu de chaque mois\n",
    "- le mardi majoritairement"
   ]
  },
  {
   "cell_type": "markdown",
   "metadata": {},
   "source": [
    "Enfin, on peut s'intéresser au dwell time sur l'échantillon train :"
   ]
  },
  {
   "cell_type": "code",
   "execution_count": 291,
   "metadata": {
    "ExecuteTime": {
     "end_time": "2019-01-15T18:52:40.532650Z",
     "start_time": "2019-01-15T18:52:39.956056Z"
    }
   },
   "outputs": [
    {
     "data": {
      "image/png": "[encoded data removed]",
      "text/plain": [
       "<Figure size 864x432 with 1 Axes>"
      ]
     },
     "metadata": {},
     "output_type": "display_data"
    }
   ],
   "source": [
    "plt.figure(figsize=(12,6))\n",
    "plt.hist(df_train['dwelltime']/24, bins=50)\n",
    "plt.title(\"Distribution du dwell time en jours\")\n",
    "plt.axvline(df_train['dwelltime'].mean()/24, c='red')\n",
    "plt.axvline(30, c='green')\n",
    "plt.show()"
   ]
  },
  {
   "cell_type": "markdown",
   "metadata": {},
   "source": [
    "On remarque que certains dwell time sont particulièrement longs. Il faudrait mettre un point un deuxième classifieur pour ce type de cas plus rares. Nous supposerons ici que tous les dwell times sont de moins de 30 jours, au niveau de la ligne verte."
   ]
  },
  {
   "cell_type": "code",
   "execution_count": 292,
   "metadata": {
    "ExecuteTime": {
     "end_time": "2019-01-15T18:52:40.543609Z",
     "start_time": "2019-01-15T18:52:40.535609Z"
    }
   },
   "outputs": [
    {
     "data": {
      "text/plain": [
       "13580"
      ]
     },
     "execution_count": 292,
     "metadata": {},
     "output_type": "execute_result"
    }
   ],
   "source": [
    "len(df_train[df_train['dwelltime']<=1200])"
   ]
  },
  {
   "cell_type": "code",
   "execution_count": 293,
   "metadata": {
    "ExecuteTime": {
     "end_time": "2019-01-15T18:52:40.553906Z",
     "start_time": "2019-01-15T18:52:40.547586Z"
    }
   },
   "outputs": [
    {
     "data": {
      "text/plain": [
       "13596"
      ]
     },
     "execution_count": 293,
     "metadata": {},
     "output_type": "execute_result"
    }
   ],
   "source": [
    "len(df_train)"
   ]
  },
  {
   "cell_type": "markdown",
   "metadata": {},
   "source": [
    "Cela concernerait environ 150 points. Nous pouvons donc les enlever de l'échantillon train. (Fait au moment de séparer les données)"
   ]
  },
  {
   "cell_type": "markdown",
   "metadata": {},
   "source": [
    "## ID unique"
   ]
  },
  {
   "cell_type": "code",
   "execution_count": 294,
   "metadata": {
    "ExecuteTime": {
     "end_time": "2019-01-15T18:52:40.564068Z",
     "start_time": "2019-01-15T18:52:40.558027Z"
    }
   },
   "outputs": [
    {
     "data": {
      "text/plain": [
       "14779"
      ]
     },
     "execution_count": 294,
     "metadata": {},
     "output_type": "execute_result"
    }
   ],
   "source": [
    "len(df)"
   ]
  },
  {
   "cell_type": "code",
   "execution_count": 295,
   "metadata": {
    "ExecuteTime": {
     "end_time": "2019-01-15T18:52:40.577959Z",
     "start_time": "2019-01-15T18:52:40.567792Z"
    }
   },
   "outputs": [
    {
     "data": {
      "text/plain": [
       "14723"
      ]
     },
     "execution_count": 295,
     "metadata": {},
     "output_type": "execute_result"
    }
   ],
   "source": [
    "df['id_container'].nunique()"
   ]
  },
  {
   "cell_type": "markdown",
   "metadata": {},
   "source": [
    "Les id ne sont pas uniques. Une visite correspond en effet à un conteneurs qui passe dans un port. L'id ne devrait pas pouvoir être utilisé pour prédire la dwell time idéalement, car la diversité du nombre de conteneurs rendrait cette analyse impossible."
   ]
  },
  {
   "cell_type": "markdown",
   "metadata": {},
   "source": [
    "Nous pouvons cependant nous intéresser au conteneurs qui sont revenus plus d'une fois. \n",
    "- Combien de fois sont-ils revenus individuellement ?\n",
    "- Avec la même compagnie de fret?\n",
    "- Pour la même destination ?"
   ]
  },
  {
   "cell_type": "code",
   "execution_count": 296,
   "metadata": {
    "ExecuteTime": {
     "end_time": "2019-01-15T18:52:40.596979Z",
     "start_time": "2019-01-15T18:52:40.581664Z"
    }
   },
   "outputs": [],
   "source": [
    "non_unique = pd.DataFrame(df['id_container'].value_counts())\n",
    "non_unique = non_unique[non_unique['id_container']>1]\n",
    "non_unique = non_unique.index.tolist()"
   ]
  },
  {
   "cell_type": "code",
   "execution_count": 297,
   "metadata": {
    "ExecuteTime": {
     "end_time": "2019-01-15T18:52:42.172550Z",
     "start_time": "2019-01-15T18:52:40.600068Z"
    }
   },
   "outputs": [],
   "source": [
    "df_non_unique = pd.DataFrame(columns=df.columns)\n",
    "for index, row in df.iterrows() :\n",
    "    if df.loc[index, 'id_container'] in non_unique :\n",
    "        df_non_unique.loc[index] = df.loc[index]"
   ]
  },
  {
   "cell_type": "code",
   "execution_count": 298,
   "metadata": {
    "ExecuteTime": {
     "end_time": "2019-01-15T18:52:42.202187Z",
     "start_time": "2019-01-15T18:52:42.175450Z"
    }
   },
   "outputs": [
    {
     "data": {
      "text/html": [
       "<div>\n",
       "<style scoped>\n",
       "    .dataframe tbody tr th:only-of-type {\n",
       "        vertical-align: middle;\n",
       "    }\n",
       "\n",
       "    .dataframe tbody tr th {\n",
       "        vertical-align: top;\n",
       "    }\n",
       "\n",
       "    .dataframe thead th {\n",
       "        text-align: right;\n",
       "    }\n",
       "</style>\n",
       "<table border=\"1\" class=\"dataframe\">\n",
       "  <thead>\n",
       "    <tr style=\"text-align: right;\">\n",
       "      <th></th>\n",
       "      <th>id_container</th>\n",
       "      <th>freight_forwarder</th>\n",
       "      <th>trucking_company</th>\n",
       "      <th>final_destination</th>\n",
       "    </tr>\n",
       "  </thead>\n",
       "  <tbody>\n",
       "    <tr>\n",
       "      <th>160</th>\n",
       "      <td>AMCU6001537</td>\n",
       "      <td>SETCARGO</td>\n",
       "      <td>AVRIL</td>\n",
       "      <td>ST AIGNAN</td>\n",
       "    </tr>\n",
       "    <tr>\n",
       "      <th>3742</th>\n",
       "      <td>AMCU6001537</td>\n",
       "      <td>OTLS</td>\n",
       "      <td>AVRIL</td>\n",
       "      <td>ST AIGNAN</td>\n",
       "    </tr>\n",
       "    <tr>\n",
       "      <th>4129</th>\n",
       "      <td>AMFU8832335</td>\n",
       "      <td>GEODIS</td>\n",
       "      <td>BURBAN</td>\n",
       "      <td>DOL DE BRETAGNE</td>\n",
       "    </tr>\n",
       "    <tr>\n",
       "      <th>10468</th>\n",
       "      <td>AMFU8832335</td>\n",
       "      <td>ALIZES</td>\n",
       "      <td>HINTERLAND</td>\n",
       "      <td>CARQUEFOU</td>\n",
       "    </tr>\n",
       "    <tr>\n",
       "      <th>7730</th>\n",
       "      <td>BMOU6436781</td>\n",
       "      <td>SOGEB</td>\n",
       "      <td>FRANCK</td>\n",
       "      <td>MAGNE</td>\n",
       "    </tr>\n",
       "    <tr>\n",
       "      <th>1196</th>\n",
       "      <td>BMOU6436781</td>\n",
       "      <td>SOGEB</td>\n",
       "      <td>NAUL</td>\n",
       "      <td>MAGNE</td>\n",
       "    </tr>\n",
       "    <tr>\n",
       "      <th>10893</th>\n",
       "      <td>BMOU6877051</td>\n",
       "      <td>BOL</td>\n",
       "      <td>BURBAN</td>\n",
       "      <td>ST ETIENNE DE MONTLUC</td>\n",
       "    </tr>\n",
       "    <tr>\n",
       "      <th>2815</th>\n",
       "      <td>BMOU6877051</td>\n",
       "      <td>BOL</td>\n",
       "      <td>MORAND</td>\n",
       "      <td>CARQUEFOU</td>\n",
       "    </tr>\n",
       "    <tr>\n",
       "      <th>13763</th>\n",
       "      <td>CLHU3699315</td>\n",
       "      <td>BOL</td>\n",
       "      <td>HINTERLAND</td>\n",
       "      <td>X</td>\n",
       "    </tr>\n",
       "    <tr>\n",
       "      <th>11481</th>\n",
       "      <td>CLHU3699315</td>\n",
       "      <td>BOL</td>\n",
       "      <td>HINTERLAND</td>\n",
       "      <td>X</td>\n",
       "    </tr>\n",
       "    <tr>\n",
       "      <th>4882</th>\n",
       "      <td>CMAU0105069</td>\n",
       "      <td>LEON</td>\n",
       "      <td>SARRION</td>\n",
       "      <td>BOUGUENAIS</td>\n",
       "    </tr>\n",
       "    <tr>\n",
       "      <th>13005</th>\n",
       "      <td>CMAU0105069</td>\n",
       "      <td>SOGEB</td>\n",
       "      <td>AVRIL</td>\n",
       "      <td>X</td>\n",
       "    </tr>\n",
       "    <tr>\n",
       "      <th>9820</th>\n",
       "      <td>CMAU0498562</td>\n",
       "      <td>BAL</td>\n",
       "      <td>SARRION</td>\n",
       "      <td>COUERON</td>\n",
       "    </tr>\n",
       "    <tr>\n",
       "      <th>13782</th>\n",
       "      <td>CMAU0498562</td>\n",
       "      <td>BOL</td>\n",
       "      <td>BURBAN</td>\n",
       "      <td>POUPRY</td>\n",
       "    </tr>\n",
       "    <tr>\n",
       "      <th>4266</th>\n",
       "      <td>CMAU0620074</td>\n",
       "      <td>LEON</td>\n",
       "      <td>BRANGEON</td>\n",
       "      <td>LONGUE</td>\n",
       "    </tr>\n",
       "    <tr>\n",
       "      <th>12410</th>\n",
       "      <td>CMAU0620074</td>\n",
       "      <td>SOGEB</td>\n",
       "      <td>AVRIL</td>\n",
       "      <td>NANTES</td>\n",
       "    </tr>\n",
       "    <tr>\n",
       "      <th>11848</th>\n",
       "      <td>CMAU5359385</td>\n",
       "      <td>LOG</td>\n",
       "      <td>LOGAFRET</td>\n",
       "      <td>ARZAL</td>\n",
       "    </tr>\n",
       "    <tr>\n",
       "      <th>35</th>\n",
       "      <td>CMAU5359385</td>\n",
       "      <td>ALIZES</td>\n",
       "      <td>HINTERLAND</td>\n",
       "      <td>CARQUEFOU</td>\n",
       "    </tr>\n",
       "    <tr>\n",
       "      <th>3985</th>\n",
       "      <td>CNEU4983355</td>\n",
       "      <td>SEAFR</td>\n",
       "      <td>AVRIL</td>\n",
       "      <td>ST AIGNAN DE GRANDLIEU</td>\n",
       "    </tr>\n",
       "    <tr>\n",
       "      <th>6703</th>\n",
       "      <td>CNEU4983355</td>\n",
       "      <td>SEAFR</td>\n",
       "      <td>AVRIL</td>\n",
       "      <td>ST AIGNAN</td>\n",
       "    </tr>\n",
       "    <tr>\n",
       "      <th>353</th>\n",
       "      <td>CRXU0990196</td>\n",
       "      <td>SEAFR</td>\n",
       "      <td>AVRIL</td>\n",
       "      <td>ST AIGNAN</td>\n",
       "    </tr>\n",
       "    <tr>\n",
       "      <th>2127</th>\n",
       "      <td>CRXU0990196</td>\n",
       "      <td>SEAFR</td>\n",
       "      <td>AVRIL</td>\n",
       "      <td>ST AIGNAN</td>\n",
       "    </tr>\n",
       "    <tr>\n",
       "      <th>2353</th>\n",
       "      <td>CXSU1135571</td>\n",
       "      <td>SEAFR</td>\n",
       "      <td>AVRIL</td>\n",
       "      <td>ST AIGNAN DE GRANDLIEU</td>\n",
       "    </tr>\n",
       "    <tr>\n",
       "      <th>4194</th>\n",
       "      <td>CXSU1135571</td>\n",
       "      <td>SEAFR</td>\n",
       "      <td>AVRIL</td>\n",
       "      <td>ST AIGNAN</td>\n",
       "    </tr>\n",
       "    <tr>\n",
       "      <th>10870</th>\n",
       "      <td>CXSU1147844</td>\n",
       "      <td>SETCARGO</td>\n",
       "      <td>AVRIL</td>\n",
       "      <td>X</td>\n",
       "    </tr>\n",
       "    <tr>\n",
       "      <th>13880</th>\n",
       "      <td>CXSU1147844</td>\n",
       "      <td>SETCARGO</td>\n",
       "      <td>AVRIL</td>\n",
       "      <td>ST AIGNAN DE GRANDLIEU</td>\n",
       "    </tr>\n",
       "    <tr>\n",
       "      <th>6182</th>\n",
       "      <td>CXSU1150621</td>\n",
       "      <td>SETCARGO</td>\n",
       "      <td>AVRIL</td>\n",
       "      <td>ST AIGNAN</td>\n",
       "    </tr>\n",
       "    <tr>\n",
       "      <th>3738</th>\n",
       "      <td>CXSU1150621</td>\n",
       "      <td>OTLS</td>\n",
       "      <td>AVRIL</td>\n",
       "      <td>ST AIGNAN</td>\n",
       "    </tr>\n",
       "    <tr>\n",
       "      <th>10125</th>\n",
       "      <td>DFSU6553007</td>\n",
       "      <td>BOL</td>\n",
       "      <td>STBF</td>\n",
       "      <td>LES ESSARTS</td>\n",
       "    </tr>\n",
       "    <tr>\n",
       "      <th>816</th>\n",
       "      <td>DFSU6553007</td>\n",
       "      <td>FAUVE</td>\n",
       "      <td>HINTERLAND</td>\n",
       "      <td>THOUARE SUR LOIRE</td>\n",
       "    </tr>\n",
       "    <tr>\n",
       "      <th>7067</th>\n",
       "      <td>FSCU8181157</td>\n",
       "      <td>SOGEB</td>\n",
       "      <td>FRANCK</td>\n",
       "      <td>MAGNE</td>\n",
       "    </tr>\n",
       "    <tr>\n",
       "      <th>2052</th>\n",
       "      <td>FSCU8181157</td>\n",
       "      <td>BOL</td>\n",
       "      <td>SARRION</td>\n",
       "      <td>ST HILAIRE</td>\n",
       "    </tr>\n",
       "    <tr>\n",
       "      <th>8577</th>\n",
       "      <td>GATU0987130</td>\n",
       "      <td>LOG</td>\n",
       "      <td>HINTERLAND</td>\n",
       "      <td>NANTES</td>\n",
       "    </tr>\n",
       "    <tr>\n",
       "      <th>3016</th>\n",
       "      <td>GATU0987130</td>\n",
       "      <td>LEON</td>\n",
       "      <td>BRANGEON</td>\n",
       "      <td>REZE</td>\n",
       "    </tr>\n",
       "    <tr>\n",
       "      <th>11044</th>\n",
       "      <td>GESU1385236</td>\n",
       "      <td>BOL</td>\n",
       "      <td>BRANGEON</td>\n",
       "      <td>X</td>\n",
       "    </tr>\n",
       "    <tr>\n",
       "      <th>4150</th>\n",
       "      <td>GESU1385236</td>\n",
       "      <td>BOL</td>\n",
       "      <td>ATC</td>\n",
       "      <td>MELLAC</td>\n",
       "    </tr>\n",
       "    <tr>\n",
       "      <th>2843</th>\n",
       "      <td>GESU4938274</td>\n",
       "      <td>OTLS</td>\n",
       "      <td>AVRIL</td>\n",
       "      <td>ST AIGNAN</td>\n",
       "    </tr>\n",
       "    <tr>\n",
       "      <th>945</th>\n",
       "      <td>GESU4938274</td>\n",
       "      <td>SETCARGO</td>\n",
       "      <td>AVRIL</td>\n",
       "      <td>ST AIGNAN DE GRANDLIEU</td>\n",
       "    </tr>\n",
       "    <tr>\n",
       "      <th>2553</th>\n",
       "      <td>GESU5000306</td>\n",
       "      <td>LOG</td>\n",
       "      <td>GORRON</td>\n",
       "      <td>X</td>\n",
       "    </tr>\n",
       "    <tr>\n",
       "      <th>5849</th>\n",
       "      <td>GESU5000306</td>\n",
       "      <td>OTLS</td>\n",
       "      <td>AVRIL</td>\n",
       "      <td>ST AIGNAN</td>\n",
       "    </tr>\n",
       "  </tbody>\n",
       "</table>\n",
       "</div>"
      ],
      "text/plain": [
       "      id_container freight_forwarder trucking_company       final_destination\n",
       "160    AMCU6001537          SETCARGO            AVRIL               ST AIGNAN\n",
       "3742   AMCU6001537              OTLS            AVRIL               ST AIGNAN\n",
       "4129   AMFU8832335            GEODIS           BURBAN         DOL DE BRETAGNE\n",
       "10468  AMFU8832335            ALIZES       HINTERLAND               CARQUEFOU\n",
       "7730   BMOU6436781             SOGEB           FRANCK                   MAGNE\n",
       "1196   BMOU6436781             SOGEB             NAUL                   MAGNE\n",
       "10893  BMOU6877051               BOL           BURBAN   ST ETIENNE DE MONTLUC\n",
       "2815   BMOU6877051               BOL           MORAND               CARQUEFOU\n",
       "13763  CLHU3699315               BOL       HINTERLAND                       X\n",
       "11481  CLHU3699315               BOL       HINTERLAND                       X\n",
       "4882   CMAU0105069              LEON          SARRION              BOUGUENAIS\n",
       "13005  CMAU0105069             SOGEB            AVRIL                       X\n",
       "9820   CMAU0498562               BAL          SARRION                 COUERON\n",
       "13782  CMAU0498562               BOL           BURBAN                  POUPRY\n",
       "4266   CMAU0620074              LEON         BRANGEON                  LONGUE\n",
       "12410  CMAU0620074             SOGEB            AVRIL                  NANTES\n",
       "11848  CMAU5359385               LOG         LOGAFRET                   ARZAL\n",
       "35     CMAU5359385            ALIZES       HINTERLAND               CARQUEFOU\n",
       "3985   CNEU4983355             SEAFR            AVRIL  ST AIGNAN DE GRANDLIEU\n",
       "6703   CNEU4983355             SEAFR            AVRIL               ST AIGNAN\n",
       "353    CRXU0990196             SEAFR            AVRIL               ST AIGNAN\n",
       "2127   CRXU0990196             SEAFR            AVRIL               ST AIGNAN\n",
       "2353   CXSU1135571             SEAFR            AVRIL  ST AIGNAN DE GRANDLIEU\n",
       "4194   CXSU1135571             SEAFR            AVRIL               ST AIGNAN\n",
       "10870  CXSU1147844          SETCARGO            AVRIL                       X\n",
       "13880  CXSU1147844          SETCARGO            AVRIL  ST AIGNAN DE GRANDLIEU\n",
       "6182   CXSU1150621          SETCARGO            AVRIL               ST AIGNAN\n",
       "3738   CXSU1150621              OTLS            AVRIL               ST AIGNAN\n",
       "10125  DFSU6553007               BOL             STBF             LES ESSARTS\n",
       "816    DFSU6553007             FAUVE       HINTERLAND       THOUARE SUR LOIRE\n",
       "7067   FSCU8181157             SOGEB           FRANCK                   MAGNE\n",
       "2052   FSCU8181157               BOL          SARRION              ST HILAIRE\n",
       "8577   GATU0987130               LOG       HINTERLAND                  NANTES\n",
       "3016   GATU0987130              LEON         BRANGEON                    REZE\n",
       "11044  GESU1385236               BOL         BRANGEON                       X\n",
       "4150   GESU1385236               BOL              ATC                  MELLAC\n",
       "2843   GESU4938274              OTLS            AVRIL               ST AIGNAN\n",
       "945    GESU4938274          SETCARGO            AVRIL  ST AIGNAN DE GRANDLIEU\n",
       "2553   GESU5000306               LOG           GORRON                       X\n",
       "5849   GESU5000306              OTLS            AVRIL               ST AIGNAN"
      ]
     },
     "execution_count": 298,
     "metadata": {},
     "output_type": "execute_result"
    }
   ],
   "source": [
    "df_non_unique.sort_values('id_container')[['id_container', 'freight_forwarder', 'trucking_company', 'final_destination']].head(40)"
   ]
  },
  {
   "cell_type": "markdown",
   "metadata": {},
   "source": [
    "Les conteneurs sont de manière générale pris en charge par des compagnies différentes et vers des destinations différentes. Seuls 20 conteneurs ont été pris en charge systématiquement par la même compagnie."
   ]
  },
  {
   "cell_type": "code",
   "execution_count": 299,
   "metadata": {
    "ExecuteTime": {
     "end_time": "2019-01-15T18:52:42.213767Z",
     "start_time": "2019-01-15T18:52:42.205792Z"
    }
   },
   "outputs": [
    {
     "data": {
      "text/plain": [
       "110"
      ]
     },
     "execution_count": 299,
     "metadata": {},
     "output_type": "execute_result"
    }
   ],
   "source": [
    "len(df_non_unique[['id_container', 'freight_forwarder']])"
   ]
  },
  {
   "cell_type": "code",
   "execution_count": 300,
   "metadata": {
    "ExecuteTime": {
     "end_time": "2019-01-15T18:52:42.228566Z",
     "start_time": "2019-01-15T18:52:42.217651Z"
    }
   },
   "outputs": [
    {
     "data": {
      "text/plain": [
       "90"
      ]
     },
     "execution_count": 300,
     "metadata": {},
     "output_type": "execute_result"
    }
   ],
   "source": [
    "len(df_non_unique[['id_container', 'freight_forwarder']].drop_duplicates())"
   ]
  },
  {
   "cell_type": "markdown",
   "metadata": {},
   "source": [
    "On peut par contre se demander si un conteneur qui est revenu plusieurs fois dans l'année reste en moyenne moins longtemps en stationnement que les autres ?"
   ]
  },
  {
   "cell_type": "code",
   "execution_count": 301,
   "metadata": {
    "ExecuteTime": {
     "end_time": "2019-01-15T18:52:42.251168Z",
     "start_time": "2019-01-15T18:52:42.233757Z"
    }
   },
   "outputs": [
    {
     "data": {
      "text/plain": [
       "count     102.000000\n",
       "mean      122.745098\n",
       "std       223.377702\n",
       "min         6.000000\n",
       "25%        36.000000\n",
       "50%        60.000000\n",
       "75%       127.500000\n",
       "max      2132.000000\n",
       "Name: dwelltime, dtype: float64"
      ]
     },
     "execution_count": 301,
     "metadata": {},
     "output_type": "execute_result"
    }
   ],
   "source": [
    "df_non_unique.join(df_train['dwelltime'])['dwelltime'].describe()"
   ]
  },
  {
   "cell_type": "code",
   "execution_count": 302,
   "metadata": {
    "ExecuteTime": {
     "end_time": "2019-01-15T18:52:42.269125Z",
     "start_time": "2019-01-15T18:52:42.255185Z"
    }
   },
   "outputs": [
    {
     "data": {
      "text/plain": [
       "count    13596.000000\n",
       "mean       149.306561\n",
       "std        154.304552\n",
       "min          0.000000\n",
       "25%         55.000000\n",
       "50%        115.000000\n",
       "75%        180.000000\n",
       "max       2685.000000\n",
       "Name: dwelltime, dtype: float64"
      ]
     },
     "execution_count": 302,
     "metadata": {},
     "output_type": "execute_result"
    }
   ],
   "source": [
    "df_train['dwelltime'].describe()"
   ]
  },
  {
   "cell_type": "markdown",
   "metadata": {},
   "source": [
    "Le temps de stationnement reste relativement similaire bien que légèrement inférieur. On peut alors supposer qu'ajouter une variable \"AlreadyPassed\" peut permettre d'identifier ces conteneurs."
   ]
  },
  {
   "cell_type": "markdown",
   "metadata": {},
   "source": [
    "On sélectionne d'abord les conteneurs concernés dans le train :"
   ]
  },
  {
   "cell_type": "code",
   "execution_count": 303,
   "metadata": {
    "ExecuteTime": {
     "end_time": "2019-01-15T18:52:42.287900Z",
     "start_time": "2019-01-15T18:52:42.273072Z"
    }
   },
   "outputs": [],
   "source": [
    "list_train_to_add = (df_train['id_container'].value_counts()>1).index.tolist()"
   ]
  },
  {
   "cell_type": "code",
   "execution_count": 304,
   "metadata": {
    "ExecuteTime": {
     "end_time": "2019-01-15T18:52:42.302140Z",
     "start_time": "2019-01-15T18:52:42.291563Z"
    }
   },
   "outputs": [
    {
     "data": {
      "text/plain": [
       "0"
      ]
     },
     "execution_count": 304,
     "metadata": {},
     "output_type": "execute_result"
    }
   ],
   "source": [
    "(df_test['id_container'].value_counts()>1).sum()"
   ]
  },
  {
   "cell_type": "markdown",
   "metadata": {},
   "source": [
    "Il n'y a aucun conteneur dans le test qui soit passé deux fois ou plus. Mais des conteneurs du test seraient-ils deja passés dans le train?"
   ]
  },
  {
   "cell_type": "code",
   "execution_count": 305,
   "metadata": {
    "ExecuteTime": {
     "end_time": "2019-01-15T18:52:42.315303Z",
     "start_time": "2019-01-15T18:52:42.306194Z"
    }
   },
   "outputs": [
    {
     "data": {
      "text/plain": [
       "['CLHU3699315',\n",
       " 'CMAU0498562',\n",
       " 'CXSU1147844',\n",
       " 'GESU6947953',\n",
       " 'MEDU6959593',\n",
       " 'TRIU0460117',\n",
       " 'GESU5259684',\n",
       " 'TCLU7423701']"
      ]
     },
     "execution_count": 305,
     "metadata": {},
     "output_type": "execute_result"
    }
   ],
   "source": [
    "list1=df_train['id_container'].tolist()\n",
    "list2=df_test['id_container'].tolist()\n",
    "list_inter = list(set(list1).intersection(list2))\n",
    "list_inter"
   ]
  },
  {
   "cell_type": "markdown",
   "metadata": {},
   "source": [
    "Ces conteneurs sont à la fois dans le train et dans le test."
   ]
  },
  {
   "cell_type": "code",
   "execution_count": 306,
   "metadata": {
    "ExecuteTime": {
     "end_time": "2019-01-15T18:52:42.327440Z",
     "start_time": "2019-01-15T18:52:42.319336Z"
    }
   },
   "outputs": [
    {
     "data": {
      "text/plain": [
       "['CLHU3699315',\n",
       " 'CMAU0498562',\n",
       " 'CXSU1147844',\n",
       " 'GESU6947953',\n",
       " 'MEDU6959593',\n",
       " 'TRIU0460117',\n",
       " 'GESU5259684',\n",
       " 'TCLU7423701']"
      ]
     },
     "execution_count": 306,
     "metadata": {},
     "output_type": "execute_result"
    }
   ],
   "source": [
    "list(set(list_train_to_add).intersection(list_inter))"
   ]
  },
  {
   "cell_type": "markdown",
   "metadata": {},
   "source": [
    "Et chacun de ces conteneurs est deja présent dans la liste des doublons. Nous avons donc identifié la liste complète des conteneurs pour lesquels les nouvelle variable doit être établie à 1."
   ]
  },
  {
   "cell_type": "code",
   "execution_count": 307,
   "metadata": {
    "ExecuteTime": {
     "end_time": "2019-01-15T18:52:52.052070Z",
     "start_time": "2019-01-15T18:52:42.331759Z"
    }
   },
   "outputs": [],
   "source": [
    "for index, row in df.iterrows() :\n",
    "    if df.loc[index, 'id_container'] in non_unique :\n",
    "        df.loc[index, 'AlreadyPassed'] = 1\n",
    "    else :\n",
    "        df.loc[index, 'AlreadyPassed'] = 0"
   ]
  },
  {
   "cell_type": "code",
   "execution_count": 308,
   "metadata": {
    "ExecuteTime": {
     "end_time": "2019-01-15T18:52:52.058326Z",
     "start_time": "2019-01-15T18:52:52.054690Z"
    }
   },
   "outputs": [],
   "source": [
    "df_unique = df.drop(['id_container'], axis=1)"
   ]
  },
  {
   "cell_type": "markdown",
   "metadata": {
    "ExecuteTime": {
     "end_time": "2019-01-14T12:10:06.445987Z",
     "start_time": "2019-01-14T12:10:06.390476Z"
    }
   },
   "source": [
    "## Conversion en Labels catégoriques"
   ]
  },
  {
   "cell_type": "markdown",
   "metadata": {},
   "source": [
    "Une grande partie de nos données contient des données textuelles. Ainsi, il faut les transformer en données catégorielles afin de les rendre interprétables par nos algorithmes."
   ]
  },
  {
   "cell_type": "code",
   "execution_count": 309,
   "metadata": {
    "ExecuteTime": {
     "end_time": "2019-01-15T18:52:52.075270Z",
     "start_time": "2019-01-15T18:52:52.060401Z"
    }
   },
   "outputs": [
    {
     "data": {
      "text/html": [
       "<div>\n",
       "<style scoped>\n",
       "    .dataframe tbody tr th:only-of-type {\n",
       "        vertical-align: middle;\n",
       "    }\n",
       "\n",
       "    .dataframe tbody tr th {\n",
       "        vertical-align: top;\n",
       "    }\n",
       "\n",
       "    .dataframe thead th {\n",
       "        text-align: right;\n",
       "    }\n",
       "</style>\n",
       "<table border=\"1\" class=\"dataframe\">\n",
       "  <thead>\n",
       "    <tr style=\"text-align: right;\">\n",
       "      <th></th>\n",
       "      <th>feet</th>\n",
       "      <th>reefer</th>\n",
       "      <th>hazardous</th>\n",
       "      <th>weight</th>\n",
       "      <th>id_port_call</th>\n",
       "      <th>shipping_line</th>\n",
       "      <th>freight_forwarder</th>\n",
       "      <th>trucking_company</th>\n",
       "      <th>final_destination</th>\n",
       "      <th>actual_month</th>\n",
       "      <th>actual_day</th>\n",
       "      <th>actual_day_name</th>\n",
       "      <th>time_diff</th>\n",
       "      <th>AlreadyPassed</th>\n",
       "    </tr>\n",
       "  </thead>\n",
       "  <tbody>\n",
       "    <tr>\n",
       "      <th>0</th>\n",
       "      <td>45</td>\n",
       "      <td>1.0</td>\n",
       "      <td>0.0</td>\n",
       "      <td>(31931.0, 33480.0]</td>\n",
       "      <td>19381S</td>\n",
       "      <td>CMA</td>\n",
       "      <td>FAUVE</td>\n",
       "      <td>HINTERLAND</td>\n",
       "      <td>MONTOIR DE BRETAGNE</td>\n",
       "      <td>2.0</td>\n",
       "      <td>15.0</td>\n",
       "      <td>2</td>\n",
       "      <td>0</td>\n",
       "      <td>0.0</td>\n",
       "    </tr>\n",
       "    <tr>\n",
       "      <th>1</th>\n",
       "      <td>20</td>\n",
       "      <td>0.0</td>\n",
       "      <td>0.0</td>\n",
       "      <td>(21088.0, 22637.0]</td>\n",
       "      <td>16A1</td>\n",
       "      <td>BGFREIGHT</td>\n",
       "      <td>JAS</td>\n",
       "      <td>LOGAFRET</td>\n",
       "      <td>COUERON</td>\n",
       "      <td>12.0</td>\n",
       "      <td>30.0</td>\n",
       "      <td>4</td>\n",
       "      <td>0</td>\n",
       "      <td>0.0</td>\n",
       "    </tr>\n",
       "    <tr>\n",
       "      <th>2</th>\n",
       "      <td>45</td>\n",
       "      <td>0.0</td>\n",
       "      <td>0.0</td>\n",
       "      <td>(10245.0, 11794.0]</td>\n",
       "      <td>16A1</td>\n",
       "      <td>BGFREIGHT</td>\n",
       "      <td>DAHER</td>\n",
       "      <td>NAUL</td>\n",
       "      <td>ST PIERRE MONTLIMART</td>\n",
       "      <td>12.0</td>\n",
       "      <td>30.0</td>\n",
       "      <td>4</td>\n",
       "      <td>0</td>\n",
       "      <td>0.0</td>\n",
       "    </tr>\n",
       "    <tr>\n",
       "      <th>3</th>\n",
       "      <td>40</td>\n",
       "      <td>0.0</td>\n",
       "      <td>0.0</td>\n",
       "      <td>(10245.0, 11794.0]</td>\n",
       "      <td>16A1</td>\n",
       "      <td>BGFREIGHT</td>\n",
       "      <td>DAHER</td>\n",
       "      <td>NAUL</td>\n",
       "      <td>ST PIERRE MONTLIMART</td>\n",
       "      <td>12.0</td>\n",
       "      <td>30.0</td>\n",
       "      <td>4</td>\n",
       "      <td>0</td>\n",
       "      <td>0.0</td>\n",
       "    </tr>\n",
       "    <tr>\n",
       "      <th>4</th>\n",
       "      <td>20</td>\n",
       "      <td>0.0</td>\n",
       "      <td>0.0</td>\n",
       "      <td>(4049.0, 5598.0]</td>\n",
       "      <td>095ACR</td>\n",
       "      <td>CMA</td>\n",
       "      <td>MTTM</td>\n",
       "      <td>NAUL</td>\n",
       "      <td>X</td>\n",
       "      <td>12.0</td>\n",
       "      <td>30.0</td>\n",
       "      <td>4</td>\n",
       "      <td>0</td>\n",
       "      <td>0.0</td>\n",
       "    </tr>\n",
       "  </tbody>\n",
       "</table>\n",
       "</div>"
      ],
      "text/plain": [
       "   feet  reefer  hazardous              weight id_port_call shipping_line  \\\n",
       "0    45     1.0        0.0  (31931.0, 33480.0]       19381S           CMA   \n",
       "1    20     0.0        0.0  (21088.0, 22637.0]         16A1     BGFREIGHT   \n",
       "2    45     0.0        0.0  (10245.0, 11794.0]         16A1     BGFREIGHT   \n",
       "3    40     0.0        0.0  (10245.0, 11794.0]         16A1     BGFREIGHT   \n",
       "4    20     0.0        0.0    (4049.0, 5598.0]       095ACR           CMA   \n",
       "\n",
       "  freight_forwarder trucking_company     final_destination  actual_month  \\\n",
       "0             FAUVE       HINTERLAND   MONTOIR DE BRETAGNE           2.0   \n",
       "1               JAS         LOGAFRET               COUERON          12.0   \n",
       "2             DAHER             NAUL  ST PIERRE MONTLIMART          12.0   \n",
       "3             DAHER             NAUL  ST PIERRE MONTLIMART          12.0   \n",
       "4              MTTM             NAUL                     X          12.0   \n",
       "\n",
       "   actual_day  actual_day_name  time_diff  AlreadyPassed  \n",
       "0        15.0                2          0            0.0  \n",
       "1        30.0                4          0            0.0  \n",
       "2        30.0                4          0            0.0  \n",
       "3        30.0                4          0            0.0  \n",
       "4        30.0                4          0            0.0  "
      ]
     },
     "execution_count": 309,
     "metadata": {},
     "output_type": "execute_result"
    }
   ],
   "source": [
    "df_unique.head()"
   ]
  },
  {
   "cell_type": "code",
   "execution_count": 310,
   "metadata": {
    "ExecuteTime": {
     "end_time": "2019-01-15T18:52:52.081473Z",
     "start_time": "2019-01-15T18:52:52.077258Z"
    }
   },
   "outputs": [
    {
     "data": {
      "text/plain": [
       "feet                    int64\n",
       "reefer                float64\n",
       "hazardous             float64\n",
       "weight               category\n",
       "id_port_call           object\n",
       "shipping_line          object\n",
       "freight_forwarder      object\n",
       "trucking_company       object\n",
       "final_destination      object\n",
       "actual_month          float64\n",
       "actual_day            float64\n",
       "actual_day_name         int64\n",
       "time_diff               int64\n",
       "AlreadyPassed         float64\n",
       "dtype: object"
      ]
     },
     "execution_count": 310,
     "metadata": {},
     "output_type": "execute_result"
    }
   ],
   "source": [
    "df_unique.dtypes"
   ]
  },
  {
   "cell_type": "code",
   "execution_count": 311,
   "metadata": {
    "ExecuteTime": {
     "end_time": "2019-01-15T18:52:52.085650Z",
     "start_time": "2019-01-15T18:52:52.083445Z"
    }
   },
   "outputs": [],
   "source": [
    "le = preprocessing.LabelEncoder()"
   ]
  },
  {
   "cell_type": "code",
   "execution_count": 312,
   "metadata": {
    "ExecuteTime": {
     "end_time": "2019-01-15T18:52:52.285540Z",
     "start_time": "2019-01-15T18:52:52.087773Z"
    }
   },
   "outputs": [],
   "source": [
    "df_unique['weight'] = le.fit_transform(df_unique['weight'])\n",
    "df_unique['id_port_call'] = le.fit_transform(df_unique['id_port_call'])\n",
    "df_unique['shipping_line'] = le.fit_transform(df_unique['shipping_line'])\n",
    "df_unique['freight_forwarder'] = le.fit_transform(df_unique['freight_forwarder'])\n",
    "df_unique['trucking_company'] = le.fit_transform(df_unique['trucking_company'])\n",
    "df_unique['final_destination'] = le.fit_transform(df_unique['final_destination'])"
   ]
  },
  {
   "cell_type": "code",
   "execution_count": 313,
   "metadata": {
    "ExecuteTime": {
     "end_time": "2019-01-15T18:52:52.300655Z",
     "start_time": "2019-01-15T18:52:52.287877Z"
    }
   },
   "outputs": [
    {
     "data": {
      "text/html": [
       "<div>\n",
       "<style scoped>\n",
       "    .dataframe tbody tr th:only-of-type {\n",
       "        vertical-align: middle;\n",
       "    }\n",
       "\n",
       "    .dataframe tbody tr th {\n",
       "        vertical-align: top;\n",
       "    }\n",
       "\n",
       "    .dataframe thead th {\n",
       "        text-align: right;\n",
       "    }\n",
       "</style>\n",
       "<table border=\"1\" class=\"dataframe\">\n",
       "  <thead>\n",
       "    <tr style=\"text-align: right;\">\n",
       "      <th></th>\n",
       "      <th>feet</th>\n",
       "      <th>reefer</th>\n",
       "      <th>hazardous</th>\n",
       "      <th>weight</th>\n",
       "      <th>id_port_call</th>\n",
       "      <th>shipping_line</th>\n",
       "      <th>freight_forwarder</th>\n",
       "      <th>trucking_company</th>\n",
       "      <th>final_destination</th>\n",
       "      <th>actual_month</th>\n",
       "      <th>actual_day</th>\n",
       "      <th>actual_day_name</th>\n",
       "      <th>time_diff</th>\n",
       "      <th>AlreadyPassed</th>\n",
       "    </tr>\n",
       "  </thead>\n",
       "  <tbody>\n",
       "    <tr>\n",
       "      <th>0</th>\n",
       "      <td>45</td>\n",
       "      <td>1.0</td>\n",
       "      <td>0.0</td>\n",
       "      <td>19</td>\n",
       "      <td>114</td>\n",
       "      <td>1</td>\n",
       "      <td>15</td>\n",
       "      <td>14</td>\n",
       "      <td>144</td>\n",
       "      <td>2.0</td>\n",
       "      <td>15.0</td>\n",
       "      <td>2</td>\n",
       "      <td>0</td>\n",
       "      <td>0.0</td>\n",
       "    </tr>\n",
       "    <tr>\n",
       "      <th>1</th>\n",
       "      <td>20</td>\n",
       "      <td>0.0</td>\n",
       "      <td>0.0</td>\n",
       "      <td>12</td>\n",
       "      <td>55</td>\n",
       "      <td>0</td>\n",
       "      <td>18</td>\n",
       "      <td>15</td>\n",
       "      <td>58</td>\n",
       "      <td>12.0</td>\n",
       "      <td>30.0</td>\n",
       "      <td>4</td>\n",
       "      <td>0</td>\n",
       "      <td>0.0</td>\n",
       "    </tr>\n",
       "    <tr>\n",
       "      <th>2</th>\n",
       "      <td>45</td>\n",
       "      <td>0.0</td>\n",
       "      <td>0.0</td>\n",
       "      <td>5</td>\n",
       "      <td>55</td>\n",
       "      <td>0</td>\n",
       "      <td>10</td>\n",
       "      <td>18</td>\n",
       "      <td>226</td>\n",
       "      <td>12.0</td>\n",
       "      <td>30.0</td>\n",
       "      <td>4</td>\n",
       "      <td>0</td>\n",
       "      <td>0.0</td>\n",
       "    </tr>\n",
       "    <tr>\n",
       "      <th>3</th>\n",
       "      <td>40</td>\n",
       "      <td>0.0</td>\n",
       "      <td>0.0</td>\n",
       "      <td>5</td>\n",
       "      <td>55</td>\n",
       "      <td>0</td>\n",
       "      <td>10</td>\n",
       "      <td>18</td>\n",
       "      <td>226</td>\n",
       "      <td>12.0</td>\n",
       "      <td>30.0</td>\n",
       "      <td>4</td>\n",
       "      <td>0</td>\n",
       "      <td>0.0</td>\n",
       "    </tr>\n",
       "    <tr>\n",
       "      <th>4</th>\n",
       "      <td>20</td>\n",
       "      <td>0.0</td>\n",
       "      <td>0.0</td>\n",
       "      <td>1</td>\n",
       "      <td>1</td>\n",
       "      <td>1</td>\n",
       "      <td>24</td>\n",
       "      <td>18</td>\n",
       "      <td>254</td>\n",
       "      <td>12.0</td>\n",
       "      <td>30.0</td>\n",
       "      <td>4</td>\n",
       "      <td>0</td>\n",
       "      <td>0.0</td>\n",
       "    </tr>\n",
       "  </tbody>\n",
       "</table>\n",
       "</div>"
      ],
      "text/plain": [
       "   feet  reefer  hazardous  weight  id_port_call  shipping_line  \\\n",
       "0    45     1.0        0.0      19           114              1   \n",
       "1    20     0.0        0.0      12            55              0   \n",
       "2    45     0.0        0.0       5            55              0   \n",
       "3    40     0.0        0.0       5            55              0   \n",
       "4    20     0.0        0.0       1             1              1   \n",
       "\n",
       "   freight_forwarder  trucking_company  final_destination  actual_month  \\\n",
       "0                 15                14                144           2.0   \n",
       "1                 18                15                 58          12.0   \n",
       "2                 10                18                226          12.0   \n",
       "3                 10                18                226          12.0   \n",
       "4                 24                18                254          12.0   \n",
       "\n",
       "   actual_day  actual_day_name  time_diff  AlreadyPassed  \n",
       "0        15.0                2          0            0.0  \n",
       "1        30.0                4          0            0.0  \n",
       "2        30.0                4          0            0.0  \n",
       "3        30.0                4          0            0.0  \n",
       "4        30.0                4          0            0.0  "
      ]
     },
     "execution_count": 313,
     "metadata": {},
     "output_type": "execute_result"
    }
   ],
   "source": [
    "df_unique.head()"
   ]
  },
  {
   "cell_type": "markdown",
   "metadata": {},
   "source": [
    "## Séparer les données train et test"
   ]
  },
  {
   "cell_type": "code",
   "execution_count": 314,
   "metadata": {
    "ExecuteTime": {
     "end_time": "2019-01-15T18:52:52.309114Z",
     "start_time": "2019-01-15T18:52:52.303393Z"
    }
   },
   "outputs": [
    {
     "data": {
      "text/plain": [
       "13596"
      ]
     },
     "execution_count": 314,
     "metadata": {},
     "output_type": "execute_result"
    }
   ],
   "source": [
    "df_cat_train = df_unique[:13596]\n",
    "len(df_cat_train)"
   ]
  },
  {
   "cell_type": "code",
   "execution_count": 315,
   "metadata": {
    "ExecuteTime": {
     "end_time": "2019-01-15T18:52:52.318705Z",
     "start_time": "2019-01-15T18:52:52.311552Z"
    }
   },
   "outputs": [],
   "source": [
    "df_cat_train = pd.concat([df_cat_train, df_train['dwelltime']], axis=1)"
   ]
  },
  {
   "cell_type": "code",
   "execution_count": 316,
   "metadata": {
    "ExecuteTime": {
     "end_time": "2019-01-15T18:52:52.347948Z",
     "start_time": "2019-01-15T18:52:52.321355Z"
    }
   },
   "outputs": [
    {
     "data": {
      "text/html": [
       "<div>\n",
       "<style scoped>\n",
       "    .dataframe tbody tr th:only-of-type {\n",
       "        vertical-align: middle;\n",
       "    }\n",
       "\n",
       "    .dataframe tbody tr th {\n",
       "        vertical-align: top;\n",
       "    }\n",
       "\n",
       "    .dataframe thead th {\n",
       "        text-align: right;\n",
       "    }\n",
       "</style>\n",
       "<table border=\"1\" class=\"dataframe\">\n",
       "  <thead>\n",
       "    <tr style=\"text-align: right;\">\n",
       "      <th></th>\n",
       "      <th>feet</th>\n",
       "      <th>reefer</th>\n",
       "      <th>hazardous</th>\n",
       "      <th>weight</th>\n",
       "      <th>id_port_call</th>\n",
       "      <th>shipping_line</th>\n",
       "      <th>freight_forwarder</th>\n",
       "      <th>trucking_company</th>\n",
       "      <th>final_destination</th>\n",
       "      <th>actual_month</th>\n",
       "      <th>actual_day</th>\n",
       "      <th>actual_day_name</th>\n",
       "      <th>time_diff</th>\n",
       "      <th>AlreadyPassed</th>\n",
       "      <th>dwelltime</th>\n",
       "    </tr>\n",
       "  </thead>\n",
       "  <tbody>\n",
       "    <tr>\n",
       "      <th>0</th>\n",
       "      <td>45</td>\n",
       "      <td>1.0</td>\n",
       "      <td>0.0</td>\n",
       "      <td>19</td>\n",
       "      <td>114</td>\n",
       "      <td>1</td>\n",
       "      <td>15</td>\n",
       "      <td>14</td>\n",
       "      <td>144</td>\n",
       "      <td>2.0</td>\n",
       "      <td>15.0</td>\n",
       "      <td>2</td>\n",
       "      <td>0</td>\n",
       "      <td>0.0</td>\n",
       "      <td>25</td>\n",
       "    </tr>\n",
       "    <tr>\n",
       "      <th>1</th>\n",
       "      <td>20</td>\n",
       "      <td>0.0</td>\n",
       "      <td>0.0</td>\n",
       "      <td>12</td>\n",
       "      <td>55</td>\n",
       "      <td>0</td>\n",
       "      <td>18</td>\n",
       "      <td>15</td>\n",
       "      <td>58</td>\n",
       "      <td>12.0</td>\n",
       "      <td>30.0</td>\n",
       "      <td>4</td>\n",
       "      <td>0</td>\n",
       "      <td>0.0</td>\n",
       "      <td>3</td>\n",
       "    </tr>\n",
       "    <tr>\n",
       "      <th>2</th>\n",
       "      <td>45</td>\n",
       "      <td>0.0</td>\n",
       "      <td>0.0</td>\n",
       "      <td>5</td>\n",
       "      <td>55</td>\n",
       "      <td>0</td>\n",
       "      <td>10</td>\n",
       "      <td>18</td>\n",
       "      <td>226</td>\n",
       "      <td>12.0</td>\n",
       "      <td>30.0</td>\n",
       "      <td>4</td>\n",
       "      <td>0</td>\n",
       "      <td>0.0</td>\n",
       "      <td>5</td>\n",
       "    </tr>\n",
       "    <tr>\n",
       "      <th>3</th>\n",
       "      <td>40</td>\n",
       "      <td>0.0</td>\n",
       "      <td>0.0</td>\n",
       "      <td>5</td>\n",
       "      <td>55</td>\n",
       "      <td>0</td>\n",
       "      <td>10</td>\n",
       "      <td>18</td>\n",
       "      <td>226</td>\n",
       "      <td>12.0</td>\n",
       "      <td>30.0</td>\n",
       "      <td>4</td>\n",
       "      <td>0</td>\n",
       "      <td>0.0</td>\n",
       "      <td>5</td>\n",
       "    </tr>\n",
       "    <tr>\n",
       "      <th>4</th>\n",
       "      <td>20</td>\n",
       "      <td>0.0</td>\n",
       "      <td>0.0</td>\n",
       "      <td>1</td>\n",
       "      <td>1</td>\n",
       "      <td>1</td>\n",
       "      <td>24</td>\n",
       "      <td>18</td>\n",
       "      <td>254</td>\n",
       "      <td>12.0</td>\n",
       "      <td>30.0</td>\n",
       "      <td>4</td>\n",
       "      <td>0</td>\n",
       "      <td>0.0</td>\n",
       "      <td>6</td>\n",
       "    </tr>\n",
       "  </tbody>\n",
       "</table>\n",
       "</div>"
      ],
      "text/plain": [
       "   feet  reefer  hazardous  weight  id_port_call  shipping_line  \\\n",
       "0    45     1.0        0.0      19           114              1   \n",
       "1    20     0.0        0.0      12            55              0   \n",
       "2    45     0.0        0.0       5            55              0   \n",
       "3    40     0.0        0.0       5            55              0   \n",
       "4    20     0.0        0.0       1             1              1   \n",
       "\n",
       "   freight_forwarder  trucking_company  final_destination  actual_month  \\\n",
       "0                 15                14                144           2.0   \n",
       "1                 18                15                 58          12.0   \n",
       "2                 10                18                226          12.0   \n",
       "3                 10                18                226          12.0   \n",
       "4                 24                18                254          12.0   \n",
       "\n",
       "   actual_day  actual_day_name  time_diff  AlreadyPassed  dwelltime  \n",
       "0        15.0                2          0            0.0         25  \n",
       "1        30.0                4          0            0.0          3  \n",
       "2        30.0                4          0            0.0          5  \n",
       "3        30.0                4          0            0.0          5  \n",
       "4        30.0                4          0            0.0          6  "
      ]
     },
     "execution_count": 316,
     "metadata": {},
     "output_type": "execute_result"
    }
   ],
   "source": [
    "df_cat_train.head()"
   ]
  },
  {
   "cell_type": "code",
   "execution_count": 317,
   "metadata": {
    "ExecuteTime": {
     "end_time": "2019-01-15T18:52:52.361145Z",
     "start_time": "2019-01-15T18:52:52.350869Z"
    }
   },
   "outputs": [],
   "source": [
    "df_cat_train = df_cat_train[df_cat_train['dwelltime']<=720]"
   ]
  },
  {
   "cell_type": "code",
   "execution_count": 318,
   "metadata": {
    "ExecuteTime": {
     "end_time": "2019-01-15T18:52:52.372082Z",
     "start_time": "2019-01-15T18:52:52.364272Z"
    }
   },
   "outputs": [],
   "source": [
    "df_train = df_train[df_train['dwelltime']<=720]"
   ]
  },
  {
   "cell_type": "code",
   "execution_count": 472,
   "metadata": {
    "ExecuteTime": {
     "end_time": "2019-01-15T22:20:07.035771Z",
     "start_time": "2019-01-15T22:20:07.017902Z"
    },
    "scrolled": true
   },
   "outputs": [
    {
     "data": {
      "text/plain": [
       "1183"
      ]
     },
     "execution_count": 472,
     "metadata": {},
     "output_type": "execute_result"
    }
   ],
   "source": [
    "df_cat_test = df_unique[13596:]\n",
    "len(df_cat_test)"
   ]
  },
  {
   "cell_type": "markdown",
   "metadata": {},
   "source": [
    "## Detection d'outliers dans le set d'entrainement"
   ]
  },
  {
   "cell_type": "markdown",
   "metadata": {},
   "source": [
    "Comme remarqué plus haut, il existe des outliers au niveau de l'écart entre la date d'arrivée prévue et effective."
   ]
  },
  {
   "cell_type": "code",
   "execution_count": 320,
   "metadata": {
    "ExecuteTime": {
     "end_time": "2019-01-15T18:52:52.720391Z",
     "start_time": "2019-01-15T18:52:52.385983Z"
    }
   },
   "outputs": [
    {
     "data": {
      "image/png": "[encoded data removed]",
      "text/plain": [
       "<Figure size 864x432 with 1 Axes>"
      ]
     },
     "metadata": {},
     "output_type": "display_data"
    }
   ],
   "source": [
    "plt.figure(figsize=(12,6))\n",
    "plt.hist(df_unique['time_diff'], bins=50)\n",
    "plt.title(\"Distribution de l'écart de temps entre la date prévue et actuelle\")\n",
    "plt.show()"
   ]
  },
  {
   "cell_type": "markdown",
   "metadata": {},
   "source": [
    "Dans le set d'entrainement :"
   ]
  },
  {
   "cell_type": "code",
   "execution_count": 321,
   "metadata": {
    "ExecuteTime": {
     "end_time": "2019-01-15T18:52:52.730245Z",
     "start_time": "2019-01-15T18:52:52.723509Z"
    }
   },
   "outputs": [
    {
     "data": {
      "text/plain": [
       " 0      11797\n",
       " 31       404\n",
       " 1        314\n",
       " 30       305\n",
       "-292      167\n",
       " 2         89\n",
       "-1         86\n",
       " 62        86\n",
       "-322       61\n",
       "-30        58\n",
       "-31        48\n",
       " 4         18\n",
       "-61        17\n",
       " 61         2\n",
       "Name: time_diff, dtype: int64"
      ]
     },
     "execution_count": 321,
     "metadata": {},
     "output_type": "execute_result"
    }
   ],
   "source": [
    "df_cat_train['time_diff'].value_counts()"
   ]
  },
  {
   "cell_type": "code",
   "execution_count": 322,
   "metadata": {
    "ExecuteTime": {
     "end_time": "2019-01-15T18:52:52.743403Z",
     "start_time": "2019-01-15T18:52:52.733262Z"
    }
   },
   "outputs": [
    {
     "data": {
      "text/plain": [
       "count    13452.000000\n",
       "mean        -3.350059\n",
       "std         40.050745\n",
       "min       -322.000000\n",
       "25%          0.000000\n",
       "50%          0.000000\n",
       "75%          0.000000\n",
       "max         62.000000\n",
       "Name: time_diff, dtype: float64"
      ]
     },
     "execution_count": 322,
     "metadata": {},
     "output_type": "execute_result"
    }
   ],
   "source": [
    "df_cat_train['time_diff'].describe()"
   ]
  },
  {
   "cell_type": "markdown",
   "metadata": {},
   "source": [
    "Dans le set de test :"
   ]
  },
  {
   "cell_type": "code",
   "execution_count": 323,
   "metadata": {
    "ExecuteTime": {
     "end_time": "2019-01-15T18:52:52.760627Z",
     "start_time": "2019-01-15T18:52:52.746921Z"
    },
    "scrolled": true
   },
   "outputs": [
    {
     "data": {
      "text/plain": [
       "count    1183.000000\n",
       "mean        7.690617\n",
       "std        29.581268\n",
       "min         0.000000\n",
       "25%         0.000000\n",
       "50%         0.000000\n",
       "75%         0.000000\n",
       "max       133.000000\n",
       "Name: time_diff, dtype: float64"
      ]
     },
     "execution_count": 323,
     "metadata": {},
     "output_type": "execute_result"
    }
   ],
   "source": [
    "df_cat_test['time_diff'].describe()"
   ]
  },
  {
   "cell_type": "markdown",
   "metadata": {},
   "source": [
    "Etant donné que nous n'avons pas plus d'information sur la nature des cas ou la date d'arrivée prévue est située 50, 100 ou 200 jours après la date effective d'arrivée, qu'il n'y a pas d'exemple similaire dans le set de test, et que globalement la volumétrie de ce problème est négligeable, on considère que l'on peut supprimer ces exemples."
   ]
  },
  {
   "cell_type": "code",
   "execution_count": 324,
   "metadata": {
    "ExecuteTime": {
     "end_time": "2019-01-15T18:52:52.771798Z",
     "start_time": "2019-01-15T18:52:52.763889Z"
    }
   },
   "outputs": [
    {
     "data": {
      "text/plain": [
       "13452"
      ]
     },
     "execution_count": 324,
     "metadata": {},
     "output_type": "execute_result"
    }
   ],
   "source": [
    "len(df_cat_train)"
   ]
  },
  {
   "cell_type": "code",
   "execution_count": 325,
   "metadata": {
    "ExecuteTime": {
     "end_time": "2019-01-15T18:52:52.788940Z",
     "start_time": "2019-01-15T18:52:52.776086Z"
    }
   },
   "outputs": [
    {
     "data": {
      "text/plain": [
       "count    13015.000000\n",
       "mean         2.127699\n",
       "std          8.511501\n",
       "min          0.000000\n",
       "25%          0.000000\n",
       "50%          0.000000\n",
       "75%          0.000000\n",
       "max         62.000000\n",
       "Name: time_diff, dtype: float64"
      ]
     },
     "execution_count": 325,
     "metadata": {},
     "output_type": "execute_result"
    }
   ],
   "source": [
    "df_cat_train[(df_cat_train['time_diff'])>=0]['time_diff'].describe()"
   ]
  },
  {
   "cell_type": "markdown",
   "metadata": {},
   "source": [
    "Nous allons ré-utiliser le set df_train ultérieurement pour obtenir le dwell time. Nous devons donc supprimer les observations supprimées ici également."
   ]
  },
  {
   "cell_type": "code",
   "execution_count": 326,
   "metadata": {
    "ExecuteTime": {
     "end_time": "2019-01-15T18:52:52.801275Z",
     "start_time": "2019-01-15T18:52:52.792378Z"
    }
   },
   "outputs": [],
   "source": [
    "df_train = df_train[(df_cat_train['time_diff']>=0)]"
   ]
  },
  {
   "cell_type": "code",
   "execution_count": 327,
   "metadata": {
    "ExecuteTime": {
     "end_time": "2019-01-15T18:52:52.810083Z",
     "start_time": "2019-01-15T18:52:52.804813Z"
    }
   },
   "outputs": [],
   "source": [
    "df_cat_train = df_cat_train[(df_cat_train['time_diff'])>=0]"
   ]
  },
  {
   "cell_type": "code",
   "execution_count": 328,
   "metadata": {
    "ExecuteTime": {
     "end_time": "2019-01-15T18:52:52.821176Z",
     "start_time": "2019-01-15T18:52:52.813157Z"
    }
   },
   "outputs": [
    {
     "data": {
      "text/plain": [
       "(13015, 15)"
      ]
     },
     "execution_count": 328,
     "metadata": {},
     "output_type": "execute_result"
    }
   ],
   "source": [
    "df_cat_train.shape"
   ]
  },
  {
   "cell_type": "markdown",
   "metadata": {},
   "source": [
    "# Principal Component Analysis, Feature Importance"
   ]
  },
  {
   "cell_type": "markdown",
   "metadata": {},
   "source": [
    "## Matrice de correlation"
   ]
  },
  {
   "cell_type": "code",
   "execution_count": 329,
   "metadata": {
    "ExecuteTime": {
     "end_time": "2019-01-15T18:52:52.841133Z",
     "start_time": "2019-01-15T18:52:52.824000Z"
    },
    "scrolled": true
   },
   "outputs": [
    {
     "data": {
      "text/html": [
       "<div>\n",
       "<style scoped>\n",
       "    .dataframe tbody tr th:only-of-type {\n",
       "        vertical-align: middle;\n",
       "    }\n",
       "\n",
       "    .dataframe tbody tr th {\n",
       "        vertical-align: top;\n",
       "    }\n",
       "\n",
       "    .dataframe thead th {\n",
       "        text-align: right;\n",
       "    }\n",
       "</style>\n",
       "<table border=\"1\" class=\"dataframe\">\n",
       "  <thead>\n",
       "    <tr style=\"text-align: right;\">\n",
       "      <th></th>\n",
       "      <th>feet</th>\n",
       "      <th>reefer</th>\n",
       "      <th>hazardous</th>\n",
       "      <th>actual_month</th>\n",
       "      <th>actual_day</th>\n",
       "      <th>actual_day_name</th>\n",
       "      <th>time_diff</th>\n",
       "      <th>AlreadyPassed</th>\n",
       "    </tr>\n",
       "  </thead>\n",
       "  <tbody>\n",
       "    <tr>\n",
       "      <th>feet</th>\n",
       "      <td>1.000000</td>\n",
       "      <td>0.021495</td>\n",
       "      <td>0.003167</td>\n",
       "      <td>-0.026080</td>\n",
       "      <td>-0.006959</td>\n",
       "      <td>-0.012644</td>\n",
       "      <td>0.007303</td>\n",
       "      <td>0.010251</td>\n",
       "    </tr>\n",
       "    <tr>\n",
       "      <th>reefer</th>\n",
       "      <td>0.021495</td>\n",
       "      <td>1.000000</td>\n",
       "      <td>-0.015237</td>\n",
       "      <td>-0.006431</td>\n",
       "      <td>-0.005196</td>\n",
       "      <td>0.021278</td>\n",
       "      <td>0.012519</td>\n",
       "      <td>-0.009230</td>\n",
       "    </tr>\n",
       "    <tr>\n",
       "      <th>hazardous</th>\n",
       "      <td>0.003167</td>\n",
       "      <td>-0.015237</td>\n",
       "      <td>1.000000</td>\n",
       "      <td>0.006230</td>\n",
       "      <td>-0.018584</td>\n",
       "      <td>0.017196</td>\n",
       "      <td>0.005140</td>\n",
       "      <td>-0.001141</td>\n",
       "    </tr>\n",
       "    <tr>\n",
       "      <th>actual_month</th>\n",
       "      <td>-0.026080</td>\n",
       "      <td>-0.006431</td>\n",
       "      <td>0.006230</td>\n",
       "      <td>1.000000</td>\n",
       "      <td>-0.043188</td>\n",
       "      <td>0.011069</td>\n",
       "      <td>0.202902</td>\n",
       "      <td>-0.009751</td>\n",
       "    </tr>\n",
       "    <tr>\n",
       "      <th>actual_day</th>\n",
       "      <td>-0.006959</td>\n",
       "      <td>-0.005196</td>\n",
       "      <td>-0.018584</td>\n",
       "      <td>-0.043188</td>\n",
       "      <td>1.000000</td>\n",
       "      <td>-0.149079</td>\n",
       "      <td>-0.033974</td>\n",
       "      <td>-0.004487</td>\n",
       "    </tr>\n",
       "    <tr>\n",
       "      <th>actual_day_name</th>\n",
       "      <td>-0.012644</td>\n",
       "      <td>0.021278</td>\n",
       "      <td>0.017196</td>\n",
       "      <td>0.011069</td>\n",
       "      <td>-0.149079</td>\n",
       "      <td>1.000000</td>\n",
       "      <td>-0.055120</td>\n",
       "      <td>0.036149</td>\n",
       "    </tr>\n",
       "    <tr>\n",
       "      <th>time_diff</th>\n",
       "      <td>0.007303</td>\n",
       "      <td>0.012519</td>\n",
       "      <td>0.005140</td>\n",
       "      <td>0.202902</td>\n",
       "      <td>-0.033974</td>\n",
       "      <td>-0.055120</td>\n",
       "      <td>1.000000</td>\n",
       "      <td>0.002690</td>\n",
       "    </tr>\n",
       "    <tr>\n",
       "      <th>AlreadyPassed</th>\n",
       "      <td>0.010251</td>\n",
       "      <td>-0.009230</td>\n",
       "      <td>-0.001141</td>\n",
       "      <td>-0.009751</td>\n",
       "      <td>-0.004487</td>\n",
       "      <td>0.036149</td>\n",
       "      <td>0.002690</td>\n",
       "      <td>1.000000</td>\n",
       "    </tr>\n",
       "  </tbody>\n",
       "</table>\n",
       "</div>"
      ],
      "text/plain": [
       "                     feet    reefer  hazardous  actual_month  actual_day  \\\n",
       "feet             1.000000  0.021495   0.003167     -0.026080   -0.006959   \n",
       "reefer           0.021495  1.000000  -0.015237     -0.006431   -0.005196   \n",
       "hazardous        0.003167 -0.015237   1.000000      0.006230   -0.018584   \n",
       "actual_month    -0.026080 -0.006431   0.006230      1.000000   -0.043188   \n",
       "actual_day      -0.006959 -0.005196  -0.018584     -0.043188    1.000000   \n",
       "actual_day_name -0.012644  0.021278   0.017196      0.011069   -0.149079   \n",
       "time_diff        0.007303  0.012519   0.005140      0.202902   -0.033974   \n",
       "AlreadyPassed    0.010251 -0.009230  -0.001141     -0.009751   -0.004487   \n",
       "\n",
       "                 actual_day_name  time_diff  AlreadyPassed  \n",
       "feet                   -0.012644   0.007303       0.010251  \n",
       "reefer                  0.021278   0.012519      -0.009230  \n",
       "hazardous               0.017196   0.005140      -0.001141  \n",
       "actual_month            0.011069   0.202902      -0.009751  \n",
       "actual_day             -0.149079  -0.033974      -0.004487  \n",
       "actual_day_name         1.000000  -0.055120       0.036149  \n",
       "time_diff              -0.055120   1.000000       0.002690  \n",
       "AlreadyPassed           0.036149   0.002690       1.000000  "
      ]
     },
     "execution_count": 329,
     "metadata": {},
     "output_type": "execute_result"
    }
   ],
   "source": [
    "df.select_dtypes(include=[np.float64, np.int]).corr()"
   ]
  },
  {
   "cell_type": "code",
   "execution_count": 330,
   "metadata": {
    "ExecuteTime": {
     "end_time": "2019-01-15T18:52:53.382794Z",
     "start_time": "2019-01-15T18:52:52.843679Z"
    },
    "scrolled": false
   },
   "outputs": [
    {
     "data": {
      "image/png": "[encoded data removed]",
      "text/plain": [
       "<Figure size 864x576 with 2 Axes>"
      ]
     },
     "metadata": {},
     "output_type": "display_data"
    }
   ],
   "source": [
    "fig, ax = plt.subplots(figsize=(12,8))\n",
    "ax = sns.heatmap(df.select_dtypes(include=[np.float64, np.int]).corr(), xticklabels=True, yticklabels=True)"
   ]
  },
  {
   "cell_type": "markdown",
   "metadata": {},
   "source": [
    "## Importance des variables"
   ]
  },
  {
   "cell_type": "code",
   "execution_count": 331,
   "metadata": {
    "ExecuteTime": {
     "end_time": "2019-01-15T18:53:41.251830Z",
     "start_time": "2019-01-15T18:52:53.387584Z"
    }
   },
   "outputs": [
    {
     "data": {
      "text/plain": [
       "Text(0.5, 1.0, 'Feature importance')"
      ]
     },
     "execution_count": 331,
     "metadata": {},
     "output_type": "execute_result"
    },
    {
     "data": {
      "image/png": "[encoded data removed]",
      "text/plain": [
       "<Figure size 720x720 with 1 Axes>"
      ]
     },
     "metadata": {},
     "output_type": "display_data"
    }
   ],
   "source": [
    "plt.figure(figsize=(10,10))\n",
    "\n",
    "name = \"Random Forest\"\n",
    "\n",
    "rf = RandomForestRegressor(criterion='mae')\n",
    "rf.fit(df_cat_train.drop(['dwelltime'], axis=1),df_cat_train['dwelltime'])\n",
    "\n",
    "indices = np.argsort(rf.feature_importances_)[::-1][:40]\n",
    "g = sns.barplot(y=df_cat_train.drop(['dwelltime'], axis=1).columns[indices][:40],x = rf.feature_importances_[indices][:40] , orient='h')\n",
    "g.set_xlabel(\"Relative importance\",fontsize=12)\n",
    "g.set_ylabel(\"Features\",fontsize=12)\n",
    "\n",
    "g.tick_params(labelsize=9)\n",
    "g.set_title(\"Feature importance\")"
   ]
  },
  {
   "cell_type": "markdown",
   "metadata": {},
   "source": [
    "A titre informatif, avant One Hot Encoding, les valeurs qui semblent parlantes sont :\n",
    "- la destination finale\n",
    "- l'id du port call\n",
    "- la catégorie de poids"
   ]
  },
  {
   "cell_type": "markdown",
   "metadata": {},
   "source": [
    "## Analyse en Composantes Pincipales"
   ]
  },
  {
   "cell_type": "code",
   "execution_count": 332,
   "metadata": {
    "ExecuteTime": {
     "end_time": "2019-01-15T18:53:41.294023Z",
     "start_time": "2019-01-15T18:53:41.254814Z"
    }
   },
   "outputs": [],
   "source": [
    "def myPCA(df, clusters=None):\n",
    "    # Normalize data\n",
    "    df_norm = (df - (df.mean())) / (df.std())\n",
    "    # PCA\n",
    "    pca = PCA(n_components=7)\n",
    "    global pca_res\n",
    "    pca_res = pca.fit_transform(df_norm.values)\n",
    "    print(\"Variance explained : \" + str(pca.explained_variance_ratio_.sum()))\n",
    "    # Ebouli\n",
    "    plt.figure(figsize=(12,6))\n",
    "    ebouli = pd.Series(pca.explained_variance_ratio_)\n",
    "    ebouli.plot(kind='line', title=\"Scree Plot of the Eigen Values\")\n",
    "    plt.show()\n",
    "    \n",
    "    # Circle of correlations\n",
    "    coef = np.transpose(pca.components_)\n",
    "    cols = ['PC-'+str(x) for x in range(len(ebouli))]\n",
    "    pc_infos = pd.DataFrame(coef, columns=cols, index=df_norm.columns)\n",
    "    plt.figure(figsize=(12,12))\n",
    "    circleOfCorrelations(pc_infos, ebouli)\n",
    "    plt.show()\n",
    "    \n",
    "\n",
    "    return pc_infos, ebouli\n",
    "\n",
    "def circleOfCorrelations(pc_infos, ebouli):\n",
    "    plt.Circle((0,0),radius=10, color='g', fill=False)\n",
    "    circle1=plt.Circle((0,0),radius=1, color='b', fill=False)\n",
    "    circle2=plt.Circle((0,0),radius=0.5, color='b', fill=False)\n",
    "    fig = plt.gcf()\n",
    "    fig.gca().add_artist(circle1)\n",
    "    fig.gca().add_artist(circle2)\n",
    "    for idx in range(len(pc_infos[\"PC-0\"])):\n",
    "        x = pc_infos[\"PC-0\"][idx]\n",
    "        y = pc_infos[\"PC-1\"][idx]\n",
    "        plt.plot([0.0,x],[0.0,y],'k-')\n",
    "        plt.plot(x, y, 'rx')\n",
    "        plt.annotate(pc_infos.index[idx], xy=(x-0.05,y-0.05))\n",
    "    plt.xlabel(\"PC-0 (%s%%)\" % str(ebouli[0])[:4].lstrip(\"0.\"))\n",
    "    plt.ylabel(\"PC-1 (%s%%)\" % str(ebouli[1])[:4].lstrip(\"0.\"))\n",
    "    plt.xlim((-1,1))\n",
    "    plt.ylim((-1,1))\n",
    "    plt.title(\"Circle of Correlations\")"
   ]
  },
  {
   "cell_type": "code",
   "execution_count": 333,
   "metadata": {
    "ExecuteTime": {
     "end_time": "2019-01-15T18:53:42.327417Z",
     "start_time": "2019-01-15T18:53:41.297415Z"
    },
    "scrolled": false
   },
   "outputs": [
    {
     "name": "stdout",
     "output_type": "stream",
     "text": [
      "Variance explained : 0.6341049208740752\n"
     ]
    },
    {
     "data": {
      "image/png": "[encoded data removed]",
      "text/plain": [
       "<Figure size 864x432 with 1 Axes>"
      ]
     },
     "metadata": {},
     "output_type": "display_data"
    },
    {
     "data": {
      "image/png": "[encoded data removed]",
      "text/plain": [
       "<Figure size 864x864 with 1 Axes>"
      ]
     },
     "metadata": {},
     "output_type": "display_data"
    }
   ],
   "source": [
    "pc_infos, ebouli = myPCA(df_cat_train)"
   ]
  },
  {
   "cell_type": "markdown",
   "metadata": {},
   "source": [
    "Les composantes permettant d'expliquer le Dwell Time semblent difficile à corréler avec le Dwell Time étant donné la faible corrélation. Cependant, les directions projetées sur les deux premiers axes permettent de dire que :\n",
    "- l'actual day, final destination, shipping line, id port call ou weight sont autant d'élément qui permettront potentiellement d'expliquer le modèle\n",
    "- la conclusion semble similaire avec l'importance estimée des variables par le Random Forest Regressor ci-dessus"
   ]
  },
  {
   "cell_type": "markdown",
   "metadata": {},
   "source": [
    "# Créer le modèle"
   ]
  },
  {
   "cell_type": "markdown",
   "metadata": {},
   "source": [
    "## Definition de la métrique"
   ]
  },
  {
   "cell_type": "markdown",
   "metadata": {},
   "source": [
    "La métrique sélectionnée est la Mean Absolute Percentage Error."
   ]
  },
  {
   "cell_type": "code",
   "execution_count": 334,
   "metadata": {
    "ExecuteTime": {
     "end_time": "2019-01-15T18:53:42.334454Z",
     "start_time": "2019-01-15T18:53:42.329484Z"
    }
   },
   "outputs": [],
   "source": [
    "def mean_absolute_percentage_error(y_true, y_pred): \n",
    "    result = np.mean(np.abs((y_true - y_pred) / y_true)) * 100\n",
    "    return result"
   ]
  },
  {
   "cell_type": "code",
   "execution_count": 335,
   "metadata": {
    "ExecuteTime": {
     "end_time": "2019-01-15T18:53:42.345385Z",
     "start_time": "2019-01-15T18:53:42.338859Z"
    }
   },
   "outputs": [],
   "source": [
    "df_cat_train = df_cat_train.reset_index(drop=True)"
   ]
  },
  {
   "cell_type": "markdown",
   "metadata": {},
   "source": [
    "Il peut y avoir des problèmes si le dwell time vaut 0 à un moment."
   ]
  },
  {
   "cell_type": "code",
   "execution_count": 336,
   "metadata": {
    "ExecuteTime": {
     "end_time": "2019-01-15T18:53:42.377726Z",
     "start_time": "2019-01-15T18:53:42.351242Z"
    }
   },
   "outputs": [
    {
     "data": {
      "text/html": [
       "<div>\n",
       "<style scoped>\n",
       "    .dataframe tbody tr th:only-of-type {\n",
       "        vertical-align: middle;\n",
       "    }\n",
       "\n",
       "    .dataframe tbody tr th {\n",
       "        vertical-align: top;\n",
       "    }\n",
       "\n",
       "    .dataframe thead th {\n",
       "        text-align: right;\n",
       "    }\n",
       "</style>\n",
       "<table border=\"1\" class=\"dataframe\">\n",
       "  <thead>\n",
       "    <tr style=\"text-align: right;\">\n",
       "      <th></th>\n",
       "      <th>feet</th>\n",
       "      <th>reefer</th>\n",
       "      <th>hazardous</th>\n",
       "      <th>weight</th>\n",
       "      <th>id_port_call</th>\n",
       "      <th>shipping_line</th>\n",
       "      <th>freight_forwarder</th>\n",
       "      <th>trucking_company</th>\n",
       "      <th>final_destination</th>\n",
       "      <th>actual_month</th>\n",
       "      <th>actual_day</th>\n",
       "      <th>actual_day_name</th>\n",
       "      <th>time_diff</th>\n",
       "      <th>AlreadyPassed</th>\n",
       "      <th>dwelltime</th>\n",
       "    </tr>\n",
       "  </thead>\n",
       "  <tbody>\n",
       "    <tr>\n",
       "      <th>10062</th>\n",
       "      <td>20</td>\n",
       "      <td>0.0</td>\n",
       "      <td>0.0</td>\n",
       "      <td>16</td>\n",
       "      <td>270</td>\n",
       "      <td>3</td>\n",
       "      <td>20</td>\n",
       "      <td>8</td>\n",
       "      <td>181</td>\n",
       "      <td>12.0</td>\n",
       "      <td>10.0</td>\n",
       "      <td>6</td>\n",
       "      <td>30</td>\n",
       "      <td>0.0</td>\n",
       "      <td>0</td>\n",
       "    </tr>\n",
       "    <tr>\n",
       "      <th>10064</th>\n",
       "      <td>20</td>\n",
       "      <td>0.0</td>\n",
       "      <td>0.0</td>\n",
       "      <td>16</td>\n",
       "      <td>270</td>\n",
       "      <td>3</td>\n",
       "      <td>20</td>\n",
       "      <td>8</td>\n",
       "      <td>181</td>\n",
       "      <td>12.0</td>\n",
       "      <td>10.0</td>\n",
       "      <td>6</td>\n",
       "      <td>30</td>\n",
       "      <td>0.0</td>\n",
       "      <td>0</td>\n",
       "    </tr>\n",
       "  </tbody>\n",
       "</table>\n",
       "</div>"
      ],
      "text/plain": [
       "       feet  reefer  hazardous  weight  id_port_call  shipping_line  \\\n",
       "10062    20     0.0        0.0      16           270              3   \n",
       "10064    20     0.0        0.0      16           270              3   \n",
       "\n",
       "       freight_forwarder  trucking_company  final_destination  actual_month  \\\n",
       "10062                 20                 8                181          12.0   \n",
       "10064                 20                 8                181          12.0   \n",
       "\n",
       "       actual_day  actual_day_name  time_diff  AlreadyPassed  dwelltime  \n",
       "10062        10.0                6         30            0.0          0  \n",
       "10064        10.0                6         30            0.0          0  "
      ]
     },
     "execution_count": 336,
     "metadata": {},
     "output_type": "execute_result"
    }
   ],
   "source": [
    "df_cat_train[df_cat_train['dwelltime']<1]"
   ]
  },
  {
   "cell_type": "markdown",
   "metadata": {},
   "source": [
    "La volumétrie est négligeable, on peut supprimer ces deux lignes."
   ]
  },
  {
   "cell_type": "code",
   "execution_count": 337,
   "metadata": {
    "ExecuteTime": {
     "end_time": "2019-01-15T18:53:42.390905Z",
     "start_time": "2019-01-15T18:53:42.381711Z"
    }
   },
   "outputs": [],
   "source": [
    "df_cat_train = df_cat_train[df_cat_train['dwelltime']>0]"
   ]
  },
  {
   "cell_type": "code",
   "execution_count": 338,
   "metadata": {
    "ExecuteTime": {
     "end_time": "2019-01-15T18:53:42.411574Z",
     "start_time": "2019-01-15T18:53:42.398128Z"
    }
   },
   "outputs": [],
   "source": [
    "X = df_cat_train.drop(['dwelltime'], axis=1)\n",
    "y = df_cat_train['dwelltime']"
   ]
  },
  {
   "cell_type": "code",
   "execution_count": 339,
   "metadata": {
    "ExecuteTime": {
     "end_time": "2019-01-15T18:53:42.430037Z",
     "start_time": "2019-01-15T18:53:42.421204Z"
    }
   },
   "outputs": [],
   "source": [
    "X_train_label, X_test_label, y_train_label, y_test_label = train_test_split(X, y, test_size=0.10, random_state=42)"
   ]
  },
  {
   "cell_type": "code",
   "execution_count": 340,
   "metadata": {
    "ExecuteTime": {
     "end_time": "2019-01-15T18:53:42.459721Z",
     "start_time": "2019-01-15T18:53:42.435170Z"
    }
   },
   "outputs": [],
   "source": [
    "enc = OneHotEncoder(handle_unknown='ignore')\n",
    "X_oh = enc.fit_transform(X)   "
   ]
  },
  {
   "cell_type": "code",
   "execution_count": 341,
   "metadata": {
    "ExecuteTime": {
     "end_time": "2019-01-15T18:53:42.476167Z",
     "start_time": "2019-01-15T18:53:42.464653Z"
    }
   },
   "outputs": [],
   "source": [
    "X_train_oh, X_test_oh, y_train_oh, y_test_oh = train_test_split(X_oh, y, test_size=0.10, random_state=42)"
   ]
  },
  {
   "cell_type": "markdown",
   "metadata": {},
   "source": [
    "## K-Nearest Neighbors"
   ]
  },
  {
   "cell_type": "code",
   "execution_count": 342,
   "metadata": {
    "ExecuteTime": {
     "end_time": "2019-01-15T18:53:49.005919Z",
     "start_time": "2019-01-15T18:53:42.480170Z"
    }
   },
   "outputs": [],
   "source": [
    "mape = []\n",
    "for k in range(1,10) :\n",
    "    neigh = KNeighborsRegressor(n_neighbors=k)\n",
    "    neigh.fit(X_train_oh, y_train_oh) \n",
    "    y_pred_oh = neigh.predict(X_test_oh)\n",
    "    mape.append(mean_absolute_percentage_error(y_test_oh, y_pred_oh))"
   ]
  },
  {
   "cell_type": "code",
   "execution_count": 343,
   "metadata": {
    "ExecuteTime": {
     "end_time": "2019-01-15T18:53:49.351931Z",
     "start_time": "2019-01-15T18:53:49.009977Z"
    }
   },
   "outputs": [
    {
     "data": {
      "image/png": "[encoded data removed]",
      "text/plain": [
       "<Figure size 864x432 with 1 Axes>"
      ]
     },
     "metadata": {},
     "output_type": "display_data"
    }
   ],
   "source": [
    "plt.figure(figsize=(12,6))\n",
    "plt.plot(mape)\n",
    "plt.title(\"Mean Absolute Percentage Error selon le nombre de voisins\")\n",
    "plt.show()"
   ]
  },
  {
   "cell_type": "markdown",
   "metadata": {},
   "source": [
    "Cette approche semble instable car le nombre de dimensions est trop élevé et que des voisins en ce sens d'une distance Euclidienne peuvent être particulièrement éloignés."
   ]
  },
  {
   "cell_type": "markdown",
   "metadata": {},
   "source": [
    "## Random Forest"
   ]
  },
  {
   "cell_type": "markdown",
   "metadata": {},
   "source": [
    "Deux approches sont testées ici :\n",
    "- avec un Label Encoder\n",
    "- avec le One Hot Encoder"
   ]
  },
  {
   "cell_type": "markdown",
   "metadata": {},
   "source": [
    "### Label Encoder"
   ]
  },
  {
   "cell_type": "code",
   "execution_count": 344,
   "metadata": {
    "ExecuteTime": {
     "end_time": "2019-01-15T18:53:51.191899Z",
     "start_time": "2019-01-15T18:53:49.359084Z"
    }
   },
   "outputs": [
    {
     "data": {
      "text/plain": [
       "RandomForestRegressor(bootstrap=True, criterion='mse', max_depth=None,\n",
       "           max_features='auto', max_leaf_nodes=None,\n",
       "           min_impurity_decrease=0.0, min_impurity_split=None,\n",
       "           min_samples_leaf=1, min_samples_split=2,\n",
       "           min_weight_fraction_leaf=0.0, n_estimators=100, n_jobs=-1,\n",
       "           oob_score=False, random_state=None, verbose=0, warm_start=False)"
      ]
     },
     "execution_count": 344,
     "metadata": {},
     "output_type": "execute_result"
    }
   ],
   "source": [
    "rf = RandomForestRegressor(n_estimators=100, n_jobs=-1)\n",
    "rf.fit(X_train_label, y_train_label)"
   ]
  },
  {
   "cell_type": "code",
   "execution_count": 345,
   "metadata": {
    "ExecuteTime": {
     "end_time": "2019-01-15T18:53:51.309202Z",
     "start_time": "2019-01-15T18:53:51.195754Z"
    }
   },
   "outputs": [],
   "source": [
    "y_pred_label = rf.predict(X_test_label)"
   ]
  },
  {
   "cell_type": "code",
   "execution_count": 346,
   "metadata": {
    "ExecuteTime": {
     "end_time": "2019-01-15T18:53:51.324364Z",
     "start_time": "2019-01-15T18:53:51.312847Z"
    }
   },
   "outputs": [
    {
     "data": {
      "text/plain": [
       "120.85591523400862"
      ]
     },
     "execution_count": 346,
     "metadata": {},
     "output_type": "execute_result"
    }
   ],
   "source": [
    "mean_absolute_percentage_error(y_test_label, y_pred_label)"
   ]
  },
  {
   "cell_type": "markdown",
   "metadata": {},
   "source": [
    "### One Hot Encoder"
   ]
  },
  {
   "cell_type": "code",
   "execution_count": 347,
   "metadata": {
    "ExecuteTime": {
     "end_time": "2019-01-15T18:54:30.946553Z",
     "start_time": "2019-01-15T18:53:51.328362Z"
    }
   },
   "outputs": [
    {
     "data": {
      "text/plain": [
       "RandomForestRegressor(bootstrap=True, criterion='mse', max_depth=None,\n",
       "           max_features='auto', max_leaf_nodes=None,\n",
       "           min_impurity_decrease=0.0, min_impurity_split=None,\n",
       "           min_samples_leaf=1, min_samples_split=2,\n",
       "           min_weight_fraction_leaf=0.0, n_estimators=100, n_jobs=-1,\n",
       "           oob_score=False, random_state=None, verbose=0, warm_start=False)"
      ]
     },
     "execution_count": 347,
     "metadata": {},
     "output_type": "execute_result"
    }
   ],
   "source": [
    "rf = RandomForestRegressor(n_estimators=100, n_jobs=-1)\n",
    "rf.fit(X_train_oh, y_train_oh)"
   ]
  },
  {
   "cell_type": "code",
   "execution_count": 348,
   "metadata": {
    "ExecuteTime": {
     "end_time": "2019-01-15T18:54:31.066650Z",
     "start_time": "2019-01-15T18:54:30.952024Z"
    }
   },
   "outputs": [],
   "source": [
    "y_pred_oh = rf.predict(X_test_oh)"
   ]
  },
  {
   "cell_type": "code",
   "execution_count": 349,
   "metadata": {
    "ExecuteTime": {
     "end_time": "2019-01-15T18:54:31.087954Z",
     "start_time": "2019-01-15T18:54:31.073653Z"
    }
   },
   "outputs": [
    {
     "data": {
      "text/plain": [
       "110.40176275215532"
      ]
     },
     "execution_count": 349,
     "metadata": {},
     "output_type": "execute_result"
    }
   ],
   "source": [
    "mean_absolute_percentage_error(y_test_oh, y_pred_oh)"
   ]
  },
  {
   "cell_type": "markdown",
   "metadata": {},
   "source": [
    "Le Label Encoder semble fonctionner systématiquement moins bien que le One Hot Encoder. Pour cette raison, j'ai décidé de conserver unqiuemenet l'approche One Hot Encoder."
   ]
  },
  {
   "cell_type": "markdown",
   "metadata": {},
   "source": [
    "## Gradient Boosting Methods"
   ]
  },
  {
   "cell_type": "code",
   "execution_count": 350,
   "metadata": {
    "ExecuteTime": {
     "end_time": "2019-01-15T18:56:00.910281Z",
     "start_time": "2019-01-15T18:55:03.361651Z"
    }
   },
   "outputs": [
    {
     "data": {
      "text/plain": [
       "XGBRegressor(base_score=0.5, booster='gbtree', colsample_bylevel=1,\n",
       "       colsample_bytree=1, gamma=0, learning_rate=0.0005, max_delta_step=0,\n",
       "       max_depth=30, min_child_weight=1, missing=None, n_estimators=1000,\n",
       "       n_jobs=1, nthread=None, objective='reg:linear', random_state=0,\n",
       "       reg_alpha=0, reg_lambda=1, scale_pos_weight=1, seed=None,\n",
       "       silent=True, subsample=1)"
      ]
     },
     "execution_count": 350,
     "metadata": {},
     "output_type": "execute_result"
    }
   ],
   "source": [
    "reg_gbm = xgb.XGBRegressor(learning_rate = 0.0005, n_estimators=1000, max_depth=30)\n",
    "reg_gbm.fit(X_train_oh, y_train_oh)"
   ]
  },
  {
   "cell_type": "code",
   "execution_count": 351,
   "metadata": {
    "ExecuteTime": {
     "end_time": "2019-01-15T18:56:03.304935Z",
     "start_time": "2019-01-15T18:56:00.925317Z"
    }
   },
   "outputs": [],
   "source": [
    "y_pred_oh = reg_gbm.predict(X_test_oh)"
   ]
  },
  {
   "cell_type": "code",
   "execution_count": 352,
   "metadata": {
    "ExecuteTime": {
     "end_time": "2019-01-15T18:56:03.355186Z",
     "start_time": "2019-01-15T18:56:03.311227Z"
    }
   },
   "outputs": [
    {
     "data": {
      "text/plain": [
       "80.42707038785028"
      ]
     },
     "execution_count": 352,
     "metadata": {},
     "output_type": "execute_result"
    }
   ],
   "source": [
    "mean_absolute_percentage_error(y_test_oh, y_pred_oh)"
   ]
  },
  {
   "cell_type": "markdown",
   "metadata": {},
   "source": [
    "## Dimension Reduction"
   ]
  },
  {
   "cell_type": "code",
   "execution_count": 353,
   "metadata": {
    "ExecuteTime": {
     "end_time": "2019-01-15T18:56:37.651722Z",
     "start_time": "2019-01-15T18:56:36.398032Z"
    }
   },
   "outputs": [],
   "source": [
    "pca = PCA(n_components=100)\n",
    "pca_res = pca.fit_transform(X_oh.toarray())"
   ]
  },
  {
   "cell_type": "code",
   "execution_count": 354,
   "metadata": {
    "ExecuteTime": {
     "end_time": "2019-01-15T18:56:37.663543Z",
     "start_time": "2019-01-15T18:56:37.655323Z"
    }
   },
   "outputs": [
    {
     "data": {
      "text/plain": [
       "0.8522155076854848"
      ]
     },
     "execution_count": 354,
     "metadata": {},
     "output_type": "execute_result"
    }
   ],
   "source": [
    "pca.explained_variance_ratio_.sum()"
   ]
  },
  {
   "cell_type": "code",
   "execution_count": 355,
   "metadata": {
    "ExecuteTime": {
     "end_time": "2019-01-15T18:56:37.675664Z",
     "start_time": "2019-01-15T18:56:37.668310Z"
    }
   },
   "outputs": [],
   "source": [
    "pca_cum = []\n",
    "total = 0\n",
    "for val in pca.explained_variance_ratio_ :\n",
    "    total = total + val\n",
    "    pca_cum.append(total)"
   ]
  },
  {
   "cell_type": "code",
   "execution_count": 356,
   "metadata": {
    "ExecuteTime": {
     "end_time": "2019-01-15T18:56:38.137475Z",
     "start_time": "2019-01-15T18:56:37.680430Z"
    }
   },
   "outputs": [
    {
     "data": {
      "image/png": "[encoded data removed]",
      "text/plain": [
       "<Figure size 864x432 with 1 Axes>"
      ]
     },
     "metadata": {},
     "output_type": "display_data"
    }
   ],
   "source": [
    "plt.figure(figsize=(12,6))\n",
    "plt.plot(pca_cum)\n",
    "plt.title(\"Variance cumulative expliquée par la décomposition en composantes principales\")\n",
    "plt.show()"
   ]
  },
  {
   "cell_type": "code",
   "execution_count": 357,
   "metadata": {
    "ExecuteTime": {
     "end_time": "2019-01-15T18:56:39.208484Z",
     "start_time": "2019-01-15T18:56:38.141155Z"
    }
   },
   "outputs": [],
   "source": [
    "pca = PCA(n_components=60)\n",
    "pca_res = pca.fit_transform(X_oh.toarray())"
   ]
  },
  {
   "cell_type": "code",
   "execution_count": 363,
   "metadata": {
    "ExecuteTime": {
     "end_time": "2019-01-15T18:57:29.568566Z",
     "start_time": "2019-01-15T18:57:29.551520Z"
    }
   },
   "outputs": [],
   "source": [
    "X = X_oh.toarray()\n",
    "y = df_cat_train['dwelltime']"
   ]
  },
  {
   "cell_type": "markdown",
   "metadata": {},
   "source": [
    "On peut maintenant appliquer une Random Forest :"
   ]
  },
  {
   "cell_type": "code",
   "execution_count": 366,
   "metadata": {
    "ExecuteTime": {
     "end_time": "2019-01-15T18:57:37.930832Z",
     "start_time": "2019-01-15T18:57:37.856421Z"
    }
   },
   "outputs": [],
   "source": [
    "X_train_pca, X_test_pca, y_train_pca, y_test_pca = train_test_split(X, y, test_size=0.10, random_state=42)"
   ]
  },
  {
   "cell_type": "code",
   "execution_count": 367,
   "metadata": {
    "ExecuteTime": {
     "end_time": "2019-01-15T18:59:02.564671Z",
     "start_time": "2019-01-15T18:57:39.049756Z"
    }
   },
   "outputs": [
    {
     "data": {
      "text/plain": [
       "RandomForestRegressor(bootstrap=True, criterion='mse', max_depth=None,\n",
       "           max_features='auto', max_leaf_nodes=None,\n",
       "           min_impurity_decrease=0.0, min_impurity_split=None,\n",
       "           min_samples_leaf=1, min_samples_split=2,\n",
       "           min_weight_fraction_leaf=0.0, n_estimators=100, n_jobs=-1,\n",
       "           oob_score=False, random_state=None, verbose=0, warm_start=False)"
      ]
     },
     "execution_count": 367,
     "metadata": {},
     "output_type": "execute_result"
    }
   ],
   "source": [
    "rf = RandomForestRegressor(n_estimators=100, n_jobs=-1)\n",
    "rf.fit(X_train_pca, y_train_pca)"
   ]
  },
  {
   "cell_type": "code",
   "execution_count": 368,
   "metadata": {
    "ExecuteTime": {
     "end_time": "2019-01-15T18:59:02.679019Z",
     "start_time": "2019-01-15T18:59:02.568703Z"
    }
   },
   "outputs": [],
   "source": [
    "y_pred_pca = rf.predict(X_test_pca)"
   ]
  },
  {
   "cell_type": "code",
   "execution_count": 369,
   "metadata": {
    "ExecuteTime": {
     "end_time": "2019-01-15T18:59:02.687150Z",
     "start_time": "2019-01-15T18:59:02.681151Z"
    }
   },
   "outputs": [
    {
     "data": {
      "text/plain": [
       "112.21159406721341"
      ]
     },
     "execution_count": 369,
     "metadata": {},
     "output_type": "execute_result"
    }
   ],
   "source": [
    "mean_absolute_percentage_error(y_test_pca, y_pred_pca)"
   ]
  },
  {
   "cell_type": "markdown",
   "metadata": {},
   "source": [
    "La réduction de dimension n'apporte que peu de résultats mais peut s'avérer être plus stable car le nombre de dimensions en entrée est divisé par 6."
   ]
  },
  {
   "cell_type": "markdown",
   "metadata": {},
   "source": [
    "## Artificial Neural Network"
   ]
  },
  {
   "cell_type": "markdown",
   "metadata": {},
   "source": [
    "Bien que nous ne disposons que de peu de données, une approche par Deep Learning devrait offrir des résultats intéressants de par notamment la complexité du set de données."
   ]
  },
  {
   "cell_type": "markdown",
   "metadata": {},
   "source": [
    "\"The properties of the ANN used for the training method are 2000 training cycles, 4 hidden layers of 25 nodes each, a network learning rate of 0.05 and a momentum term of 0.2.\"\n",
    "https://www.sciencedirect.com/science/article/pii/S2352146516300618"
   ]
  },
  {
   "cell_type": "code",
   "execution_count": 458,
   "metadata": {
    "ExecuteTime": {
     "end_time": "2019-01-15T22:11:18.923109Z",
     "start_time": "2019-01-15T22:11:17.846323Z"
    }
   },
   "outputs": [],
   "source": [
    "model=Sequential()\n",
    "\n",
    "model.add(Dense(100, input_dim=681, kernel_initializer='normal', activation='relu'))\n",
    "model.add(Dropout(0.20))\n",
    "model.add(BatchNormalization())\n",
    "\n",
    "model.add(Dense(100, input_dim=100, kernel_initializer='normal', activation='relu'))\n",
    "model.add(Dropout(0.20))\n",
    "model.add(BatchNormalization())\n",
    "\n",
    "model.add(Dense(100, input_dim=100, kernel_initializer='normal', activation='relu'))\n",
    "model.add(Dropout(0.20))\n",
    "model.add(BatchNormalization())\n",
    "\n",
    "model.add(Dense(100, input_dim=100, kernel_initializer='normal', activation='relu'))\n",
    "model.add(Dropout(0.20))\n",
    "model.add(BatchNormalization())\n",
    "\n",
    "model.add(Dense(1, input_dim=100, kernel_initializer='normal', activation='relu'))\n",
    "\n",
    "#model.add(Dense(1, kernel_initializer='normal'))\n",
    "#sgd = SGD(lr=0.1, momentum=0.8)\n",
    "model.compile(loss='mean_absolute_percentage_error', optimizer='adam')"
   ]
  },
  {
   "cell_type": "markdown",
   "metadata": {},
   "source": [
    "L'architecture du modèle est inspirée du papier de recherche cité ci-dessus. Cependant :\n",
    "- notre nombre de variables est pls élevé, chaque couche du réseau possède donc plus de neurones\n",
    "- pour gérer les valeurs négatives, nous optons pour la LeakyRelu\n",
    "- le droput et le batch normalisation permettent de grandement limiter l'overfitting\n",
    "- un optimiseur Adam est retenu après plusieurs tests\n",
    "- le batch size est fixé à 5\n",
    "- nous apprenons sur 100 epochs pour des questions de temps"
   ]
  },
  {
   "cell_type": "code",
   "execution_count": 459,
   "metadata": {
    "ExecuteTime": {
     "end_time": "2019-01-15T22:11:18.941607Z",
     "start_time": "2019-01-15T22:11:18.926802Z"
    }
   },
   "outputs": [
    {
     "data": {
      "text/plain": [
       "(11711, 681)"
      ]
     },
     "execution_count": 459,
     "metadata": {},
     "output_type": "execute_result"
    }
   ],
   "source": [
    "X_train_oh.shape"
   ]
  },
  {
   "cell_type": "code",
   "execution_count": 460,
   "metadata": {
    "ExecuteTime": {
     "end_time": "2019-01-15T22:17:20.019177Z",
     "start_time": "2019-01-15T22:11:19.445175Z"
    },
    "scrolled": true
   },
   "outputs": [
    {
     "name": "stdout",
     "output_type": "stream",
     "text": [
      "Train on 9954 samples, validate on 1757 samples\n",
      "Epoch 1/30\n",
      "9954/9954 [==============================] - 17s 2ms/step - loss: 90.7841 - val_loss: 83.7360\n",
      "Epoch 2/30\n",
      "9954/9954 [==============================] - 13s 1ms/step - loss: 82.4396 - val_loss: 79.7857\n",
      "Epoch 3/30\n",
      "9954/9954 [==============================] - 12s 1ms/step - loss: 79.9914 - val_loss: 77.5845\n",
      "Epoch 4/30\n",
      "9954/9954 [==============================] - 12s 1ms/step - loss: 77.3683 - val_loss: 77.7872\n",
      "Epoch 5/30\n",
      "9954/9954 [==============================] - 12s 1ms/step - loss: 75.4295 - val_loss: 76.3260\n",
      "Epoch 6/30\n",
      "9954/9954 [==============================] - 15s 1ms/step - loss: 75.6558 - val_loss: 76.3514\n",
      "Epoch 7/30\n",
      "9954/9954 [==============================] - 15s 2ms/step - loss: 74.7025 - val_loss: 75.6192\n",
      "Epoch 8/30\n",
      "9954/9954 [==============================] - 13s 1ms/step - loss: 73.1458 - val_loss: 74.7446\n",
      "Epoch 9/30\n",
      "9954/9954 [==============================] - 12s 1ms/step - loss: 73.6716 - val_loss: 74.7892\n",
      "Epoch 10/30\n",
      "9954/9954 [==============================] - 12s 1ms/step - loss: 72.8653 - val_loss: 73.4762\n",
      "Epoch 11/30\n",
      "9954/9954 [==============================] - 12s 1ms/step - loss: 72.4257 - val_loss: 74.5008\n",
      "Epoch 12/30\n",
      "9954/9954 [==============================] - 11s 1ms/step - loss: 72.9125 - val_loss: 74.8534\n",
      "Epoch 13/30\n",
      "9954/9954 [==============================] - 11s 1ms/step - loss: 71.4365 - val_loss: 74.2581\n",
      "Epoch 14/30\n",
      "9954/9954 [==============================] - 11s 1ms/step - loss: 73.8598 - val_loss: 75.6666\n",
      "Epoch 15/30\n",
      "9954/9954 [==============================] - 11s 1ms/step - loss: 71.4616 - val_loss: 75.5788\n",
      "Epoch 16/30\n",
      "9954/9954 [==============================] - 11s 1ms/step - loss: 70.9562 - val_loss: 75.5320\n",
      "Epoch 17/30\n",
      "9954/9954 [==============================] - 11s 1ms/step - loss: 71.6106 - val_loss: 75.9994\n",
      "Epoch 18/30\n",
      "9954/9954 [==============================] - 11s 1ms/step - loss: 72.5990 - val_loss: 74.4793\n",
      "Epoch 19/30\n",
      "9954/9954 [==============================] - 11s 1ms/step - loss: 71.3734 - val_loss: 73.5385\n",
      "Epoch 20/30\n",
      "9954/9954 [==============================] - 11s 1ms/step - loss: 70.6010 - val_loss: 72.2739\n",
      "Epoch 21/30\n",
      "9954/9954 [==============================] - 11s 1ms/step - loss: 71.3643 - val_loss: 72.8660\n",
      "Epoch 22/30\n",
      "9954/9954 [==============================] - 11s 1ms/step - loss: 71.3930 - val_loss: 73.7522\n",
      "Epoch 23/30\n",
      "9954/9954 [==============================] - 11s 1ms/step - loss: 70.6223 - val_loss: 75.1132\n",
      "Epoch 24/30\n",
      "9954/9954 [==============================] - 11s 1ms/step - loss: 71.1822 - val_loss: 74.2479\n",
      "Epoch 25/30\n",
      "9954/9954 [==============================] - 11s 1ms/step - loss: 69.0212 - val_loss: 75.0327\n",
      "Epoch 26/30\n",
      "9954/9954 [==============================] - 12s 1ms/step - loss: 69.2124 - val_loss: 74.8552\n",
      "Epoch 27/30\n",
      "9954/9954 [==============================] - 12s 1ms/step - loss: 70.0772 - val_loss: 75.1962\n",
      "Epoch 28/30\n",
      "9954/9954 [==============================] - 12s 1ms/step - loss: 69.4970 - val_loss: 74.5978\n",
      "Epoch 29/30\n",
      "9954/9954 [==============================] - 11s 1ms/step - loss: 70.0574 - val_loss: 74.3669\n",
      "Epoch 30/30\n",
      "9954/9954 [==============================] - 11s 1ms/step - loss: 70.0362 - val_loss: 73.1043\n"
     ]
    },
    {
     "data": {
      "text/plain": [
       "<keras.callbacks.History at 0x1c7c801e80>"
      ]
     },
     "execution_count": 460,
     "metadata": {},
     "output_type": "execute_result"
    }
   ],
   "source": [
    "model.fit(X_train_oh, y_train_oh, epochs=30, batch_size=5, verbose=1, validation_split=0.15)"
   ]
  },
  {
   "cell_type": "code",
   "execution_count": 463,
   "metadata": {
    "ExecuteTime": {
     "end_time": "2019-01-15T22:18:02.025519Z",
     "start_time": "2019-01-15T22:17:59.687704Z"
    }
   },
   "outputs": [
    {
     "name": "stdout",
     "output_type": "stream",
     "text": [
      "Saved model to disk\n"
     ]
    }
   ],
   "source": [
    "# serialize model to JSON\n",
    "model_json = model.to_json()\n",
    "with open(\"model/model.json\", \"w\") as json_file:\n",
    "    json_file.write(model_json)\n",
    "# serialize weights to HDF5\n",
    "model.save_weights(\"model/model.h5\")\n",
    "print(\"Saved model to disk\")"
   ]
  },
  {
   "cell_type": "code",
   "execution_count": 464,
   "metadata": {
    "ExecuteTime": {
     "end_time": "2019-01-15T22:18:22.702679Z",
     "start_time": "2019-01-15T22:18:19.729399Z"
    }
   },
   "outputs": [
    {
     "name": "stdout",
     "output_type": "stream",
     "text": [
      "Loaded model from disk\n"
     ]
    }
   ],
   "source": [
    "# load json and create model\n",
    "json_file = open('model/model.json', 'r')\n",
    "loaded_model_json = json_file.read()\n",
    "json_file.close()\n",
    "loaded_model = model_from_json(loaded_model_json)\n",
    "\n",
    "# load weights into new model\n",
    "loaded_model.load_weights(\"model/model.h5\")\n",
    "print(\"Loaded model from disk\")"
   ]
  },
  {
   "cell_type": "markdown",
   "metadata": {},
   "source": [
    "Remarque :\n",
    "- la convergence peut être améliorée\n",
    "- il y a un léger overfitting\n",
    "- certaines valeurs de loss sont instables\n",
    "- de manière générale, le modèle pourrait être mieux calibré et tourner plus longtemps"
   ]
  },
  {
   "cell_type": "code",
   "execution_count": 465,
   "metadata": {
    "ExecuteTime": {
     "end_time": "2019-01-15T22:18:23.755119Z",
     "start_time": "2019-01-15T22:18:23.742559Z"
    }
   },
   "outputs": [
    {
     "name": "stdout",
     "output_type": "stream",
     "text": [
      "_________________________________________________________________\n",
      "Layer (type)                 Output Shape              Param #   \n",
      "=================================================================\n",
      "dense_60 (Dense)             (None, 100)               68200     \n",
      "_________________________________________________________________\n",
      "dropout_48 (Dropout)         (None, 100)               0         \n",
      "_________________________________________________________________\n",
      "batch_normalization_45 (Batc (None, 100)               400       \n",
      "_________________________________________________________________\n",
      "dense_61 (Dense)             (None, 100)               10100     \n",
      "_________________________________________________________________\n",
      "dropout_49 (Dropout)         (None, 100)               0         \n",
      "_________________________________________________________________\n",
      "batch_normalization_46 (Batc (None, 100)               400       \n",
      "_________________________________________________________________\n",
      "dense_62 (Dense)             (None, 100)               10100     \n",
      "_________________________________________________________________\n",
      "dropout_50 (Dropout)         (None, 100)               0         \n",
      "_________________________________________________________________\n",
      "batch_normalization_47 (Batc (None, 100)               400       \n",
      "_________________________________________________________________\n",
      "dense_63 (Dense)             (None, 100)               10100     \n",
      "_________________________________________________________________\n",
      "dropout_51 (Dropout)         (None, 100)               0         \n",
      "_________________________________________________________________\n",
      "batch_normalization_48 (Batc (None, 100)               400       \n",
      "_________________________________________________________________\n",
      "dense_64 (Dense)             (None, 1)                 101       \n",
      "=================================================================\n",
      "Total params: 100,201\n",
      "Trainable params: 99,401\n",
      "Non-trainable params: 800\n",
      "_________________________________________________________________\n"
     ]
    }
   ],
   "source": [
    "loaded_model.summary()"
   ]
  },
  {
   "cell_type": "code",
   "execution_count": 467,
   "metadata": {
    "ExecuteTime": {
     "end_time": "2019-01-15T22:18:35.503595Z",
     "start_time": "2019-01-15T22:18:34.453853Z"
    }
   },
   "outputs": [],
   "source": [
    "prediction = loaded_model.predict(X_test_oh)"
   ]
  },
  {
   "cell_type": "code",
   "execution_count": 468,
   "metadata": {
    "ExecuteTime": {
     "end_time": "2019-01-15T22:18:36.377602Z",
     "start_time": "2019-01-15T22:18:36.368542Z"
    }
   },
   "outputs": [
    {
     "data": {
      "text/plain": [
       "69.9560156194187"
      ]
     },
     "execution_count": 468,
     "metadata": {},
     "output_type": "execute_result"
    }
   ],
   "source": [
    "mean_absolute_percentage_error(y_test_oh, prediction.flatten())"
   ]
  },
  {
   "cell_type": "markdown",
   "metadata": {},
   "source": [
    "# Meilleurs résultats"
   ]
  },
  {
   "cell_type": "code",
   "execution_count": 469,
   "metadata": {
    "ExecuteTime": {
     "end_time": "2019-01-15T22:19:36.670995Z",
     "start_time": "2019-01-15T22:19:36.656338Z"
    }
   },
   "outputs": [],
   "source": [
    "submissions = {}\n",
    "submissions['0'] = ['KNN', '3 Neighbors', 0, 1, \"Avec Mois Estimé\", 145]\n",
    "submissions['2'] = ['Random Forest', '100 estimateurs, Critère MSE', 1, 0, \"Avec Already Passed\", 120.5]\n",
    "submissions['4'] = ['Random Forest', '100 estimateurs, Critère MSE', 0, 1, \"Avec Already Passed\", 110.40]\n",
    "submissions['5'] = ['PCA before Random Forest', '100 estimateurs, Critère MSE', 0, 1, \"Avec Mois Estimé, Avec Already Passed\", 112.5]\n",
    "submissions['6'] = ['XGBoost', '1000 estimateurs, lr=0.0005, max_depth=30', 0, 1, \"Avec Mois Estimé\", 80.42]\n",
    "submissions['7'] = ['ANN', '100 epochs, Adam loss', 0, 1, \"4 Hidden layers\", 69.95]"
   ]
  },
  {
   "cell_type": "code",
   "execution_count": 470,
   "metadata": {
    "ExecuteTime": {
     "end_time": "2019-01-15T22:19:38.449576Z",
     "start_time": "2019-01-15T22:19:38.421044Z"
    },
    "scrolled": true
   },
   "outputs": [
    {
     "data": {
      "text/html": [
       "<div>\n",
       "<style scoped>\n",
       "    .dataframe tbody tr th:only-of-type {\n",
       "        vertical-align: middle;\n",
       "    }\n",
       "\n",
       "    .dataframe tbody tr th {\n",
       "        vertical-align: top;\n",
       "    }\n",
       "\n",
       "    .dataframe thead th {\n",
       "        text-align: right;\n",
       "    }\n",
       "</style>\n",
       "<table border=\"1\" class=\"dataframe\">\n",
       "  <thead>\n",
       "    <tr style=\"text-align: right;\">\n",
       "      <th></th>\n",
       "      <th>model</th>\n",
       "      <th>Parameters</th>\n",
       "      <th>Label Encoder</th>\n",
       "      <th>One Hot Encoder</th>\n",
       "      <th>Detail Train Set</th>\n",
       "      <th>MAPE</th>\n",
       "    </tr>\n",
       "  </thead>\n",
       "  <tbody>\n",
       "    <tr>\n",
       "      <th>7</th>\n",
       "      <td>ANN</td>\n",
       "      <td>100 epochs, Adam loss</td>\n",
       "      <td>0</td>\n",
       "      <td>1</td>\n",
       "      <td>4 Hidden layers</td>\n",
       "      <td>69.95</td>\n",
       "    </tr>\n",
       "    <tr>\n",
       "      <th>6</th>\n",
       "      <td>XGBoost</td>\n",
       "      <td>1000 estimateurs, lr=0.0005, max_depth=30</td>\n",
       "      <td>0</td>\n",
       "      <td>1</td>\n",
       "      <td>Avec Mois Estimé</td>\n",
       "      <td>80.42</td>\n",
       "    </tr>\n",
       "    <tr>\n",
       "      <th>4</th>\n",
       "      <td>Random Forest</td>\n",
       "      <td>100 estimateurs, Critère MSE</td>\n",
       "      <td>0</td>\n",
       "      <td>1</td>\n",
       "      <td>Avec Already Passed</td>\n",
       "      <td>110.40</td>\n",
       "    </tr>\n",
       "    <tr>\n",
       "      <th>5</th>\n",
       "      <td>PCA before Random Forest</td>\n",
       "      <td>100 estimateurs, Critère MSE</td>\n",
       "      <td>0</td>\n",
       "      <td>1</td>\n",
       "      <td>Avec Mois Estimé, Avec Already Passed</td>\n",
       "      <td>112.50</td>\n",
       "    </tr>\n",
       "    <tr>\n",
       "      <th>2</th>\n",
       "      <td>Random Forest</td>\n",
       "      <td>100 estimateurs, Critère MSE</td>\n",
       "      <td>1</td>\n",
       "      <td>0</td>\n",
       "      <td>Avec Already Passed</td>\n",
       "      <td>120.50</td>\n",
       "    </tr>\n",
       "    <tr>\n",
       "      <th>0</th>\n",
       "      <td>KNN</td>\n",
       "      <td>3 Neighbors</td>\n",
       "      <td>0</td>\n",
       "      <td>1</td>\n",
       "      <td>Avec Mois Estimé</td>\n",
       "      <td>145.00</td>\n",
       "    </tr>\n",
       "  </tbody>\n",
       "</table>\n",
       "</div>"
      ],
      "text/plain": [
       "                      model                                 Parameters  \\\n",
       "7                       ANN                      100 epochs, Adam loss   \n",
       "6                   XGBoost  1000 estimateurs, lr=0.0005, max_depth=30   \n",
       "4             Random Forest               100 estimateurs, Critère MSE   \n",
       "5  PCA before Random Forest               100 estimateurs, Critère MSE   \n",
       "2             Random Forest               100 estimateurs, Critère MSE   \n",
       "0                       KNN                                3 Neighbors   \n",
       "\n",
       "   Label Encoder  One Hot Encoder                       Detail Train Set  \\\n",
       "7              0                1                        4 Hidden layers   \n",
       "6              0                1                       Avec Mois Estimé   \n",
       "4              0                1                    Avec Already Passed   \n",
       "5              0                1  Avec Mois Estimé, Avec Already Passed   \n",
       "2              1                0                    Avec Already Passed   \n",
       "0              0                1                       Avec Mois Estimé   \n",
       "\n",
       "     MAPE  \n",
       "7   69.95  \n",
       "6   80.42  \n",
       "4  110.40  \n",
       "5  112.50  \n",
       "2  120.50  \n",
       "0  145.00  "
      ]
     },
     "execution_count": 470,
     "metadata": {},
     "output_type": "execute_result"
    }
   ],
   "source": [
    "subs_df = pd.DataFrame.from_dict(\n",
    "    submissions, \n",
    "    orient='index',\n",
    "    columns=['model','Parameters', 'Label Encoder', 'One Hot Encoder', 'Detail Train Set', 'MAPE'])\n",
    "\n",
    "subs_df.sort_values('MAPE')"
   ]
  },
  {
   "cell_type": "markdown",
   "metadata": {},
   "source": [
    "L'approche par deep learning semble produire les meilleurs résultats. Il est cependant important de souligner que nous la volumétrie actuelle nous permet difficilement de tirer des conclusions de l'efficacité du deep learning."
   ]
  },
  {
   "cell_type": "markdown",
   "metadata": {},
   "source": [
    "# Prediction"
   ]
  },
  {
   "cell_type": "markdown",
   "metadata": {},
   "source": [
    "## Vers CSV"
   ]
  },
  {
   "cell_type": "code",
   "execution_count": 473,
   "metadata": {
    "ExecuteTime": {
     "end_time": "2019-01-15T22:20:16.519486Z",
     "start_time": "2019-01-15T22:20:16.508931Z"
    }
   },
   "outputs": [
    {
     "data": {
      "text/plain": [
       "<1183x681 sparse matrix of type '<class 'numpy.float64'>'\n",
       "\twith 15303 stored elements in Compressed Sparse Row format>"
      ]
     },
     "execution_count": 473,
     "metadata": {},
     "output_type": "execute_result"
    }
   ],
   "source": [
    "enc.transform(df_cat_test)"
   ]
  },
  {
   "cell_type": "code",
   "execution_count": 474,
   "metadata": {
    "ExecuteTime": {
     "end_time": "2019-01-15T22:20:17.602118Z",
     "start_time": "2019-01-15T22:20:17.590341Z"
    }
   },
   "outputs": [],
   "source": [
    "df_cat_test = enc.transform(df_cat_test)"
   ]
  },
  {
   "cell_type": "code",
   "execution_count": 475,
   "metadata": {
    "ExecuteTime": {
     "end_time": "2019-01-15T22:20:18.539139Z",
     "start_time": "2019-01-15T22:20:18.426331Z"
    }
   },
   "outputs": [],
   "source": [
    "prediction = pd.DataFrame(loaded_model.predict(df_cat_test))"
   ]
  },
  {
   "cell_type": "code",
   "execution_count": 476,
   "metadata": {
    "ExecuteTime": {
     "end_time": "2019-01-15T22:20:19.303731Z",
     "start_time": "2019-01-15T22:20:19.290629Z"
    }
   },
   "outputs": [],
   "source": [
    "prediction.to_csv(\"prediction.csv\")"
   ]
  },
  {
   "cell_type": "markdown",
   "metadata": {},
   "source": [
    "## Intervalle de confiance"
   ]
  },
  {
   "cell_type": "code",
   "execution_count": 477,
   "metadata": {
    "ExecuteTime": {
     "end_time": "2019-01-15T22:20:21.204705Z",
     "start_time": "2019-01-15T22:20:21.178864Z"
    }
   },
   "outputs": [
    {
     "data": {
      "text/html": [
       "<div>\n",
       "<style scoped>\n",
       "    .dataframe tbody tr th:only-of-type {\n",
       "        vertical-align: middle;\n",
       "    }\n",
       "\n",
       "    .dataframe tbody tr th {\n",
       "        vertical-align: top;\n",
       "    }\n",
       "\n",
       "    .dataframe thead th {\n",
       "        text-align: right;\n",
       "    }\n",
       "</style>\n",
       "<table border=\"1\" class=\"dataframe\">\n",
       "  <thead>\n",
       "    <tr style=\"text-align: right;\">\n",
       "      <th></th>\n",
       "      <th>0</th>\n",
       "    </tr>\n",
       "  </thead>\n",
       "  <tbody>\n",
       "    <tr>\n",
       "      <th>count</th>\n",
       "      <td>1183.000000</td>\n",
       "    </tr>\n",
       "    <tr>\n",
       "      <th>mean</th>\n",
       "      <td>30.031837</td>\n",
       "    </tr>\n",
       "    <tr>\n",
       "      <th>std</th>\n",
       "      <td>11.998588</td>\n",
       "    </tr>\n",
       "    <tr>\n",
       "      <th>min</th>\n",
       "      <td>0.000000</td>\n",
       "    </tr>\n",
       "    <tr>\n",
       "      <th>25%</th>\n",
       "      <td>21.272823</td>\n",
       "    </tr>\n",
       "    <tr>\n",
       "      <th>50%</th>\n",
       "      <td>30.672049</td>\n",
       "    </tr>\n",
       "    <tr>\n",
       "      <th>75%</th>\n",
       "      <td>37.618608</td>\n",
       "    </tr>\n",
       "    <tr>\n",
       "      <th>max</th>\n",
       "      <td>93.774849</td>\n",
       "    </tr>\n",
       "  </tbody>\n",
       "</table>\n",
       "</div>"
      ],
      "text/plain": [
       "                 0\n",
       "count  1183.000000\n",
       "mean     30.031837\n",
       "std      11.998588\n",
       "min       0.000000\n",
       "25%      21.272823\n",
       "50%      30.672049\n",
       "75%      37.618608\n",
       "max      93.774849"
      ]
     },
     "execution_count": 477,
     "metadata": {},
     "output_type": "execute_result"
    }
   ],
   "source": [
    "prediction.describe()"
   ]
  },
  {
   "cell_type": "code",
   "execution_count": 478,
   "metadata": {
    "ExecuteTime": {
     "end_time": "2019-01-15T22:20:23.463154Z",
     "start_time": "2019-01-15T22:20:23.441324Z"
    }
   },
   "outputs": [
    {
     "data": {
      "text/html": [
       "<div>\n",
       "<style scoped>\n",
       "    .dataframe tbody tr th:only-of-type {\n",
       "        vertical-align: middle;\n",
       "    }\n",
       "\n",
       "    .dataframe tbody tr th {\n",
       "        vertical-align: top;\n",
       "    }\n",
       "\n",
       "    .dataframe thead th {\n",
       "        text-align: right;\n",
       "    }\n",
       "</style>\n",
       "<table border=\"1\" class=\"dataframe\">\n",
       "  <thead>\n",
       "    <tr style=\"text-align: right;\">\n",
       "      <th></th>\n",
       "      <th>dwelltime</th>\n",
       "    </tr>\n",
       "  </thead>\n",
       "  <tbody>\n",
       "    <tr>\n",
       "      <th>count</th>\n",
       "      <td>11711.000000</td>\n",
       "    </tr>\n",
       "    <tr>\n",
       "      <th>mean</th>\n",
       "      <td>140.178038</td>\n",
       "    </tr>\n",
       "    <tr>\n",
       "      <th>std</th>\n",
       "      <td>116.090806</td>\n",
       "    </tr>\n",
       "    <tr>\n",
       "      <th>min</th>\n",
       "      <td>1.000000</td>\n",
       "    </tr>\n",
       "    <tr>\n",
       "      <th>25%</th>\n",
       "      <td>55.000000</td>\n",
       "    </tr>\n",
       "    <tr>\n",
       "      <th>50%</th>\n",
       "      <td>114.000000</td>\n",
       "    </tr>\n",
       "    <tr>\n",
       "      <th>75%</th>\n",
       "      <td>176.000000</td>\n",
       "    </tr>\n",
       "    <tr>\n",
       "      <th>max</th>\n",
       "      <td>719.000000</td>\n",
       "    </tr>\n",
       "  </tbody>\n",
       "</table>\n",
       "</div>"
      ],
      "text/plain": [
       "          dwelltime\n",
       "count  11711.000000\n",
       "mean     140.178038\n",
       "std      116.090806\n",
       "min        1.000000\n",
       "25%       55.000000\n",
       "50%      114.000000\n",
       "75%      176.000000\n",
       "max      719.000000"
      ]
     },
     "execution_count": 478,
     "metadata": {},
     "output_type": "execute_result"
    }
   ],
   "source": [
    "pd.DataFrame(y_train_oh).describe()"
   ]
  },
  {
   "cell_type": "markdown",
   "metadata": {},
   "source": [
    "La prediction semble globalement trop conservative par rapport aux données d'entrainement"
   ]
  },
  {
   "cell_type": "code",
   "execution_count": 479,
   "metadata": {
    "ExecuteTime": {
     "end_time": "2019-01-15T22:20:26.535764Z",
     "start_time": "2019-01-15T22:20:26.060539Z"
    }
   },
   "outputs": [
    {
     "data": {
      "text/plain": [
       "<Figure size 864x432 with 0 Axes>"
      ]
     },
     "metadata": {},
     "output_type": "display_data"
    },
    {
     "data": {
      "image/png": "[encoded data removed]",
      "text/plain": [
       "<Figure size 432x288 with 1 Axes>"
      ]
     },
     "metadata": {},
     "output_type": "display_data"
    }
   ],
   "source": [
    "plt.figure(figsize=(12,6))\n",
    "prediction.plot.hist(bins=50, alpha=0.5, density=True, label=\"Prediction\")\n",
    "#y_train_oh.plot.hist(bins=50, alpha=0.5, density=True, label=\"ytrain\")\n",
    "plt.axvline(np.percentile(prediction,95), color='red')\n",
    "plt.legend()\n",
    "plt.show()"
   ]
  },
  {
   "cell_type": "code",
   "execution_count": 480,
   "metadata": {
    "ExecuteTime": {
     "end_time": "2019-01-15T22:20:28.241344Z",
     "start_time": "2019-01-15T22:20:28.234988Z"
    }
   },
   "outputs": [],
   "source": [
    "lower = prediction.mean()-prediction.std()*1.96\n",
    "upper = prediction.mean()+prediction.std()*1.96"
   ]
  },
  {
   "cell_type": "code",
   "execution_count": 481,
   "metadata": {
    "ExecuteTime": {
     "end_time": "2019-01-15T22:20:29.343751Z",
     "start_time": "2019-01-15T22:20:29.335483Z"
    }
   },
   "outputs": [
    {
     "data": {
      "text/plain": [
       "49.74634704589843"
      ]
     },
     "execution_count": 481,
     "metadata": {},
     "output_type": "execute_result"
    }
   ],
   "source": [
    "np.percentile(prediction,95)"
   ]
  },
  {
   "cell_type": "code",
   "execution_count": 482,
   "metadata": {
    "ExecuteTime": {
     "end_time": "2019-01-15T22:20:30.612817Z",
     "start_time": "2019-01-15T22:20:30.606960Z"
    }
   },
   "outputs": [
    {
     "data": {
      "text/plain": [
       "6.5146046"
      ]
     },
     "execution_count": 482,
     "metadata": {},
     "output_type": "execute_result"
    }
   ],
   "source": [
    "lower[0]"
   ]
  },
  {
   "cell_type": "code",
   "execution_count": 483,
   "metadata": {
    "ExecuteTime": {
     "end_time": "2019-01-15T22:20:35.579009Z",
     "start_time": "2019-01-15T22:20:35.573371Z"
    }
   },
   "outputs": [
    {
     "data": {
      "text/plain": [
       "53.549072"
      ]
     },
     "execution_count": 483,
     "metadata": {},
     "output_type": "execute_result"
    }
   ],
   "source": [
    "upper[0]"
   ]
  },
  {
   "cell_type": "markdown",
   "metadata": {},
   "source": [
    "En suivant une hypothèse gaussienne (trop?) simpliste, 95% des données sont réparties entre 1 et 68 heures de temps de stationnement."
   ]
  },
  {
   "cell_type": "code",
   "execution_count": null,
   "metadata": {},
   "outputs": [],
   "source": []
  }
 ],
 "metadata": {
  "kernelspec": {
   "display_name": "Python 3",
   "language": "python",
   "name": "python3"
  },
  "language_info": {
   "codemirror_mode": {
    "name": "ipython",
    "version": 3
   },
   "file_extension": ".py",
   "mimetype": "text/x-python",
   "name": "python",
   "nbconvert_exporter": "python",
   "pygments_lexer": "ipython3",
   "version": "3.6.5"
  },
  "latex_envs": {
   "LaTeX_envs_menu_present": true,
   "autoclose": false,
   "autocomplete": true,
   "bibliofile": "biblio.bib",
   "cite_by": "apalike",
   "current_citInitial": 1,
   "eqLabelWithNumbers": true,
   "eqNumInitial": 1,
   "hotkeys": {
    "equation": "Ctrl-E",
    "itemize": "Ctrl-I"
   },
   "labels_anchors": false,
   "latex_user_defs": false,
   "report_style_numbering": false,
   "user_envs_cfg": false
  },
  "toc": {
   "base_numbering": 1,
   "nav_menu": {},
   "number_sections": true,
   "sideBar": true,
   "skip_h1_title": false,
   "title_cell": "Table of Contents",
   "title_sidebar": "Contents",
   "toc_cell": false,
   "toc_position": {
    "height": "calc(100% - 180px)",
    "left": "10px",
    "top": "150px",
    "width": "320px"
   },
   "toc_section_display": true,
   "toc_window_display": true
  }
 },
 "nbformat": 4,
 "nbformat_minor": 2
}
